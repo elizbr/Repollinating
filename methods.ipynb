{
 "cells": [
  {
   "cell_type": "code",
   "execution_count": 1,
   "metadata": {},
   "outputs": [],
   "source": [
    "import pandas as pd\n",
    "import ast \n",
    "import pandas as pd \n",
    "import numpy as np \n",
    "import sklearn as skl\n",
    "import networkx as nx\n",
    "import matplotlib.pyplot as plt\n",
    "from operator import itemgetter\n",
    "import math\n",
    "\n",
    "import matplotlib.pyplot as plt\n",
    "import networkx as nx"
   ]
  },
  {
   "cell_type": "code",
   "execution_count": 2,
   "metadata": {},
   "outputs": [],
   "source": [
    "import os\n",
    "#THIS_FOLDER = os.path.dirname(os.path.abspath(__file__))\n",
    "#my_file = os.path.join(THIS_FOLDER, 'myfile.txt')"
   ]
  },
  {
   "cell_type": "code",
   "execution_count": 3,
   "metadata": {},
   "outputs": [],
   "source": [
    "df = pd.read_csv('sampler_671.csv', header =0)"
   ]
  },
  {
   "cell_type": "code",
   "execution_count": 4,
   "metadata": {},
   "outputs": [
    {
     "data": {
      "text/html": [
       "<div>\n",
       "<style scoped>\n",
       "    .dataframe tbody tr th:only-of-type {\n",
       "        vertical-align: middle;\n",
       "    }\n",
       "\n",
       "    .dataframe tbody tr th {\n",
       "        vertical-align: top;\n",
       "    }\n",
       "\n",
       "    .dataframe thead th {\n",
       "        text-align: right;\n",
       "    }\n",
       "</style>\n",
       "<table border=\"1\" class=\"dataframe\">\n",
       "  <thead>\n",
       "    <tr style=\"text-align: right;\">\n",
       "      <th></th>\n",
       "      <th>Unnamed: 0</th>\n",
       "      <th>Unnamed: 0.1</th>\n",
       "      <th>artist</th>\n",
       "      <th>timestamp</th>\n",
       "      <th>similars</th>\n",
       "      <th>tags</th>\n",
       "      <th>track_id</th>\n",
       "      <th>title</th>\n",
       "    </tr>\n",
       "  </thead>\n",
       "  <tbody>\n",
       "    <tr>\n",
       "      <th>0</th>\n",
       "      <td>70530</td>\n",
       "      <td>70530</td>\n",
       "      <td>Caetano Veloso</td>\n",
       "      <td>2011-08-10 11:20:56.295466</td>\n",
       "      <td>[['TRYNMZY12903CA8E1E', 0.541769], ['TRXNTAD12...</td>\n",
       "      <td>[['tropicalia', '100'], ['mpb', '100'], ['ener...</td>\n",
       "      <td>TRJZGTA128F9312D1F</td>\n",
       "      <td>A Luz De Tieta</td>\n",
       "    </tr>\n",
       "    <tr>\n",
       "      <th>1</th>\n",
       "      <td>50410</td>\n",
       "      <td>50410</td>\n",
       "      <td>The Pretenders</td>\n",
       "      <td>2011-08-11 06:36:45.175755</td>\n",
       "      <td>[]</td>\n",
       "      <td>[['rock', '100'], ['acoustic', '100'], ['indie...</td>\n",
       "      <td>TRODUVR128F92E2329</td>\n",
       "      <td>Nothing Breaks Like a Heart</td>\n",
       "    </tr>\n",
       "    <tr>\n",
       "      <th>2</th>\n",
       "      <td>132834</td>\n",
       "      <td>132834</td>\n",
       "      <td>Ultrabeat</td>\n",
       "      <td>2011-08-03 15:03:28.354306</td>\n",
       "      <td>[['TRKTBLX128F428412B', 0.90692], ['TRZBKSJ128...</td>\n",
       "      <td>[['jytakampaa', '100'], ['aerodance', '100'], ...</td>\n",
       "      <td>TRVNTSO128F4284128</td>\n",
       "      <td>1000 Kisses</td>\n",
       "    </tr>\n",
       "    <tr>\n",
       "      <th>3</th>\n",
       "      <td>177084</td>\n",
       "      <td>177084</td>\n",
       "      <td>Holy Fuck</td>\n",
       "      <td>2011-08-08 16:05:11.997170</td>\n",
       "      <td>[['TRBFCSM128F42629F1', 1], ['TRDZTKM128F42629...</td>\n",
       "      <td>[['experimental', '100'], ['alternative', '60'...</td>\n",
       "      <td>TRXJUGX128F42629F8</td>\n",
       "      <td>Bontempi Latin</td>\n",
       "    </tr>\n",
       "    <tr>\n",
       "      <th>4</th>\n",
       "      <td>58690</td>\n",
       "      <td>58690</td>\n",
       "      <td>Arcadia</td>\n",
       "      <td>2011-08-04 07:03:34.630701</td>\n",
       "      <td>[['TRNQLBS128F14571A9', 1], ['TRDLWLL128F14571...</td>\n",
       "      <td>[['80s', '100'], ['new wave', '60'], ['sting',...</td>\n",
       "      <td>TROKVJE128F14571A8</td>\n",
       "      <td>The Promise</td>\n",
       "    </tr>\n",
       "    <tr>\n",
       "      <th>...</th>\n",
       "      <td>...</td>\n",
       "      <td>...</td>\n",
       "      <td>...</td>\n",
       "      <td>...</td>\n",
       "      <td>...</td>\n",
       "      <td>...</td>\n",
       "      <td>...</td>\n",
       "      <td>...</td>\n",
       "    </tr>\n",
       "    <tr>\n",
       "      <th>10688</th>\n",
       "      <td>169069</td>\n",
       "      <td>169069</td>\n",
       "      <td>ATB</td>\n",
       "      <td>2011-08-15 11:43:14.442246</td>\n",
       "      <td>[['TRRDUAO128F14A03E2', 0.896112], ['TRRRTTF12...</td>\n",
       "      <td>[['trance', '100'], ['dance', '36'], ['chillou...</td>\n",
       "      <td>TRXTCJX128F14A03D7</td>\n",
       "      <td>Gentle Melody</td>\n",
       "    </tr>\n",
       "    <tr>\n",
       "      <th>10689</th>\n",
       "      <td>18709</td>\n",
       "      <td>18709</td>\n",
       "      <td>Leon Russell</td>\n",
       "      <td>2011-08-16 01:20:24.691574</td>\n",
       "      <td>[['TRGBOGS128F92C1E7C', 0.932304], ['TREUSOF12...</td>\n",
       "      <td>[['rock', '100'], ['singer-songwriter', '72'],...</td>\n",
       "      <td>TRSDNCP128F92FAACA</td>\n",
       "      <td>Stranger In A Strange Land</td>\n",
       "    </tr>\n",
       "    <tr>\n",
       "      <th>10690</th>\n",
       "      <td>113147</td>\n",
       "      <td>113147</td>\n",
       "      <td>Big Sugar</td>\n",
       "      <td>2011-08-04 22:25:03.454069</td>\n",
       "      <td>[['TRQDZOA128F1467F9F', 0.135547], ['TRBLFCI12...</td>\n",
       "      <td>[['rock', '100'], ['Canadian', '66'], ['blues'...</td>\n",
       "      <td>TRDJFUW12903CE4271</td>\n",
       "      <td>Dear Mr. Fantasy</td>\n",
       "    </tr>\n",
       "    <tr>\n",
       "      <th>10691</th>\n",
       "      <td>47945</td>\n",
       "      <td>47945</td>\n",
       "      <td>Lorez Alexandria</td>\n",
       "      <td>2011-08-01 14:43:12.453855</td>\n",
       "      <td>[['TRDPDRG128F9316A63', 1], ['TRDBZWP128F9316A...</td>\n",
       "      <td>[['jazz', '100'], ['jazz vocal', '100'], ['Blu...</td>\n",
       "      <td>TROJRHA128F9316A67</td>\n",
       "      <td>Angel Eyes</td>\n",
       "    </tr>\n",
       "    <tr>\n",
       "      <th>10692</th>\n",
       "      <td>85132</td>\n",
       "      <td>85132</td>\n",
       "      <td>Get Far</td>\n",
       "      <td>2011-08-10 01:06:41.526357</td>\n",
       "      <td>[['TRQDVUS128F9342D5B', 0.700153], ['TRITYRJ12...</td>\n",
       "      <td>[['dance', '100'], ['electro house', '100'], [...</td>\n",
       "      <td>TRJQUWK128F42347DF</td>\n",
       "      <td>Shining Star (Pornocult Vocal Mix)</td>\n",
       "    </tr>\n",
       "  </tbody>\n",
       "</table>\n",
       "<p>10693 rows × 8 columns</p>\n",
       "</div>"
      ],
      "text/plain": [
       "       Unnamed: 0  Unnamed: 0.1            artist                   timestamp  \\\n",
       "0           70530         70530    Caetano Veloso  2011-08-10 11:20:56.295466   \n",
       "1           50410         50410    The Pretenders  2011-08-11 06:36:45.175755   \n",
       "2          132834        132834         Ultrabeat  2011-08-03 15:03:28.354306   \n",
       "3          177084        177084         Holy Fuck  2011-08-08 16:05:11.997170   \n",
       "4           58690         58690           Arcadia  2011-08-04 07:03:34.630701   \n",
       "...           ...           ...               ...                         ...   \n",
       "10688      169069        169069               ATB  2011-08-15 11:43:14.442246   \n",
       "10689       18709         18709      Leon Russell  2011-08-16 01:20:24.691574   \n",
       "10690      113147        113147         Big Sugar  2011-08-04 22:25:03.454069   \n",
       "10691       47945         47945  Lorez Alexandria  2011-08-01 14:43:12.453855   \n",
       "10692       85132         85132           Get Far  2011-08-10 01:06:41.526357   \n",
       "\n",
       "                                                similars  \\\n",
       "0      [['TRYNMZY12903CA8E1E', 0.541769], ['TRXNTAD12...   \n",
       "1                                                     []   \n",
       "2      [['TRKTBLX128F428412B', 0.90692], ['TRZBKSJ128...   \n",
       "3      [['TRBFCSM128F42629F1', 1], ['TRDZTKM128F42629...   \n",
       "4      [['TRNQLBS128F14571A9', 1], ['TRDLWLL128F14571...   \n",
       "...                                                  ...   \n",
       "10688  [['TRRDUAO128F14A03E2', 0.896112], ['TRRRTTF12...   \n",
       "10689  [['TRGBOGS128F92C1E7C', 0.932304], ['TREUSOF12...   \n",
       "10690  [['TRQDZOA128F1467F9F', 0.135547], ['TRBLFCI12...   \n",
       "10691  [['TRDPDRG128F9316A63', 1], ['TRDBZWP128F9316A...   \n",
       "10692  [['TRQDVUS128F9342D5B', 0.700153], ['TRITYRJ12...   \n",
       "\n",
       "                                                    tags            track_id  \\\n",
       "0      [['tropicalia', '100'], ['mpb', '100'], ['ener...  TRJZGTA128F9312D1F   \n",
       "1      [['rock', '100'], ['acoustic', '100'], ['indie...  TRODUVR128F92E2329   \n",
       "2      [['jytakampaa', '100'], ['aerodance', '100'], ...  TRVNTSO128F4284128   \n",
       "3      [['experimental', '100'], ['alternative', '60'...  TRXJUGX128F42629F8   \n",
       "4      [['80s', '100'], ['new wave', '60'], ['sting',...  TROKVJE128F14571A8   \n",
       "...                                                  ...                 ...   \n",
       "10688  [['trance', '100'], ['dance', '36'], ['chillou...  TRXTCJX128F14A03D7   \n",
       "10689  [['rock', '100'], ['singer-songwriter', '72'],...  TRSDNCP128F92FAACA   \n",
       "10690  [['rock', '100'], ['Canadian', '66'], ['blues'...  TRDJFUW12903CE4271   \n",
       "10691  [['jazz', '100'], ['jazz vocal', '100'], ['Blu...  TROJRHA128F9316A67   \n",
       "10692  [['dance', '100'], ['electro house', '100'], [...  TRJQUWK128F42347DF   \n",
       "\n",
       "                                    title  \n",
       "0                          A Luz De Tieta  \n",
       "1             Nothing Breaks Like a Heart  \n",
       "2                             1000 Kisses  \n",
       "3                          Bontempi Latin  \n",
       "4                             The Promise  \n",
       "...                                   ...  \n",
       "10688                       Gentle Melody  \n",
       "10689          Stranger In A Strange Land  \n",
       "10690                    Dear Mr. Fantasy  \n",
       "10691                          Angel Eyes  \n",
       "10692  Shining Star (Pornocult Vocal Mix)  \n",
       "\n",
       "[10693 rows x 8 columns]"
      ]
     },
     "execution_count": 4,
     "metadata": {},
     "output_type": "execute_result"
    }
   ],
   "source": [
    "df"
   ]
  },
  {
   "cell_type": "code",
   "execution_count": 5,
   "metadata": {},
   "outputs": [],
   "source": [
    "tag_master_list = df.tags.tolist()"
   ]
  },
  {
   "cell_type": "code",
   "execution_count": 6,
   "metadata": {},
   "outputs": [],
   "source": [
    "import ast \n",
    "\n",
    "formatted_tags = [] \n",
    "for track_tags in tag_master_list:\n",
    "    lists = ast.literal_eval(track_tags)\n",
    "    formatted_tags.append(lists)"
   ]
  },
  {
   "cell_type": "code",
   "execution_count": 7,
   "metadata": {},
   "outputs": [
    {
     "data": {
      "text/plain": [
       "list"
      ]
     },
     "execution_count": 7,
     "metadata": {},
     "output_type": "execute_result"
    }
   ],
   "source": [
    "type(formatted_tags[0])"
   ]
  },
  {
   "cell_type": "code",
   "execution_count": 8,
   "metadata": {},
   "outputs": [],
   "source": [
    "df['listed_tags'] = formatted_tags"
   ]
  },
  {
   "cell_type": "code",
   "execution_count": 9,
   "metadata": {},
   "outputs": [
    {
     "name": "stdout",
     "output_type": "stream",
     "text": [
      "['rock', '100']\n",
      "['acoustic', '100']\n",
      "['indie', '100']\n",
      "['reggae', '100']\n",
      "['new wave', '100']\n",
      "['female vocalists', '100']\n",
      "['heartbreak', '100']\n",
      "['the pretenders', '100']\n",
      "['missing her', '100']\n",
      "['M 1', '100']\n",
      "['The Pretenders-Nothing Breaks like a heart', '100']\n",
      "['good', '0']\n"
     ]
    }
   ],
   "source": [
    "row_tags = formatted_tags[1]\n",
    "\n",
    "content = row_tags\n",
    "for indiv_tag in content:\n",
    "    print(indiv_tag)"
   ]
  },
  {
   "cell_type": "code",
   "execution_count": 10,
   "metadata": {},
   "outputs": [],
   "source": [
    "sims_master_list = df.similars.tolist()\n",
    "\n",
    "import ast \n",
    "formatted_sims = [] \n",
    "for track_sims in sims_master_list:\n",
    "    lists = ast.literal_eval(track_sims)\n",
    "    formatted_sims.append(lists)\n",
    "    \n",
    "row_sims = formatted_sims[1]\n",
    "content = row_sims\n",
    "for indiv_sim in content:\n",
    "    print(indiv_sim)"
   ]
  },
  {
   "cell_type": "code",
   "execution_count": 11,
   "metadata": {},
   "outputs": [],
   "source": [
    "df['listed_sims'] = formatted_sims"
   ]
  },
  {
   "cell_type": "code",
   "execution_count": 12,
   "metadata": {},
   "outputs": [
    {
     "data": {
      "text/html": [
       "<div>\n",
       "<style scoped>\n",
       "    .dataframe tbody tr th:only-of-type {\n",
       "        vertical-align: middle;\n",
       "    }\n",
       "\n",
       "    .dataframe tbody tr th {\n",
       "        vertical-align: top;\n",
       "    }\n",
       "\n",
       "    .dataframe thead th {\n",
       "        text-align: right;\n",
       "    }\n",
       "</style>\n",
       "<table border=\"1\" class=\"dataframe\">\n",
       "  <thead>\n",
       "    <tr style=\"text-align: right;\">\n",
       "      <th></th>\n",
       "      <th>Unnamed: 0</th>\n",
       "      <th>Unnamed: 0.1</th>\n",
       "      <th>artist</th>\n",
       "      <th>timestamp</th>\n",
       "      <th>similars</th>\n",
       "      <th>tags</th>\n",
       "      <th>track_id</th>\n",
       "      <th>title</th>\n",
       "      <th>listed_tags</th>\n",
       "      <th>listed_sims</th>\n",
       "    </tr>\n",
       "  </thead>\n",
       "  <tbody>\n",
       "    <tr>\n",
       "      <th>7478</th>\n",
       "      <td>253128</td>\n",
       "      <td>253128</td>\n",
       "      <td>Björk</td>\n",
       "      <td>2011-08-03 19:25:53.648756</td>\n",
       "      <td>[['TRNAQBJ128F42B87E9', 0.0880913], ['TRWSDTJ1...</td>\n",
       "      <td>[['electronic', '100'], ['alternative', '76'],...</td>\n",
       "      <td>TRYLMAS128F931A0E4</td>\n",
       "      <td>Alarm Call</td>\n",
       "      <td>[[electronic, 100], [alternative, 76], [experi...</td>\n",
       "      <td>[[TRNAQBJ128F42B87E9, 0.0880913], [TRWSDTJ128F...</td>\n",
       "    </tr>\n",
       "  </tbody>\n",
       "</table>\n",
       "</div>"
      ],
      "text/plain": [
       "      Unnamed: 0  Unnamed: 0.1 artist                   timestamp  \\\n",
       "7478      253128        253128  Björk  2011-08-03 19:25:53.648756   \n",
       "\n",
       "                                               similars  \\\n",
       "7478  [['TRNAQBJ128F42B87E9', 0.0880913], ['TRWSDTJ1...   \n",
       "\n",
       "                                                   tags            track_id  \\\n",
       "7478  [['electronic', '100'], ['alternative', '76'],...  TRYLMAS128F931A0E4   \n",
       "\n",
       "           title                                        listed_tags  \\\n",
       "7478  Alarm Call  [[electronic, 100], [alternative, 76], [experi...   \n",
       "\n",
       "                                            listed_sims  \n",
       "7478  [[TRNAQBJ128F42B87E9, 0.0880913], [TRWSDTJ128F...  "
      ]
     },
     "execution_count": 12,
     "metadata": {},
     "output_type": "execute_result"
    }
   ],
   "source": [
    "df[ df.artist == 'Björk'] #253128"
   ]
  },
  {
   "cell_type": "markdown",
   "metadata": {},
   "source": [
    "### Networks Approach"
   ]
  },
  {
   "cell_type": "code",
   "execution_count": 13,
   "metadata": {},
   "outputs": [],
   "source": [
    "import pandas as pd \n",
    "import numpy as np \n",
    "import sklearn as skl\n",
    "import networkx as nx\n",
    "import matplotlib.pyplot as plt"
   ]
  },
  {
   "cell_type": "markdown",
   "metadata": {},
   "source": [
    "#### Prepare the Edgelist"
   ]
  },
  {
   "cell_type": "code",
   "execution_count": 14,
   "metadata": {},
   "outputs": [],
   "source": [
    "adds = []\n",
    "for index, row in df.iterrows():\n",
    "    fromN = row.track_id\n",
    "    f = ast.literal_eval(row.similars)\n",
    "    for x in f:\n",
    "        toN = x[0]\n",
    "        wght = x[1]\n",
    "        instance_dict = {\n",
    "            'from_node': fromN,\n",
    "            'to_node': toN,\n",
    "            'weight': wght\n",
    "        }\n",
    "        adds.append(instance_dict)\n",
    "        \n",
    "edge_list = pd.DataFrame(adds)"
   ]
  },
  {
   "cell_type": "code",
   "execution_count": 15,
   "metadata": {},
   "outputs": [
    {
     "data": {
      "text/html": [
       "<div>\n",
       "<style scoped>\n",
       "    .dataframe tbody tr th:only-of-type {\n",
       "        vertical-align: middle;\n",
       "    }\n",
       "\n",
       "    .dataframe tbody tr th {\n",
       "        vertical-align: top;\n",
       "    }\n",
       "\n",
       "    .dataframe thead th {\n",
       "        text-align: right;\n",
       "    }\n",
       "</style>\n",
       "<table border=\"1\" class=\"dataframe\">\n",
       "  <thead>\n",
       "    <tr style=\"text-align: right;\">\n",
       "      <th></th>\n",
       "      <th>from_node</th>\n",
       "      <th>to_node</th>\n",
       "      <th>weight</th>\n",
       "    </tr>\n",
       "  </thead>\n",
       "  <tbody>\n",
       "    <tr>\n",
       "      <th>751759</th>\n",
       "      <td>TRKTLLH128F148ADE4</td>\n",
       "      <td>TRYQFCW12903CE3056</td>\n",
       "      <td>0.176832</td>\n",
       "    </tr>\n",
       "  </tbody>\n",
       "</table>\n",
       "</div>"
      ],
      "text/plain": [
       "                 from_node             to_node    weight\n",
       "751759  TRKTLLH128F148ADE4  TRYQFCW12903CE3056  0.176832"
      ]
     },
     "execution_count": 15,
     "metadata": {},
     "output_type": "execute_result"
    }
   ],
   "source": [
    "edge_list.sample()"
   ]
  },
  {
   "cell_type": "code",
   "execution_count": 16,
   "metadata": {},
   "outputs": [
    {
     "name": "stdout",
     "output_type": "stream",
     "text": [
      "910492 910492\n"
     ]
    }
   ],
   "source": [
    "print(len(edge_list), len(edge_list.drop_duplicates()))"
   ]
  },
  {
   "cell_type": "code",
   "execution_count": 17,
   "metadata": {},
   "outputs": [
    {
     "data": {
      "text/plain": [
       "114340249"
      ]
     },
     "execution_count": 17,
     "metadata": {},
     "output_type": "execute_result"
    }
   ],
   "source": [
    "10693**2"
   ]
  },
  {
   "cell_type": "markdown",
   "metadata": {},
   "source": [
    "### Use Networkx to invent Graph"
   ]
  },
  {
   "cell_type": "code",
   "execution_count": 18,
   "metadata": {},
   "outputs": [],
   "source": [
    "G = nx.from_pandas_edgelist(edge_list, 'from_node', 'to_node', create_using=nx.DiGraph())"
   ]
  },
  {
   "cell_type": "code",
   "execution_count": 19,
   "metadata": {},
   "outputs": [
    {
     "name": "stdout",
     "output_type": "stream",
     "text": [
      "There are 274914 tracks present in the network.\n",
      "And– 910491 connections.\n"
     ]
    }
   ],
   "source": [
    "print(f\"There are {len(G.nodes)} tracks present in the network.\")\n",
    "print(f\"And– {len(G.edges)} connections.\")"
   ]
  },
  {
   "cell_type": "code",
   "execution_count": 21,
   "metadata": {},
   "outputs": [],
   "source": [
    "#nx.average_shortest_path_length(G) #Graph is not weakly connected. "
   ]
  },
  {
   "cell_type": "code",
   "execution_count": 22,
   "metadata": {},
   "outputs": [
    {
     "name": "stdout",
     "output_type": "stream",
     "text": [
      " the transitivity for the amazon dataset is 0.004.\n"
     ]
    }
   ],
   "source": [
    "#transivity \n",
    "print(f\" the transitivity for the amazon dataset is {round(nx.transitivity(G), 3)}.\")"
   ]
  },
  {
   "cell_type": "code",
   "execution_count": 23,
   "metadata": {},
   "outputs": [
    {
     "name": "stdout",
     "output_type": "stream",
     "text": [
      " The clustering coefficient for the dataset is: 0.05.\n"
     ]
    }
   ],
   "source": [
    "print(f\" The clustering coefficient for the dataset is: {round(nx.average_clustering(G), 3)}.\")"
   ]
  },
  {
   "cell_type": "code",
   "execution_count": 24,
   "metadata": {},
   "outputs": [
    {
     "data": {
      "text/plain": [
       "{'TRAVMBN12903CB87F4': 5.416464030629101e-06,\n",
       " 'TRXKCMA128F4265A46': 5.417054677894213e-06}"
      ]
     },
     "execution_count": 24,
     "metadata": {},
     "output_type": "execute_result"
    }
   ],
   "source": [
    "#pr = nx.pagerank(G) %%% \n",
    "pr = nx.pagerank(G, alpha=0.5, personalization=None, max_iter=100, tol=1e-06, nstart=None, weight='weight', dangling=None)\n",
    "\n",
    "{k: v for k, v in sorted(pr.items(), key=lambda item: item[1])[-3:-1]} #[-11:-1]"
   ]
  },
  {
   "cell_type": "code",
   "execution_count": 25,
   "metadata": {},
   "outputs": [
    {
     "data": {
      "text/html": [
       "<div>\n",
       "<style scoped>\n",
       "    .dataframe tbody tr th:only-of-type {\n",
       "        vertical-align: middle;\n",
       "    }\n",
       "\n",
       "    .dataframe tbody tr th {\n",
       "        vertical-align: top;\n",
       "    }\n",
       "\n",
       "    .dataframe thead th {\n",
       "        text-align: right;\n",
       "    }\n",
       "</style>\n",
       "<table border=\"1\" class=\"dataframe\">\n",
       "  <thead>\n",
       "    <tr style=\"text-align: right;\">\n",
       "      <th></th>\n",
       "      <th>Unnamed: 0</th>\n",
       "      <th>Unnamed: 0.1</th>\n",
       "      <th>artist</th>\n",
       "      <th>timestamp</th>\n",
       "      <th>similars</th>\n",
       "      <th>tags</th>\n",
       "      <th>track_id</th>\n",
       "      <th>title</th>\n",
       "      <th>listed_tags</th>\n",
       "      <th>listed_sims</th>\n",
       "    </tr>\n",
       "  </thead>\n",
       "  <tbody>\n",
       "  </tbody>\n",
       "</table>\n",
       "</div>"
      ],
      "text/plain": [
       "Empty DataFrame\n",
       "Columns: [Unnamed: 0, Unnamed: 0.1, artist, timestamp, similars, tags, track_id, title, listed_tags, listed_sims]\n",
       "Index: []"
      ]
     },
     "execution_count": 25,
     "metadata": {},
     "output_type": "execute_result"
    }
   ],
   "source": [
    "top_list = [\n",
    "    'TRCSBDF128F423CCB2',\n",
    " 'TRZCAHK128F931E72E',\n",
    " 'TRHBHSM12903D056D2',\n",
    " 'TRITONL128F42424DB',\n",
    " 'TRCPWIH128F42424E1',\n",
    " 'TRBXCZI128F14A08A1',\n",
    " 'TRDRSFC128F14A089A',\n",
    " 'TRLOESW128F93347F7',\n",
    " 'TRJAPTT12903CC4719',\n",
    " 'TRSVPXJ12903CC471B',\n",
    " 'TRKLPPN12903CB411B',\n",
    " 'TRPJIIW128F9309E25',\n",
    " 'TRYOQJH128F9309E22',\n",
    " 'TRADEIK12903CB6152',\n",
    " 'TRMDYTB128F426B4E1',\n",
    " 'TRUMMTH128F426CE32',\n",
    " 'TROSTAP128F931DD06',\n",
    " 'TRWIJDT128F931DD0D',\n",
    " 'TRWREWI128F42424D5',\n",
    " 'TRWDLUW128F1478028',\n",
    " 'TRXHNXQ128F42424D8',\n",
    " 'TRJXTQV12903CCC049',\n",
    " 'TRRISDR128F9334923',\n",
    " 'TRHMLFF128F1478023',\n",
    " 'TRYTDTM128F4213000',\n",
    " 'TRKSSKL128F9308E69',\n",
    " 'TRAJCVA128F426C51D',\n",
    " 'TRRGHXD12903CEAD58',\n",
    " 'TRAVMBN12903CB87F4',\n",
    " 'TRXKCMA128F4265A46'  \n",
    "]\n",
    "\n",
    "df[ df['track_id'].isin(top_list)]"
   ]
  },
  {
   "cell_type": "code",
   "execution_count": 26,
   "metadata": {},
   "outputs": [
    {
     "data": {
      "text/html": [
       "<div>\n",
       "<style scoped>\n",
       "    .dataframe tbody tr th:only-of-type {\n",
       "        vertical-align: middle;\n",
       "    }\n",
       "\n",
       "    .dataframe tbody tr th {\n",
       "        vertical-align: top;\n",
       "    }\n",
       "\n",
       "    .dataframe thead th {\n",
       "        text-align: right;\n",
       "    }\n",
       "</style>\n",
       "<table border=\"1\" class=\"dataframe\">\n",
       "  <thead>\n",
       "    <tr style=\"text-align: right;\">\n",
       "      <th></th>\n",
       "      <th>from_node</th>\n",
       "      <th>to_node</th>\n",
       "      <th>weight</th>\n",
       "    </tr>\n",
       "  </thead>\n",
       "  <tbody>\n",
       "    <tr>\n",
       "      <th>0</th>\n",
       "      <td>TRJZGTA128F9312D1F</td>\n",
       "      <td>TRYNMZY12903CA8E1E</td>\n",
       "      <td>0.541769</td>\n",
       "    </tr>\n",
       "    <tr>\n",
       "      <th>1</th>\n",
       "      <td>TRJZGTA128F9312D1F</td>\n",
       "      <td>TRXNTAD128F425FC67</td>\n",
       "      <td>0.343002</td>\n",
       "    </tr>\n",
       "    <tr>\n",
       "      <th>2</th>\n",
       "      <td>TRJZGTA128F9312D1F</td>\n",
       "      <td>TRWJXZZ128F1478671</td>\n",
       "      <td>0.328282</td>\n",
       "    </tr>\n",
       "    <tr>\n",
       "      <th>3</th>\n",
       "      <td>TRJZGTA128F9312D1F</td>\n",
       "      <td>TRVWDBJ128F42589A2</td>\n",
       "      <td>0.317476</td>\n",
       "    </tr>\n",
       "    <tr>\n",
       "      <th>4</th>\n",
       "      <td>TRJZGTA128F9312D1F</td>\n",
       "      <td>TRPGHHB128F92EE209</td>\n",
       "      <td>0.303829</td>\n",
       "    </tr>\n",
       "    <tr>\n",
       "      <th>...</th>\n",
       "      <td>...</td>\n",
       "      <td>...</td>\n",
       "      <td>...</td>\n",
       "    </tr>\n",
       "    <tr>\n",
       "      <th>910487</th>\n",
       "      <td>TRJQUWK128F42347DF</td>\n",
       "      <td>TRRPVKU12903CC7608</td>\n",
       "      <td>0.016234</td>\n",
       "    </tr>\n",
       "    <tr>\n",
       "      <th>910488</th>\n",
       "      <td>TRJQUWK128F42347DF</td>\n",
       "      <td>TRQIHPA12903D07A2A</td>\n",
       "      <td>0.016234</td>\n",
       "    </tr>\n",
       "    <tr>\n",
       "      <th>910489</th>\n",
       "      <td>TRJQUWK128F42347DF</td>\n",
       "      <td>TRALJVF12903D0758D</td>\n",
       "      <td>0.016234</td>\n",
       "    </tr>\n",
       "    <tr>\n",
       "      <th>910490</th>\n",
       "      <td>TRJQUWK128F42347DF</td>\n",
       "      <td>TRKYIMX128F93284FD</td>\n",
       "      <td>0.016234</td>\n",
       "    </tr>\n",
       "    <tr>\n",
       "      <th>910491</th>\n",
       "      <td>TRJQUWK128F42347DF</td>\n",
       "      <td>TRYNEKM12903CFCEEF</td>\n",
       "      <td>0.016234</td>\n",
       "    </tr>\n",
       "  </tbody>\n",
       "</table>\n",
       "<p>910492 rows × 3 columns</p>\n",
       "</div>"
      ],
      "text/plain": [
       "                 from_node             to_node    weight\n",
       "0       TRJZGTA128F9312D1F  TRYNMZY12903CA8E1E  0.541769\n",
       "1       TRJZGTA128F9312D1F  TRXNTAD128F425FC67  0.343002\n",
       "2       TRJZGTA128F9312D1F  TRWJXZZ128F1478671  0.328282\n",
       "3       TRJZGTA128F9312D1F  TRVWDBJ128F42589A2  0.317476\n",
       "4       TRJZGTA128F9312D1F  TRPGHHB128F92EE209  0.303829\n",
       "...                    ...                 ...       ...\n",
       "910487  TRJQUWK128F42347DF  TRRPVKU12903CC7608  0.016234\n",
       "910488  TRJQUWK128F42347DF  TRQIHPA12903D07A2A  0.016234\n",
       "910489  TRJQUWK128F42347DF  TRALJVF12903D0758D  0.016234\n",
       "910490  TRJQUWK128F42347DF  TRKYIMX128F93284FD  0.016234\n",
       "910491  TRJQUWK128F42347DF  TRYNEKM12903CFCEEF  0.016234\n",
       "\n",
       "[910492 rows x 3 columns]"
      ]
     },
     "execution_count": 26,
     "metadata": {},
     "output_type": "execute_result"
    }
   ],
   "source": [
    "edge_list"
   ]
  },
  {
   "cell_type": "code",
   "execution_count": 27,
   "metadata": {},
   "outputs": [],
   "source": [
    "all = df.track_id"
   ]
  },
  {
   "cell_type": "code",
   "execution_count": 28,
   "metadata": {},
   "outputs": [],
   "source": [
    "edge_list['contained'] = edge_list.to_node.isin(df.track_id).astype(str)"
   ]
  },
  {
   "cell_type": "code",
   "execution_count": 29,
   "metadata": {},
   "outputs": [],
   "source": [
    "from sklearn import preprocessing\n",
    "le = preprocessing.LabelEncoder()\n",
    "le.fit(edge_list['contained'])\n",
    "le.classes_\n",
    "\n",
    "edge_list['contained'] = le.transform(edge_list['contained'])\n",
    "\n",
    "#le.inverse_transform([0, 0, 1, 2])\n",
    "\n",
    "#selected_edges = edge_list[ edge_list.contained == 1 ]"
   ]
  },
  {
   "cell_type": "code",
   "execution_count": 30,
   "metadata": {},
   "outputs": [],
   "source": [
    "selected_edges = edge_list[ edge_list.contained == 1 ]"
   ]
  },
  {
   "cell_type": "markdown",
   "metadata": {},
   "source": [
    "250,000 are being referenced when the same is only 10,000. \n",
    "Instead, trying to limit graph to only nodes where to_node is also in sample data. "
   ]
  },
  {
   "cell_type": "code",
   "execution_count": 31,
   "metadata": {},
   "outputs": [],
   "source": [
    "G = nx.from_pandas_edgelist(selected_edges, 'from_node', 'to_node', create_using=nx.DiGraph())"
   ]
  },
  {
   "cell_type": "code",
   "execution_count": 32,
   "metadata": {},
   "outputs": [],
   "source": [
    "node_list = list(G.nodes())"
   ]
  },
  {
   "cell_type": "code",
   "execution_count": 33,
   "metadata": {},
   "outputs": [],
   "source": [
    "clusters = nx.clustering( G )\n",
    "PageRank = nx.pagerank( G, alpha= .5 )\n",
    "DegreeCentrality = nx.closeness_centrality( G )"
   ]
  },
  {
   "cell_type": "code",
   "execution_count": 34,
   "metadata": {},
   "outputs": [],
   "source": [
    "CloseCentrality = nx.closeness_centrality( G )\n",
    "BetweenessCentrality = nx.betweenness_centrality( G )\n",
    "Degree = dict( G.degree ) # a simplified scoring of connectivity \n",
    "HaromicCentrality = nx.harmonic_centrality( G )\n",
    "\n",
    "#I did some explorations with Harmonic Centrality, but it does \n",
    "#not clearly translate to node / local scoring I found. "
   ]
  },
  {
   "cell_type": "code",
   "execution_count": 35,
   "metadata": {},
   "outputs": [
    {
     "data": {
      "text/plain": [
       "'from matplotlib.pyplot import figure\\nfigure(figsize=(10, 8))\\nnx.draw(G, node_size= 5 ,with_labels=False, node_color=\\'#b88fbf\\')\\n\\n# plt.show()\\nplt.savefig(\"Network_graph.png\", format=\"PNG\")'"
      ]
     },
     "execution_count": 35,
     "metadata": {},
     "output_type": "execute_result"
    }
   ],
   "source": [
    "\"\"\"from matplotlib.pyplot import figure\n",
    "figure(figsize=(10, 8))\n",
    "nx.draw(G, node_size= 5 ,with_labels=False, node_color='#b88fbf')\n",
    "\n",
    "# plt.show()\n",
    "plt.savefig(\"Network_graph.png\", format=\"PNG\")\"\"\""
   ]
  },
  {
   "cell_type": "code",
   "execution_count": 36,
   "metadata": {},
   "outputs": [
    {
     "data": {
      "text/html": [
       "<div>\n",
       "<style scoped>\n",
       "    .dataframe tbody tr th:only-of-type {\n",
       "        vertical-align: middle;\n",
       "    }\n",
       "\n",
       "    .dataframe tbody tr th {\n",
       "        vertical-align: top;\n",
       "    }\n",
       "\n",
       "    .dataframe thead th {\n",
       "        text-align: right;\n",
       "    }\n",
       "</style>\n",
       "<table border=\"1\" class=\"dataframe\">\n",
       "  <thead>\n",
       "    <tr style=\"text-align: right;\">\n",
       "      <th></th>\n",
       "      <th>track_id</th>\n",
       "      <th>Cluster</th>\n",
       "      <th>PageRank</th>\n",
       "      <th>DegreeCentrality</th>\n",
       "      <th>ClosenessCentrality</th>\n",
       "      <th>BetweennessCentrality</th>\n",
       "      <th>Degree</th>\n",
       "    </tr>\n",
       "  </thead>\n",
       "  <tbody>\n",
       "    <tr>\n",
       "      <th>3141</th>\n",
       "      <td>TRVXODA128F92C44AF</td>\n",
       "      <td>0.00000</td>\n",
       "      <td>0.000091</td>\n",
       "      <td>0.000132</td>\n",
       "      <td>0.000132</td>\n",
       "      <td>3.760355e-05</td>\n",
       "      <td>2</td>\n",
       "    </tr>\n",
       "    <tr>\n",
       "      <th>3637</th>\n",
       "      <td>TRDJIKZ128EF343C43</td>\n",
       "      <td>0.00000</td>\n",
       "      <td>0.000073</td>\n",
       "      <td>0.000000</td>\n",
       "      <td>0.000000</td>\n",
       "      <td>0.000000e+00</td>\n",
       "      <td>3</td>\n",
       "    </tr>\n",
       "    <tr>\n",
       "      <th>4016</th>\n",
       "      <td>TRXWJYF128F4259980</td>\n",
       "      <td>0.00000</td>\n",
       "      <td>0.000113</td>\n",
       "      <td>0.000330</td>\n",
       "      <td>0.000330</td>\n",
       "      <td>0.000000e+00</td>\n",
       "      <td>2</td>\n",
       "    </tr>\n",
       "    <tr>\n",
       "      <th>2770</th>\n",
       "      <td>TRVFCWE12903CB0413</td>\n",
       "      <td>0.00000</td>\n",
       "      <td>0.000310</td>\n",
       "      <td>0.038263</td>\n",
       "      <td>0.038263</td>\n",
       "      <td>3.465066e-04</td>\n",
       "      <td>4</td>\n",
       "    </tr>\n",
       "    <tr>\n",
       "      <th>148</th>\n",
       "      <td>TRORLEN128F92F41C9</td>\n",
       "      <td>0.30303</td>\n",
       "      <td>0.000276</td>\n",
       "      <td>0.001002</td>\n",
       "      <td>0.001002</td>\n",
       "      <td>5.488933e-07</td>\n",
       "      <td>9</td>\n",
       "    </tr>\n",
       "  </tbody>\n",
       "</table>\n",
       "</div>"
      ],
      "text/plain": [
       "                track_id  Cluster  PageRank  DegreeCentrality  \\\n",
       "3141  TRVXODA128F92C44AF  0.00000  0.000091          0.000132   \n",
       "3637  TRDJIKZ128EF343C43  0.00000  0.000073          0.000000   \n",
       "4016  TRXWJYF128F4259980  0.00000  0.000113          0.000330   \n",
       "2770  TRVFCWE12903CB0413  0.00000  0.000310          0.038263   \n",
       "148   TRORLEN128F92F41C9  0.30303  0.000276          0.001002   \n",
       "\n",
       "      ClosenessCentrality  BetweennessCentrality  Degree  \n",
       "3141             0.000132           3.760355e-05       2  \n",
       "3637             0.000000           0.000000e+00       3  \n",
       "4016             0.000330           0.000000e+00       2  \n",
       "2770             0.038263           3.465066e-04       4  \n",
       "148              0.001002           5.488933e-07       9  "
      ]
     },
     "execution_count": 36,
     "metadata": {},
     "output_type": "execute_result"
    }
   ],
   "source": [
    "complete = [] # will gather row by row the scores \n",
    "\n",
    "for node in list(G.nodes()):\n",
    "  row_complete = {} #add all scores for row to dict \n",
    "  row_complete['track_id'] = node\n",
    "  try:\n",
    "    row_complete['Cluster'] = clusters[ node ] \n",
    "    row_complete['PageRank'] = PageRank[ node ]\n",
    "    row_complete['DegreeCentrality'] = DegreeCentrality[ node ]\n",
    "    row_complete['ClosenessCentrality'] = CloseCentrality[ node ]\n",
    "    row_complete['BetweennessCentrality'] = BetweenessCentrality[ node ]\n",
    "    row_complete['Degree'] = Degree[ node ]\n",
    "    #row_complete['Partion'] = Partion[ node ]\n",
    "    \n",
    "    #try:\n",
    "      #row_complete['HarmonicCentrality'] = HarmonicCentrality[ node ]\n",
    "      #row_complete['AvgNodeConnectivity'] = AvgNodeConnectivity[ node ]\n",
    "    #except:\n",
    "      #row_complete['HarmonicCentrality'] = np.nan\n",
    "\n",
    "  except:\n",
    "    # this block really became necessary when I was trying out different\n",
    "    # 'out there' scoring methods \n",
    "    row_complete['Cluster'] = np.nan \n",
    "    row_complete['PageRank'] = np.nan \n",
    "    row_complete['DegreeCentrality'] = np.nan \n",
    "    row_complete['ClosenessCentrality'] = np.nan \n",
    "    row_complete['BetweennessCentrality'] = np.nan \n",
    "    row_complete['Degree'] = np.nan \n",
    "    #row_complete['Partion'] = np.nan \n",
    "    #row_complete['HarmonicCentrality'] = np.nan \n",
    "    #row_complete['AvgNodeConnectivity'] = np.nan\n",
    "    \n",
    "  complete.append(row_complete)\n",
    "\n",
    "TWO = pd.DataFrame.from_dict(complete, orient='columns')\n",
    "\n",
    "TWO.sample(5)"
   ]
  },
  {
   "cell_type": "code",
   "execution_count": 37,
   "metadata": {},
   "outputs": [],
   "source": [
    "three = pd.merge(left = df, right = TWO, how = 'left', on = 'track_id')"
   ]
  },
  {
   "cell_type": "code",
   "execution_count": 38,
   "metadata": {},
   "outputs": [
    {
     "data": {
      "text/plain": [
       "Index(['Unnamed: 0', 'Unnamed: 0.1', 'artist', 'timestamp', 'similars', 'tags',\n",
       "       'track_id', 'title', 'listed_tags', 'listed_sims', 'Cluster',\n",
       "       'PageRank', 'DegreeCentrality', 'ClosenessCentrality',\n",
       "       'BetweennessCentrality', 'Degree'],\n",
       "      dtype='object')"
      ]
     },
     "execution_count": 38,
     "metadata": {},
     "output_type": "execute_result"
    }
   ],
   "source": [
    "three.columns"
   ]
  },
  {
   "cell_type": "code",
   "execution_count": 39,
   "metadata": {},
   "outputs": [
    {
     "data": {
      "text/plain": [
       "<AxesSubplot:>"
      ]
     },
     "execution_count": 39,
     "metadata": {},
     "output_type": "execute_result"
    },
    {
     "data": {
      "image/png": "[encoded data removed]",
      "text/plain": [
       "<Figure size 432x288 with 2 Axes>"
      ]
     },
     "metadata": {
      "needs_background": "light"
     },
     "output_type": "display_data"
    }
   ],
   "source": [
    "###Let's check out correlation in coefficients before we begin to fit models \n",
    "import seaborn as sns\n",
    "import numpy as np\n",
    "import pandas as pd\n",
    "import matplotlib.pyplot as plt\n",
    "\n",
    "sns.heatmap(three.drop(columns = ['Unnamed: 0', 'Unnamed: 0.1', 'artist', 'timestamp', 'similars', 'tags',\n",
    "       'track_id', 'title', 'listed_tags']).corr(), annot = True, fmt='.1g', vmin=-1, \n",
    "        vmax=1, center= 0)"
   ]
  },
  {
   "cell_type": "code",
   "execution_count": 40,
   "metadata": {},
   "outputs": [
    {
     "data": {
      "text/html": [
       "<div>\n",
       "<style scoped>\n",
       "    .dataframe tbody tr th:only-of-type {\n",
       "        vertical-align: middle;\n",
       "    }\n",
       "\n",
       "    .dataframe tbody tr th {\n",
       "        vertical-align: top;\n",
       "    }\n",
       "\n",
       "    .dataframe thead th {\n",
       "        text-align: right;\n",
       "    }\n",
       "</style>\n",
       "<table border=\"1\" class=\"dataframe\">\n",
       "  <thead>\n",
       "    <tr style=\"text-align: right;\">\n",
       "      <th></th>\n",
       "      <th>Unnamed: 0</th>\n",
       "      <th>Unnamed: 0.1</th>\n",
       "      <th>artist</th>\n",
       "      <th>timestamp</th>\n",
       "      <th>similars</th>\n",
       "      <th>tags</th>\n",
       "      <th>track_id</th>\n",
       "      <th>title</th>\n",
       "      <th>listed_tags</th>\n",
       "      <th>listed_sims</th>\n",
       "      <th>Cluster</th>\n",
       "      <th>PageRank</th>\n",
       "      <th>DegreeCentrality</th>\n",
       "      <th>ClosenessCentrality</th>\n",
       "      <th>BetweennessCentrality</th>\n",
       "      <th>Degree</th>\n",
       "    </tr>\n",
       "  </thead>\n",
       "  <tbody>\n",
       "    <tr>\n",
       "      <th>9541</th>\n",
       "      <td>27192</td>\n",
       "      <td>27192</td>\n",
       "      <td>Matmatah</td>\n",
       "      <td>2011-08-12 06:39:55.013929</td>\n",
       "      <td>[['TRQVLNX128F92E6F67', 0.951539], ['TRKLPQI12...</td>\n",
       "      <td>[['rock', '100'], ['rock francais', '57'], ['c...</td>\n",
       "      <td>TRSKPWL128F92E6F6D</td>\n",
       "      <td>Derrière Ton Dos</td>\n",
       "      <td>[[rock, 100], [rock francais, 57], [chanson fr...</td>\n",
       "      <td>[[TRQVLNX128F92E6F67, 0.951539], [TRKLPQI128F4...</td>\n",
       "      <td>0.117188</td>\n",
       "      <td>0.000182</td>\n",
       "      <td>0.037963</td>\n",
       "      <td>0.037963</td>\n",
       "      <td>0.001652</td>\n",
       "      <td>12.0</td>\n",
       "    </tr>\n",
       "    <tr>\n",
       "      <th>2054</th>\n",
       "      <td>1008</td>\n",
       "      <td>1008</td>\n",
       "      <td>Yelle</td>\n",
       "      <td>2011-08-08 19:00:39.351592</td>\n",
       "      <td>[]</td>\n",
       "      <td>[['club misfits', '100']]</td>\n",
       "      <td>TRSRKGQ128F9320636</td>\n",
       "      <td>A Cause Des Garçons (Punks Jump Up Remix)</td>\n",
       "      <td>[[club misfits, 100]]</td>\n",
       "      <td>[]</td>\n",
       "      <td>NaN</td>\n",
       "      <td>NaN</td>\n",
       "      <td>NaN</td>\n",
       "      <td>NaN</td>\n",
       "      <td>NaN</td>\n",
       "      <td>NaN</td>\n",
       "    </tr>\n",
       "    <tr>\n",
       "      <th>4871</th>\n",
       "      <td>178574</td>\n",
       "      <td>178574</td>\n",
       "      <td>Bryan Kearney</td>\n",
       "      <td>2011-09-07 18:16:55.034932</td>\n",
       "      <td>[]</td>\n",
       "      <td>[['trance', '100'], ['electronic', '100']]</td>\n",
       "      <td>TRXCTRD128F92D6E89</td>\n",
       "      <td>The Walrus</td>\n",
       "      <td>[[trance, 100], [electronic, 100]]</td>\n",
       "      <td>[]</td>\n",
       "      <td>NaN</td>\n",
       "      <td>NaN</td>\n",
       "      <td>NaN</td>\n",
       "      <td>NaN</td>\n",
       "      <td>NaN</td>\n",
       "      <td>NaN</td>\n",
       "    </tr>\n",
       "    <tr>\n",
       "      <th>1025</th>\n",
       "      <td>84216</td>\n",
       "      <td>84216</td>\n",
       "      <td>The Sensational Alex Harvey Band</td>\n",
       "      <td>2011-08-03 02:52:22.394495</td>\n",
       "      <td>[['TRZSXBS128F4268C9C', 0.077963], ['TRSRUTU12...</td>\n",
       "      <td>[['hard rock', '100'], ['rock', '50'], ['class...</td>\n",
       "      <td>TRJVAIH128F92CAE4B</td>\n",
       "      <td>Hole In Her Stocking</td>\n",
       "      <td>[[hard rock, 100], [rock, 50], [classic rock, ...</td>\n",
       "      <td>[[TRZSXBS128F4268C9C, 0.077963], [TRSRUTU128F4...</td>\n",
       "      <td>0.023256</td>\n",
       "      <td>0.000181</td>\n",
       "      <td>0.065253</td>\n",
       "      <td>0.065253</td>\n",
       "      <td>0.000844</td>\n",
       "      <td>10.0</td>\n",
       "    </tr>\n",
       "    <tr>\n",
       "      <th>6315</th>\n",
       "      <td>162074</td>\n",
       "      <td>162074</td>\n",
       "      <td>Celelalte cuvinte</td>\n",
       "      <td>2011-08-08 11:53:20.623725</td>\n",
       "      <td>[['TRQVJWV128F422766C', 1], ['TRCXRLW128F42276...</td>\n",
       "      <td>[['romanian rock', '100'], ['rock romanesc', '...</td>\n",
       "      <td>TRXRPDF128F4227665</td>\n",
       "      <td>Zodia (Astrological Sign)</td>\n",
       "      <td>[[romanian rock, 100], [rock romanesc, 100], [...</td>\n",
       "      <td>[[TRQVJWV128F422766C, 1], [TRCXRLW128F4227668,...</td>\n",
       "      <td>NaN</td>\n",
       "      <td>NaN</td>\n",
       "      <td>NaN</td>\n",
       "      <td>NaN</td>\n",
       "      <td>NaN</td>\n",
       "      <td>NaN</td>\n",
       "    </tr>\n",
       "  </tbody>\n",
       "</table>\n",
       "</div>"
      ],
      "text/plain": [
       "      Unnamed: 0  Unnamed: 0.1                            artist  \\\n",
       "9541       27192         27192                          Matmatah   \n",
       "2054        1008          1008                             Yelle   \n",
       "4871      178574        178574                     Bryan Kearney   \n",
       "1025       84216         84216  The Sensational Alex Harvey Band   \n",
       "6315      162074        162074                 Celelalte cuvinte   \n",
       "\n",
       "                       timestamp  \\\n",
       "9541  2011-08-12 06:39:55.013929   \n",
       "2054  2011-08-08 19:00:39.351592   \n",
       "4871  2011-09-07 18:16:55.034932   \n",
       "1025  2011-08-03 02:52:22.394495   \n",
       "6315  2011-08-08 11:53:20.623725   \n",
       "\n",
       "                                               similars  \\\n",
       "9541  [['TRQVLNX128F92E6F67', 0.951539], ['TRKLPQI12...   \n",
       "2054                                                 []   \n",
       "4871                                                 []   \n",
       "1025  [['TRZSXBS128F4268C9C', 0.077963], ['TRSRUTU12...   \n",
       "6315  [['TRQVJWV128F422766C', 1], ['TRCXRLW128F42276...   \n",
       "\n",
       "                                                   tags            track_id  \\\n",
       "9541  [['rock', '100'], ['rock francais', '57'], ['c...  TRSKPWL128F92E6F6D   \n",
       "2054                          [['club misfits', '100']]  TRSRKGQ128F9320636   \n",
       "4871         [['trance', '100'], ['electronic', '100']]  TRXCTRD128F92D6E89   \n",
       "1025  [['hard rock', '100'], ['rock', '50'], ['class...  TRJVAIH128F92CAE4B   \n",
       "6315  [['romanian rock', '100'], ['rock romanesc', '...  TRXRPDF128F4227665   \n",
       "\n",
       "                                          title  \\\n",
       "9541                           Derrière Ton Dos   \n",
       "2054  A Cause Des Garçons (Punks Jump Up Remix)   \n",
       "4871                                 The Walrus   \n",
       "1025                       Hole In Her Stocking   \n",
       "6315                  Zodia (Astrological Sign)   \n",
       "\n",
       "                                            listed_tags  \\\n",
       "9541  [[rock, 100], [rock francais, 57], [chanson fr...   \n",
       "2054                              [[club misfits, 100]]   \n",
       "4871                 [[trance, 100], [electronic, 100]]   \n",
       "1025  [[hard rock, 100], [rock, 50], [classic rock, ...   \n",
       "6315  [[romanian rock, 100], [rock romanesc, 100], [...   \n",
       "\n",
       "                                            listed_sims   Cluster  PageRank  \\\n",
       "9541  [[TRQVLNX128F92E6F67, 0.951539], [TRKLPQI128F4...  0.117188  0.000182   \n",
       "2054                                                 []       NaN       NaN   \n",
       "4871                                                 []       NaN       NaN   \n",
       "1025  [[TRZSXBS128F4268C9C, 0.077963], [TRSRUTU128F4...  0.023256  0.000181   \n",
       "6315  [[TRQVJWV128F422766C, 1], [TRCXRLW128F4227668,...       NaN       NaN   \n",
       "\n",
       "      DegreeCentrality  ClosenessCentrality  BetweennessCentrality  Degree  \n",
       "9541          0.037963             0.037963               0.001652    12.0  \n",
       "2054               NaN                  NaN                    NaN     NaN  \n",
       "4871               NaN                  NaN                    NaN     NaN  \n",
       "1025          0.065253             0.065253               0.000844    10.0  \n",
       "6315               NaN                  NaN                    NaN     NaN  "
      ]
     },
     "execution_count": 40,
     "metadata": {},
     "output_type": "execute_result"
    }
   ],
   "source": [
    "three.sample(5)"
   ]
  },
  {
   "cell_type": "code",
   "execution_count": 41,
   "metadata": {},
   "outputs": [],
   "source": [
    "similars_master_list = three.similars.tolist()\n",
    "\n",
    "import ast \n",
    "formatted_sims = [] \n",
    "for track_sims in similars_master_list:\n",
    "    lists = ast.literal_eval(track_sims)\n",
    "    formatted_sims.append(lists)\n",
    "    \n",
    "type(formatted_sims[0])\n",
    "\n",
    "three['listed_similars'] = formatted_sims\n",
    "\n",
    "row_sims = formatted_sims[1]\n",
    "content = row_sims\n",
    "for indiv_tag in content:\n",
    "    print(indiv_tag)"
   ]
  },
  {
   "cell_type": "code",
   "execution_count": 42,
   "metadata": {},
   "outputs": [
    {
     "data": {
      "text/plain": [
       "0        [[TRYNMZY12903CA8E1E, 0.541769], [TRXNTAD128F4...\n",
       "1                                                       []\n",
       "2        [[TRKTBLX128F428412B, 0.90692], [TRZBKSJ128F42...\n",
       "3        [[TRBFCSM128F42629F1, 1], [TRDZTKM128F42629E7,...\n",
       "4        [[TRNQLBS128F14571A9, 1], [TRDLWLL128F14571A6,...\n",
       "                               ...                        \n",
       "10688    [[TRRDUAO128F14A03E2, 0.896112], [TRRRTTF128F9...\n",
       "10689    [[TRGBOGS128F92C1E7C, 0.932304], [TREUSOF128E0...\n",
       "10690    [[TRQDZOA128F1467F9F, 0.135547], [TRBLFCI128F9...\n",
       "10691    [[TRDPDRG128F9316A63, 1], [TRDBZWP128F9316A6A,...\n",
       "10692    [[TRQDVUS128F9342D5B, 0.700153], [TRITYRJ128F9...\n",
       "Name: listed_similars, Length: 10693, dtype: object"
      ]
     },
     "execution_count": 42,
     "metadata": {},
     "output_type": "execute_result"
    }
   ],
   "source": [
    "three['listed_similars']"
   ]
  },
  {
   "cell_type": "code",
   "execution_count": 43,
   "metadata": {},
   "outputs": [
    {
     "data": {
      "text/html": [
       "<div>\n",
       "<style scoped>\n",
       "    .dataframe tbody tr th:only-of-type {\n",
       "        vertical-align: middle;\n",
       "    }\n",
       "\n",
       "    .dataframe tbody tr th {\n",
       "        vertical-align: top;\n",
       "    }\n",
       "\n",
       "    .dataframe thead th {\n",
       "        text-align: right;\n",
       "    }\n",
       "</style>\n",
       "<table border=\"1\" class=\"dataframe\">\n",
       "  <thead>\n",
       "    <tr style=\"text-align: right;\">\n",
       "      <th></th>\n",
       "      <th>Unnamed: 0</th>\n",
       "      <th>Unnamed: 0.1</th>\n",
       "      <th>artist</th>\n",
       "      <th>timestamp</th>\n",
       "      <th>similars</th>\n",
       "      <th>tags</th>\n",
       "      <th>track_id</th>\n",
       "      <th>title</th>\n",
       "      <th>listed_tags</th>\n",
       "      <th>listed_sims</th>\n",
       "      <th>Cluster</th>\n",
       "      <th>PageRank</th>\n",
       "      <th>DegreeCentrality</th>\n",
       "      <th>ClosenessCentrality</th>\n",
       "      <th>BetweennessCentrality</th>\n",
       "      <th>Degree</th>\n",
       "      <th>listed_similars</th>\n",
       "    </tr>\n",
       "  </thead>\n",
       "  <tbody>\n",
       "    <tr>\n",
       "      <th>0</th>\n",
       "      <td>70530</td>\n",
       "      <td>70530</td>\n",
       "      <td>Caetano Veloso</td>\n",
       "      <td>2011-08-10 11:20:56.295466</td>\n",
       "      <td>[['TRYNMZY12903CA8E1E', 0.541769], ['TRXNTAD12...</td>\n",
       "      <td>[['tropicalia', '100'], ['mpb', '100'], ['ener...</td>\n",
       "      <td>TRJZGTA128F9312D1F</td>\n",
       "      <td>A Luz De Tieta</td>\n",
       "      <td>[[tropicalia, 100], [mpb, 100], [energizing, 1...</td>\n",
       "      <td>[[TRYNMZY12903CA8E1E, 0.541769], [TRXNTAD128F4...</td>\n",
       "      <td>0.000000</td>\n",
       "      <td>0.000073</td>\n",
       "      <td>0.000000</td>\n",
       "      <td>0.000000</td>\n",
       "      <td>0.000000e+00</td>\n",
       "      <td>2.0</td>\n",
       "      <td>[[TRYNMZY12903CA8E1E, 0.541769], [TRXNTAD128F4...</td>\n",
       "    </tr>\n",
       "    <tr>\n",
       "      <th>1</th>\n",
       "      <td>50410</td>\n",
       "      <td>50410</td>\n",
       "      <td>The Pretenders</td>\n",
       "      <td>2011-08-11 06:36:45.175755</td>\n",
       "      <td>[]</td>\n",
       "      <td>[['rock', '100'], ['acoustic', '100'], ['indie...</td>\n",
       "      <td>TRODUVR128F92E2329</td>\n",
       "      <td>Nothing Breaks Like a Heart</td>\n",
       "      <td>[[rock, 100], [acoustic, 100], [indie, 100], [...</td>\n",
       "      <td>[]</td>\n",
       "      <td>NaN</td>\n",
       "      <td>NaN</td>\n",
       "      <td>NaN</td>\n",
       "      <td>NaN</td>\n",
       "      <td>NaN</td>\n",
       "      <td>NaN</td>\n",
       "      <td>[]</td>\n",
       "    </tr>\n",
       "    <tr>\n",
       "      <th>2</th>\n",
       "      <td>132834</td>\n",
       "      <td>132834</td>\n",
       "      <td>Ultrabeat</td>\n",
       "      <td>2011-08-03 15:03:28.354306</td>\n",
       "      <td>[['TRKTBLX128F428412B', 0.90692], ['TRZBKSJ128...</td>\n",
       "      <td>[['jytakampaa', '100'], ['aerodance', '100'], ...</td>\n",
       "      <td>TRVNTSO128F4284128</td>\n",
       "      <td>1000 Kisses</td>\n",
       "      <td>[[jytakampaa, 100], [aerodance, 100], [beatful...</td>\n",
       "      <td>[[TRKTBLX128F428412B, 0.90692], [TRZBKSJ128F42...</td>\n",
       "      <td>0.000000</td>\n",
       "      <td>0.000184</td>\n",
       "      <td>0.000588</td>\n",
       "      <td>0.000588</td>\n",
       "      <td>1.219763e-07</td>\n",
       "      <td>4.0</td>\n",
       "      <td>[[TRKTBLX128F428412B, 0.90692], [TRZBKSJ128F42...</td>\n",
       "    </tr>\n",
       "    <tr>\n",
       "      <th>3</th>\n",
       "      <td>177084</td>\n",
       "      <td>177084</td>\n",
       "      <td>Holy Fuck</td>\n",
       "      <td>2011-08-08 16:05:11.997170</td>\n",
       "      <td>[['TRBFCSM128F42629F1', 1], ['TRDZTKM128F42629...</td>\n",
       "      <td>[['experimental', '100'], ['alternative', '60'...</td>\n",
       "      <td>TRXJUGX128F42629F8</td>\n",
       "      <td>Bontempi Latin</td>\n",
       "      <td>[[experimental, 100], [alternative, 60], [indi...</td>\n",
       "      <td>[[TRBFCSM128F42629F1, 1], [TRDZTKM128F42629E7,...</td>\n",
       "      <td>0.000000</td>\n",
       "      <td>0.000073</td>\n",
       "      <td>0.000000</td>\n",
       "      <td>0.000000</td>\n",
       "      <td>0.000000e+00</td>\n",
       "      <td>1.0</td>\n",
       "      <td>[[TRBFCSM128F42629F1, 1], [TRDZTKM128F42629E7,...</td>\n",
       "    </tr>\n",
       "    <tr>\n",
       "      <th>4</th>\n",
       "      <td>58690</td>\n",
       "      <td>58690</td>\n",
       "      <td>Arcadia</td>\n",
       "      <td>2011-08-04 07:03:34.630701</td>\n",
       "      <td>[['TRNQLBS128F14571A9', 1], ['TRDLWLL128F14571...</td>\n",
       "      <td>[['80s', '100'], ['new wave', '60'], ['sting',...</td>\n",
       "      <td>TROKVJE128F14571A8</td>\n",
       "      <td>The Promise</td>\n",
       "      <td>[[80s, 100], [new wave, 60], [sting, 53], [new...</td>\n",
       "      <td>[[TRNQLBS128F14571A9, 1], [TRDLWLL128F14571A6,...</td>\n",
       "      <td>0.035714</td>\n",
       "      <td>0.000145</td>\n",
       "      <td>0.062292</td>\n",
       "      <td>0.062292</td>\n",
       "      <td>1.049962e-04</td>\n",
       "      <td>8.0</td>\n",
       "      <td>[[TRNQLBS128F14571A9, 1], [TRDLWLL128F14571A6,...</td>\n",
       "    </tr>\n",
       "    <tr>\n",
       "      <th>...</th>\n",
       "      <td>...</td>\n",
       "      <td>...</td>\n",
       "      <td>...</td>\n",
       "      <td>...</td>\n",
       "      <td>...</td>\n",
       "      <td>...</td>\n",
       "      <td>...</td>\n",
       "      <td>...</td>\n",
       "      <td>...</td>\n",
       "      <td>...</td>\n",
       "      <td>...</td>\n",
       "      <td>...</td>\n",
       "      <td>...</td>\n",
       "      <td>...</td>\n",
       "      <td>...</td>\n",
       "      <td>...</td>\n",
       "      <td>...</td>\n",
       "    </tr>\n",
       "    <tr>\n",
       "      <th>10688</th>\n",
       "      <td>169069</td>\n",
       "      <td>169069</td>\n",
       "      <td>ATB</td>\n",
       "      <td>2011-08-15 11:43:14.442246</td>\n",
       "      <td>[['TRRDUAO128F14A03E2', 0.896112], ['TRRRTTF12...</td>\n",
       "      <td>[['trance', '100'], ['dance', '36'], ['chillou...</td>\n",
       "      <td>TRXTCJX128F14A03D7</td>\n",
       "      <td>Gentle Melody</td>\n",
       "      <td>[[trance, 100], [dance, 36], [chillout, 27], [...</td>\n",
       "      <td>[[TRRDUAO128F14A03E2, 0.896112], [TRRRTTF128F9...</td>\n",
       "      <td>0.166667</td>\n",
       "      <td>0.000084</td>\n",
       "      <td>0.000176</td>\n",
       "      <td>0.000176</td>\n",
       "      <td>3.754547e-05</td>\n",
       "      <td>6.0</td>\n",
       "      <td>[[TRRDUAO128F14A03E2, 0.896112], [TRRRTTF128F9...</td>\n",
       "    </tr>\n",
       "    <tr>\n",
       "      <th>10689</th>\n",
       "      <td>18709</td>\n",
       "      <td>18709</td>\n",
       "      <td>Leon Russell</td>\n",
       "      <td>2011-08-16 01:20:24.691574</td>\n",
       "      <td>[['TRGBOGS128F92C1E7C', 0.932304], ['TREUSOF12...</td>\n",
       "      <td>[['rock', '100'], ['singer-songwriter', '72'],...</td>\n",
       "      <td>TRSDNCP128F92FAACA</td>\n",
       "      <td>Stranger In A Strange Land</td>\n",
       "      <td>[[rock, 100], [singer-songwriter, 72], [house ...</td>\n",
       "      <td>[[TRGBOGS128F92C1E7C, 0.932304], [TREUSOF128E0...</td>\n",
       "      <td>0.000000</td>\n",
       "      <td>0.000073</td>\n",
       "      <td>0.000000</td>\n",
       "      <td>0.000000</td>\n",
       "      <td>0.000000e+00</td>\n",
       "      <td>2.0</td>\n",
       "      <td>[[TRGBOGS128F92C1E7C, 0.932304], [TREUSOF128E0...</td>\n",
       "    </tr>\n",
       "    <tr>\n",
       "      <th>10690</th>\n",
       "      <td>113147</td>\n",
       "      <td>113147</td>\n",
       "      <td>Big Sugar</td>\n",
       "      <td>2011-08-04 22:25:03.454069</td>\n",
       "      <td>[['TRQDZOA128F1467F9F', 0.135547], ['TRBLFCI12...</td>\n",
       "      <td>[['rock', '100'], ['Canadian', '66'], ['blues'...</td>\n",
       "      <td>TRDJFUW12903CE4271</td>\n",
       "      <td>Dear Mr. Fantasy</td>\n",
       "      <td>[[rock, 100], [Canadian, 66], [blues, 33], [al...</td>\n",
       "      <td>[[TRQDZOA128F1467F9F, 0.135547], [TRBLFCI128F9...</td>\n",
       "      <td>0.210526</td>\n",
       "      <td>0.000199</td>\n",
       "      <td>0.040998</td>\n",
       "      <td>0.040998</td>\n",
       "      <td>8.834861e-05</td>\n",
       "      <td>7.0</td>\n",
       "      <td>[[TRQDZOA128F1467F9F, 0.135547], [TRBLFCI128F9...</td>\n",
       "    </tr>\n",
       "    <tr>\n",
       "      <th>10691</th>\n",
       "      <td>47945</td>\n",
       "      <td>47945</td>\n",
       "      <td>Lorez Alexandria</td>\n",
       "      <td>2011-08-01 14:43:12.453855</td>\n",
       "      <td>[['TRDPDRG128F9316A63', 1], ['TRDBZWP128F9316A...</td>\n",
       "      <td>[['jazz', '100'], ['jazz vocal', '100'], ['Blu...</td>\n",
       "      <td>TROJRHA128F9316A67</td>\n",
       "      <td>Angel Eyes</td>\n",
       "      <td>[[jazz, 100], [jazz vocal, 100], [Blues Bar, 1...</td>\n",
       "      <td>[[TRDPDRG128F9316A63, 1], [TRDBZWP128F9316A6A,...</td>\n",
       "      <td>0.000000</td>\n",
       "      <td>0.000073</td>\n",
       "      <td>0.000000</td>\n",
       "      <td>0.000000</td>\n",
       "      <td>0.000000e+00</td>\n",
       "      <td>2.0</td>\n",
       "      <td>[[TRDPDRG128F9316A63, 1], [TRDBZWP128F9316A6A,...</td>\n",
       "    </tr>\n",
       "    <tr>\n",
       "      <th>10692</th>\n",
       "      <td>85132</td>\n",
       "      <td>85132</td>\n",
       "      <td>Get Far</td>\n",
       "      <td>2011-08-10 01:06:41.526357</td>\n",
       "      <td>[['TRQDVUS128F9342D5B', 0.700153], ['TRITYRJ12...</td>\n",
       "      <td>[['dance', '100'], ['electro house', '100'], [...</td>\n",
       "      <td>TRJQUWK128F42347DF</td>\n",
       "      <td>Shining Star (Pornocult Vocal Mix)</td>\n",
       "      <td>[[dance, 100], [electro house, 100], [House, 6...</td>\n",
       "      <td>[[TRQDVUS128F9342D5B, 0.700153], [TRITYRJ128F9...</td>\n",
       "      <td>0.000000</td>\n",
       "      <td>0.000158</td>\n",
       "      <td>0.000528</td>\n",
       "      <td>0.000528</td>\n",
       "      <td>0.000000e+00</td>\n",
       "      <td>4.0</td>\n",
       "      <td>[[TRQDVUS128F9342D5B, 0.700153], [TRITYRJ128F9...</td>\n",
       "    </tr>\n",
       "  </tbody>\n",
       "</table>\n",
       "<p>10693 rows × 17 columns</p>\n",
       "</div>"
      ],
      "text/plain": [
       "       Unnamed: 0  Unnamed: 0.1            artist                   timestamp  \\\n",
       "0           70530         70530    Caetano Veloso  2011-08-10 11:20:56.295466   \n",
       "1           50410         50410    The Pretenders  2011-08-11 06:36:45.175755   \n",
       "2          132834        132834         Ultrabeat  2011-08-03 15:03:28.354306   \n",
       "3          177084        177084         Holy Fuck  2011-08-08 16:05:11.997170   \n",
       "4           58690         58690           Arcadia  2011-08-04 07:03:34.630701   \n",
       "...           ...           ...               ...                         ...   \n",
       "10688      169069        169069               ATB  2011-08-15 11:43:14.442246   \n",
       "10689       18709         18709      Leon Russell  2011-08-16 01:20:24.691574   \n",
       "10690      113147        113147         Big Sugar  2011-08-04 22:25:03.454069   \n",
       "10691       47945         47945  Lorez Alexandria  2011-08-01 14:43:12.453855   \n",
       "10692       85132         85132           Get Far  2011-08-10 01:06:41.526357   \n",
       "\n",
       "                                                similars  \\\n",
       "0      [['TRYNMZY12903CA8E1E', 0.541769], ['TRXNTAD12...   \n",
       "1                                                     []   \n",
       "2      [['TRKTBLX128F428412B', 0.90692], ['TRZBKSJ128...   \n",
       "3      [['TRBFCSM128F42629F1', 1], ['TRDZTKM128F42629...   \n",
       "4      [['TRNQLBS128F14571A9', 1], ['TRDLWLL128F14571...   \n",
       "...                                                  ...   \n",
       "10688  [['TRRDUAO128F14A03E2', 0.896112], ['TRRRTTF12...   \n",
       "10689  [['TRGBOGS128F92C1E7C', 0.932304], ['TREUSOF12...   \n",
       "10690  [['TRQDZOA128F1467F9F', 0.135547], ['TRBLFCI12...   \n",
       "10691  [['TRDPDRG128F9316A63', 1], ['TRDBZWP128F9316A...   \n",
       "10692  [['TRQDVUS128F9342D5B', 0.700153], ['TRITYRJ12...   \n",
       "\n",
       "                                                    tags            track_id  \\\n",
       "0      [['tropicalia', '100'], ['mpb', '100'], ['ener...  TRJZGTA128F9312D1F   \n",
       "1      [['rock', '100'], ['acoustic', '100'], ['indie...  TRODUVR128F92E2329   \n",
       "2      [['jytakampaa', '100'], ['aerodance', '100'], ...  TRVNTSO128F4284128   \n",
       "3      [['experimental', '100'], ['alternative', '60'...  TRXJUGX128F42629F8   \n",
       "4      [['80s', '100'], ['new wave', '60'], ['sting',...  TROKVJE128F14571A8   \n",
       "...                                                  ...                 ...   \n",
       "10688  [['trance', '100'], ['dance', '36'], ['chillou...  TRXTCJX128F14A03D7   \n",
       "10689  [['rock', '100'], ['singer-songwriter', '72'],...  TRSDNCP128F92FAACA   \n",
       "10690  [['rock', '100'], ['Canadian', '66'], ['blues'...  TRDJFUW12903CE4271   \n",
       "10691  [['jazz', '100'], ['jazz vocal', '100'], ['Blu...  TROJRHA128F9316A67   \n",
       "10692  [['dance', '100'], ['electro house', '100'], [...  TRJQUWK128F42347DF   \n",
       "\n",
       "                                    title  \\\n",
       "0                          A Luz De Tieta   \n",
       "1             Nothing Breaks Like a Heart   \n",
       "2                             1000 Kisses   \n",
       "3                          Bontempi Latin   \n",
       "4                             The Promise   \n",
       "...                                   ...   \n",
       "10688                       Gentle Melody   \n",
       "10689          Stranger In A Strange Land   \n",
       "10690                    Dear Mr. Fantasy   \n",
       "10691                          Angel Eyes   \n",
       "10692  Shining Star (Pornocult Vocal Mix)   \n",
       "\n",
       "                                             listed_tags  \\\n",
       "0      [[tropicalia, 100], [mpb, 100], [energizing, 1...   \n",
       "1      [[rock, 100], [acoustic, 100], [indie, 100], [...   \n",
       "2      [[jytakampaa, 100], [aerodance, 100], [beatful...   \n",
       "3      [[experimental, 100], [alternative, 60], [indi...   \n",
       "4      [[80s, 100], [new wave, 60], [sting, 53], [new...   \n",
       "...                                                  ...   \n",
       "10688  [[trance, 100], [dance, 36], [chillout, 27], [...   \n",
       "10689  [[rock, 100], [singer-songwriter, 72], [house ...   \n",
       "10690  [[rock, 100], [Canadian, 66], [blues, 33], [al...   \n",
       "10691  [[jazz, 100], [jazz vocal, 100], [Blues Bar, 1...   \n",
       "10692  [[dance, 100], [electro house, 100], [House, 6...   \n",
       "\n",
       "                                             listed_sims   Cluster  PageRank  \\\n",
       "0      [[TRYNMZY12903CA8E1E, 0.541769], [TRXNTAD128F4...  0.000000  0.000073   \n",
       "1                                                     []       NaN       NaN   \n",
       "2      [[TRKTBLX128F428412B, 0.90692], [TRZBKSJ128F42...  0.000000  0.000184   \n",
       "3      [[TRBFCSM128F42629F1, 1], [TRDZTKM128F42629E7,...  0.000000  0.000073   \n",
       "4      [[TRNQLBS128F14571A9, 1], [TRDLWLL128F14571A6,...  0.035714  0.000145   \n",
       "...                                                  ...       ...       ...   \n",
       "10688  [[TRRDUAO128F14A03E2, 0.896112], [TRRRTTF128F9...  0.166667  0.000084   \n",
       "10689  [[TRGBOGS128F92C1E7C, 0.932304], [TREUSOF128E0...  0.000000  0.000073   \n",
       "10690  [[TRQDZOA128F1467F9F, 0.135547], [TRBLFCI128F9...  0.210526  0.000199   \n",
       "10691  [[TRDPDRG128F9316A63, 1], [TRDBZWP128F9316A6A,...  0.000000  0.000073   \n",
       "10692  [[TRQDVUS128F9342D5B, 0.700153], [TRITYRJ128F9...  0.000000  0.000158   \n",
       "\n",
       "       DegreeCentrality  ClosenessCentrality  BetweennessCentrality  Degree  \\\n",
       "0              0.000000             0.000000           0.000000e+00     2.0   \n",
       "1                   NaN                  NaN                    NaN     NaN   \n",
       "2              0.000588             0.000588           1.219763e-07     4.0   \n",
       "3              0.000000             0.000000           0.000000e+00     1.0   \n",
       "4              0.062292             0.062292           1.049962e-04     8.0   \n",
       "...                 ...                  ...                    ...     ...   \n",
       "10688          0.000176             0.000176           3.754547e-05     6.0   \n",
       "10689          0.000000             0.000000           0.000000e+00     2.0   \n",
       "10690          0.040998             0.040998           8.834861e-05     7.0   \n",
       "10691          0.000000             0.000000           0.000000e+00     2.0   \n",
       "10692          0.000528             0.000528           0.000000e+00     4.0   \n",
       "\n",
       "                                         listed_similars  \n",
       "0      [[TRYNMZY12903CA8E1E, 0.541769], [TRXNTAD128F4...  \n",
       "1                                                     []  \n",
       "2      [[TRKTBLX128F428412B, 0.90692], [TRZBKSJ128F42...  \n",
       "3      [[TRBFCSM128F42629F1, 1], [TRDZTKM128F42629E7,...  \n",
       "4      [[TRNQLBS128F14571A9, 1], [TRDLWLL128F14571A6,...  \n",
       "...                                                  ...  \n",
       "10688  [[TRRDUAO128F14A03E2, 0.896112], [TRRRTTF128F9...  \n",
       "10689  [[TRGBOGS128F92C1E7C, 0.932304], [TREUSOF128E0...  \n",
       "10690  [[TRQDZOA128F1467F9F, 0.135547], [TRBLFCI128F9...  \n",
       "10691  [[TRDPDRG128F9316A63, 1], [TRDBZWP128F9316A6A,...  \n",
       "10692  [[TRQDVUS128F9342D5B, 0.700153], [TRITYRJ128F9...  \n",
       "\n",
       "[10693 rows x 17 columns]"
      ]
     },
     "execution_count": 43,
     "metadata": {},
     "output_type": "execute_result"
    }
   ],
   "source": [
    "three"
   ]
  },
  {
   "cell_type": "code",
   "execution_count": 47,
   "metadata": {},
   "outputs": [
    {
     "data": {
      "text/plain": [
       "Index(['Unnamed: 0', 'Unnamed: 0.1', 'artist', 'timestamp', 'similars', 'tags',\n",
       "       'track_id', 'title', 'listed_tags', 'listed_sims', 'Cluster',\n",
       "       'PageRank', 'DegreeCentrality', 'ClosenessCentrality',\n",
       "       'BetweennessCentrality', 'Degree', 'listed_similars'],\n",
       "      dtype='object')"
      ]
     },
     "execution_count": 47,
     "metadata": {},
     "output_type": "execute_result"
    }
   ],
   "source": [
    "three.columns"
   ]
  },
  {
   "cell_type": "code",
   "execution_count": 54,
   "metadata": {},
   "outputs": [],
   "source": [
    "X = three.drop(columns=['listed_sims', 'Unnamed: 0', 'Unnamed: 0.1', 'artist', 'timestamp', 'similars', 'tags',\n",
    "       'track_id', 'title', 'listed_tags','listed_similars']).fillna(0)\n",
    "X.fillna(0, inplace = True)"
   ]
  },
  {
   "cell_type": "code",
   "execution_count": 56,
   "metadata": {},
   "outputs": [
    {
     "data": {
      "text/plain": [
       "array([[10691,  6866,  4423, ...,  6948,  6818,  6826],\n",
       "       [ 2239,     9,  9174, ...,   251,   552,     1],\n",
       "       [    2,  3076,  6788, ...,  3711,  9519,  3817],\n",
       "       ...,\n",
       "       [10690, 10316,  2437, ...,   682,  4001,  4941],\n",
       "       [10691,  6866,  4423, ...,  6948,  6818,  6826],\n",
       "       [10692,  3711, 10557, ...,   159,  8683,  1559]])"
      ]
     },
     "execution_count": 56,
     "metadata": {},
     "output_type": "execute_result"
    }
   ],
   "source": [
    "# KNN \n",
    "from sklearn.neighbors import NearestNeighbors\n",
    "import numpy as np\n",
    "\n",
    "nbrs = NearestNeighbors(n_neighbors=10, algorithm='ball_tree')\n",
    "nbrs.fit(X)\n",
    "distances, indices = nbrs.kneighbors(X)\n",
    "indices"
   ]
  },
  {
   "cell_type": "code",
   "execution_count": 57,
   "metadata": {},
   "outputs": [
    {
     "data": {
      "text/html": [
       "<div>\n",
       "<style scoped>\n",
       "    .dataframe tbody tr th:only-of-type {\n",
       "        vertical-align: middle;\n",
       "    }\n",
       "\n",
       "    .dataframe tbody tr th {\n",
       "        vertical-align: top;\n",
       "    }\n",
       "\n",
       "    .dataframe thead th {\n",
       "        text-align: right;\n",
       "    }\n",
       "</style>\n",
       "<table border=\"1\" class=\"dataframe\">\n",
       "  <thead>\n",
       "    <tr style=\"text-align: right;\">\n",
       "      <th></th>\n",
       "      <th>Unnamed: 0</th>\n",
       "      <th>Unnamed: 0.1</th>\n",
       "      <th>artist</th>\n",
       "      <th>timestamp</th>\n",
       "      <th>similars</th>\n",
       "      <th>tags</th>\n",
       "      <th>track_id</th>\n",
       "      <th>title</th>\n",
       "      <th>listed_tags</th>\n",
       "      <th>listed_sims</th>\n",
       "      <th>Cluster</th>\n",
       "      <th>PageRank</th>\n",
       "      <th>DegreeCentrality</th>\n",
       "      <th>ClosenessCentrality</th>\n",
       "      <th>BetweennessCentrality</th>\n",
       "      <th>Degree</th>\n",
       "      <th>listed_similars</th>\n",
       "    </tr>\n",
       "  </thead>\n",
       "  <tbody>\n",
       "    <tr>\n",
       "      <th>7478</th>\n",
       "      <td>253128</td>\n",
       "      <td>253128</td>\n",
       "      <td>Björk</td>\n",
       "      <td>2011-08-03 19:25:53.648756</td>\n",
       "      <td>[['TRNAQBJ128F42B87E9', 0.0880913], ['TRWSDTJ1...</td>\n",
       "      <td>[['electronic', '100'], ['alternative', '76'],...</td>\n",
       "      <td>TRYLMAS128F931A0E4</td>\n",
       "      <td>Alarm Call</td>\n",
       "      <td>[[electronic, 100], [alternative, 76], [experi...</td>\n",
       "      <td>[[TRNAQBJ128F42B87E9, 0.0880913], [TRWSDTJ128F...</td>\n",
       "      <td>0.0</td>\n",
       "      <td>0.000073</td>\n",
       "      <td>0.0</td>\n",
       "      <td>0.0</td>\n",
       "      <td>0.0</td>\n",
       "      <td>2.0</td>\n",
       "      <td>[[TRNAQBJ128F42B87E9, 0.0880913], [TRWSDTJ128F...</td>\n",
       "    </tr>\n",
       "  </tbody>\n",
       "</table>\n",
       "</div>"
      ],
      "text/plain": [
       "      Unnamed: 0  Unnamed: 0.1 artist                   timestamp  \\\n",
       "7478      253128        253128  Björk  2011-08-03 19:25:53.648756   \n",
       "\n",
       "                                               similars  \\\n",
       "7478  [['TRNAQBJ128F42B87E9', 0.0880913], ['TRWSDTJ1...   \n",
       "\n",
       "                                                   tags            track_id  \\\n",
       "7478  [['electronic', '100'], ['alternative', '76'],...  TRYLMAS128F931A0E4   \n",
       "\n",
       "           title                                        listed_tags  \\\n",
       "7478  Alarm Call  [[electronic, 100], [alternative, 76], [experi...   \n",
       "\n",
       "                                            listed_sims  Cluster  PageRank  \\\n",
       "7478  [[TRNAQBJ128F42B87E9, 0.0880913], [TRWSDTJ128F...      0.0  0.000073   \n",
       "\n",
       "      DegreeCentrality  ClosenessCentrality  BetweennessCentrality  Degree  \\\n",
       "7478               0.0                  0.0                    0.0     2.0   \n",
       "\n",
       "                                        listed_similars  \n",
       "7478  [[TRNAQBJ128F42B87E9, 0.0880913], [TRWSDTJ128F...  "
      ]
     },
     "execution_count": 57,
     "metadata": {},
     "output_type": "execute_result"
    }
   ],
   "source": [
    "three[ three.artist == 'Björk'] # 253128"
   ]
  },
  {
   "cell_type": "markdown",
   "metadata": {},
   "source": [
    "### Losing a Whole Year, Third Eye Blind"
   ]
  },
  {
   "cell_type": "code",
   "execution_count": 58,
   "metadata": {},
   "outputs": [
    {
     "data": {
      "text/html": [
       "<div>\n",
       "<style scoped>\n",
       "    .dataframe tbody tr th:only-of-type {\n",
       "        vertical-align: middle;\n",
       "    }\n",
       "\n",
       "    .dataframe tbody tr th {\n",
       "        vertical-align: top;\n",
       "    }\n",
       "\n",
       "    .dataframe thead th {\n",
       "        text-align: right;\n",
       "    }\n",
       "</style>\n",
       "<table border=\"1\" class=\"dataframe\">\n",
       "  <thead>\n",
       "    <tr style=\"text-align: right;\">\n",
       "      <th></th>\n",
       "      <th>Unnamed: 0</th>\n",
       "      <th>Unnamed: 0.1</th>\n",
       "      <th>artist</th>\n",
       "      <th>timestamp</th>\n",
       "      <th>similars</th>\n",
       "      <th>tags</th>\n",
       "      <th>track_id</th>\n",
       "      <th>title</th>\n",
       "      <th>listed_tags</th>\n",
       "      <th>listed_sims</th>\n",
       "      <th>Cluster</th>\n",
       "      <th>PageRank</th>\n",
       "      <th>DegreeCentrality</th>\n",
       "      <th>ClosenessCentrality</th>\n",
       "      <th>BetweennessCentrality</th>\n",
       "      <th>Degree</th>\n",
       "      <th>listed_similars</th>\n",
       "    </tr>\n",
       "  </thead>\n",
       "  <tbody>\n",
       "    <tr>\n",
       "      <th>9758</th>\n",
       "      <td>184915</td>\n",
       "      <td>184915</td>\n",
       "      <td>Third Eye Blind</td>\n",
       "      <td>2011-08-11 20:04:22.765768</td>\n",
       "      <td>[['TRLGTNS128F147C7C3', 1], ['TRVVRIZ128F147C7...</td>\n",
       "      <td>[['alternative rock', '100'], ['rock', '66'], ...</td>\n",
       "      <td>TRXEFKY128F147C7C0</td>\n",
       "      <td>Losing A Whole Year (2006 Remastered LP Version)</td>\n",
       "      <td>[[alternative rock, 100], [rock, 66], [alterna...</td>\n",
       "      <td>[[TRLGTNS128F147C7C3, 1], [TRVVRIZ128F147C7CC,...</td>\n",
       "      <td>0.055556</td>\n",
       "      <td>0.000161</td>\n",
       "      <td>0.051453</td>\n",
       "      <td>0.051453</td>\n",
       "      <td>0.000096</td>\n",
       "      <td>8.0</td>\n",
       "      <td>[[TRLGTNS128F147C7C3, 1], [TRVVRIZ128F147C7CC,...</td>\n",
       "    </tr>\n",
       "  </tbody>\n",
       "</table>\n",
       "</div>"
      ],
      "text/plain": [
       "      Unnamed: 0  Unnamed: 0.1           artist                   timestamp  \\\n",
       "9758      184915        184915  Third Eye Blind  2011-08-11 20:04:22.765768   \n",
       "\n",
       "                                               similars  \\\n",
       "9758  [['TRLGTNS128F147C7C3', 1], ['TRVVRIZ128F147C7...   \n",
       "\n",
       "                                                   tags            track_id  \\\n",
       "9758  [['alternative rock', '100'], ['rock', '66'], ...  TRXEFKY128F147C7C0   \n",
       "\n",
       "                                                 title  \\\n",
       "9758  Losing A Whole Year (2006 Remastered LP Version)   \n",
       "\n",
       "                                            listed_tags  \\\n",
       "9758  [[alternative rock, 100], [rock, 66], [alterna...   \n",
       "\n",
       "                                            listed_sims   Cluster  PageRank  \\\n",
       "9758  [[TRLGTNS128F147C7C3, 1], [TRVVRIZ128F147C7CC,...  0.055556  0.000161   \n",
       "\n",
       "      DegreeCentrality  ClosenessCentrality  BetweennessCentrality  Degree  \\\n",
       "9758          0.051453             0.051453               0.000096     8.0   \n",
       "\n",
       "                                        listed_similars  \n",
       "9758  [[TRLGTNS128F147C7C3, 1], [TRVVRIZ128F147C7CC,...  "
      ]
     },
     "execution_count": 58,
     "metadata": {},
     "output_type": "execute_result"
    }
   ],
   "source": [
    "three[ three.artist == 'Third Eye Blind']"
   ]
  },
  {
   "cell_type": "code",
   "execution_count": 59,
   "metadata": {},
   "outputs": [
    {
     "name": "stdout",
     "output_type": "stream",
     "text": [
      "[848, 6362, 7742, 9758, 3513, 3539, 8903, 4188, 5548, 1179]\n",
      "[3513, 3539, 9758, 8903, 6362, 848, 7742, 4188, 5548, 1179]\n",
      "[3539, 3513, 9758, 8903, 6362, 848, 7742, 4188, 5548, 1179]\n",
      "[4188, 5548, 7742, 848, 6362, 1179, 8903, 9758, 3513, 3539]\n",
      "[5548, 4188, 7742, 6362, 848, 1179, 8903, 9758, 3649, 3513]\n",
      "[6362, 7742, 848, 8903, 9758, 3513, 3539, 4188, 5548, 1179]\n",
      "[7742, 6362, 848, 8903, 9758, 3513, 3539, 4188, 5548, 1179]\n",
      "[8903, 3513, 3539, 9758, 6362, 7742, 848, 4188, 5548, 7534]\n",
      "[9758, 3513, 3539, 8903, 6362, 848, 7742, 4188, 5548, 1179]\n"
     ]
    }
   ],
   "source": [
    "for x in indices:\n",
    "    for y in x:\n",
    "        if y == 9758:\n",
    "            print(x.tolist())"
   ]
  },
  {
   "cell_type": "code",
   "execution_count": 60,
   "metadata": {},
   "outputs": [
    {
     "name": "stdout",
     "output_type": "stream",
     "text": [
      "1. \n",
      "    artist:Third Eye Blind, \n",
      "    title: Losing A Whole Year (2006 Remastered LP Version))\n",
      "    tags: [['alternative rock', '100'], ['rock', '66'], ['alternative', '66'], ['90s', '66'], ['one star', '33'], ['bpluscoop', '33'], ['woocoop', '33'], ['aitch', '33'], ['4 Stars', '33'], ['Pop-Rock', '33'], ['good songs', '33'], ['pop', '33'], ['indie', '33'], ['Usual', '0'], ['song', '0'], ['loved tracks', '0'], ['not hair metal', '0'], ['dmitry', '0'], ['Mal anhoeren', '0']]\n",
      "    metrics: 8.0, 0.05555555555555555, 0.05145269963733909\n",
      "2. \n",
      "    artist:Yim Yames, \n",
      "    title: My Sweet Lord)\n",
      "    tags: [['cover', '100'], ['hallelujah', '66'], ['my sweet lord', '66'], ['Yim Yames', '66'], ['covers', '33'], ['classic', '33'], ['relaxing', '33'], ['Dreamy', '33'], ['george harrison', '33'], ['george harrison cover', '33'], ['Oh My God', '33'], ['Sometime Mood', '33']]\n",
      "    metrics: 8.0, 0.05555555555555555, 0.05122387510804247\n",
      "3. \n",
      "    artist:Onslaught, \n",
      "    title: Metal Forces)\n",
      "    tags: [['thrash metal', '100'], ['metal', '66'], ['heavy metal', '41'], ['thrash', '33'], ['80s', '25'], ['Power metal', '25'], ['cherrysthorne', '25'], ['old school', '16'], ['Old School Metal', '16'], ['80s metal', '16'], ['Onslaught', '16'], ['metal anthem', '16'], ['british', '8'], ['killer songs', '8'], ['sdgchoice', '0']]\n",
      "    metrics: 8.0, 0.05555555555555555, 0.05114744473708455\n",
      "4. \n",
      "    artist:Fey, \n",
      "    title: Volar Otra Vez)\n",
      "    tags: [['fey', '100'], ['latin', '33'], ['latin pop', '33'], ['latino', '33'], ['ellos cantan en espanol', '33'], ['heard on last-fm', '33'], ['felipesupla', '33'], ['bueno', '0'], ['Fey - Volar Otra Vez', '0']]\n",
      "    metrics: 8.0, 0.057692307692307696, 0.0519585249586242\n",
      "5. \n",
      "    artist:Johnny Bond, \n",
      "    title: Out On the Open Range)\n",
      "    tags: [['country', '100'], ['western', '50']]\n",
      "    metrics: 8.0, 0.05555555555555555, 0.05415424346207378\n",
      "6. \n",
      "    artist:Chicane, \n",
      "    title: Offshore)\n",
      "    tags: [['chillout', '100'], ['trance', '59'], ['ambient', '53'], ['electronic', '39'], ['lounge', '24'], ['Chicane', '16'], ['chill', '14'], ['electronica', '13'], ['relax', '12'], ['summer', '9'], ['ibiza trance', '8'], ['downtempo', '8'], ['relaxing', '6'], ['ibiza', '6'], ['House', '6'], ['progressive trance', '5'], ['Dreamy', '5'], ['easy listening', '5'], ['beautiful', '4'], ['new age', '4'], ['90s', '4'], ['techno', '3'], ['Chill House', '3'], ['progressive breaks', '3'], ['loneliness after dusk', '3'], ['melodic trance', '3'], ['Sunrise Trance', '3'], ['Dancemania', '2'], ['spacestation', '2'], ['surabaya', '2'], ['Meditation', '2'], ['marijuana', '2'], ['ethereal', '2'], ['memories', '2'], ['chill trance', '2'], ['Dream', '2'], ['deep house', '2'], ['breakbeat', '2'], ['brilliant', '2'], ['stoned', '2'], ['Favorite', '2'], ['cafe del mar', '2'], ['magick', '2'], ['Awesome', '2'], ['quexigal', '2'], ['sexy', '2'], ['Progressive', '2'], ['Starry Night Music', '2'], ['When we were young', '2'], ['cycling', '1'], ['DxSFx', '1'], ['somafm', '1'], ['Balearic House', '1'], ['Dream Dance', '1'], ['dream trance', '1'], ['flya trance', '1'], ['Jodie', '1'], ['ambient trance', '1'], ['mychill', '1'], ['loved', '1'], ['Trance Gold', '1'], ['Eremuse-EXCHANGE', '1'], ['calm', '1'], ['classic', '1'], ['starting the weekend beginning and enjoy', '1'], ['world', '1'], ['chill out', '1'], ['Eremuse-ELEMENTS OF - - - Elementarity', '1'], ['melodic', '1'], ['Uplifting', '1'], ['club', '1'], ['Mellow', '1'], ['eivissa', '0'], ['Take you away type beat', '0'], ['chillout trance', '0'], ['myambient', '0'], ['chilled trance', '0'], ['blow your speakers bass', '0'], ['ElectronicaDance', '0'], ['aana', '0'], ['All-Time-Top-X', '0'], ['sorcelot', '0'], ['uglybob', '0'], ['amazing mood mucic great c hill trance whenu r drunk', '0'], ['chef-martin', '0'], ['bloeky entspannt', '0'], ['chilled trip', '0'], ['Pawmaster', '0'], ['chic channel', '0'], ['absolute classics', '0'], ['Trance festival', '0'], ['primeescapes01', '0'], ['Ambient IDM', '0'], ['on my ipod', '0'], ['check iTunes', '0'], ['seaside', '0'], ['zroguachillout', '0'], ['aerobic', '0'], ['primeescapes', '0'], ['robotna-skakanka', '0']]\n",
      "    metrics: 8.0, 0.05357142857142857, 0.05387470253107989\n",
      "7. \n",
      "    artist:Brett Dennen, \n",
      "    title: San Francisco)\n",
      "    tags: [['folk', '100'], ['acoustic', '57'], ['singer-songwriter', '57'], ['pop', '28'], ['Singer/Songwriter', '28'], ['starbucks', '28'], ['indie', '14'], ['chill', '14'], ['Local', '14'], ['California', '14'], ['Brett Dennen', '14'], ['cait', '14'], ['seen live', '0'], ['mg towns and countries', '0']]\n",
      "    metrics: 8.0, 0.05555555555555555, 0.054299693610736055\n",
      "8. \n",
      "    artist:U2, \n",
      "    title: I Fall Down)\n",
      "    tags: [['rock', '100'], ['80s', '17'], ['classic rock', '17'], ['U2', '13'], ['u2 - rock', '8'], ['punk', '8'], ['songs that sound happy but are sad', '8'], ['classic', '8'], ['alternative', '8'], ['post-punk', '8'], ['HappySad', '4'], ['bsides', '4'], ['classic Moz', '4'], ['stop the world i want to get off', '4'], ['songs that make me cry', '4'], ['3 stars', '4'], ['songs about love', '4'], ['luka', '4'], ['138 bpm', '4'], ['guitar-based rock', '4'], ['80s U2', '4'], ['want to see live', '4'], ['david bowie', '4'], ['1981', '4'], ['work', '4'], ['Perfection', '4'], ['Song that makes me want to kill myself', '4'], ['independent', '4'], ['irish', '4'], ['punk rock', '4'], ['electronica', '4'], ['alternative rock', '4'], ['covers', '4'], ['Chilled Out', '4'], ['seen live', '0'], ['radio europe', '0'], ['ravta', '0']]\n",
      "    metrics: 8.0, 0.05357142857142857, 0.05738664272545177\n",
      "9. \n",
      "    artist:Suzi Quatro, \n",
      "    title: The Race Is On)\n",
      "    tags: [['classic rock', '100'], ['70s', '100'], ['rock', '83'], ['oldies', '66'], ['the race is on - suzi quatro', '50'], ['female vocalists', '33'], ['suzi quatro', '33'], ['Groupes classic rock 70s', '16'], ['rosis', '16'], ['glitter', '16'], ['Chicks that Rock', '16'], ['the best', '16'], ['glam rock', '16'], ['catchy', '16'], ['Pop-Rock', '16'], ['pop', '16'], ['RADIO5620 SOUND', '0'], ['70s Englisch', '0'], ['-fenol', '0'], ['miianens playlist', '0']]\n",
      "    metrics: 8.0, 0.05555555555555555, 0.058057359772327274\n",
      "10. \n",
      "    artist:Bell Biv DeVoe, \n",
      "    title: Do Me!)\n",
      "    tags: [['new jack swing', '100'], ['rnb', '76'], ['90s', '76'], ['dance', '61'], ['old school', '53'], ['soul', '30'], ['pop', '30'], ['sexy', '23'], ['RnB Old School', '15'], ['Bell Biv DeVoe - Do Me - Poison', '15'], ['hip hop-rap-funky-rnb-soul', '15'], ['1990', '15'], ['Poison', '15'], ['90s pop', '15'], ['urban', '15'], ['East Coast', '15'], ['80s', '15'], ['rap', '15'], ['rhythm and blues', '15'], ['hip hop', '15'], ['bop along', '7'], ['retro rap', '7'], ['GREATEST EVER', '7'], ['80s rap', '7'], ['rnb group', '7'], ['mem', '7'], ['childhood memories', '7'], ['silly fun', '7'], ['Rhythm and Blues and Hip-Hop', '7'], ['music of my youth', '7'], ['funk', '7'], ['clean', '7'], ['roadtrip', '7'], ['matchinoutfits', '7'], ['cruising rain', '7'], ['lets groove', '7'], ['non-gangsta rap', '7'], ['highschool dance', '7'], ['BBD B2M', '7'], ['chill906', '7'], ['macsgroove', '7'], ['bbd', '7'], ['Love', '7'], ['Kad', '7'], ['top 100 tracks by VVG', '7'], ['funky', '7'], ['VVG', '7'], ['rokker radio', '7'], ['dance party where nothing is cruel', '7'], ['adult', '7'], ['old', '7'], ['memories', '7'], ['sing along', '7'], ['guilty pleasure', '7'], ['nerdcore', '7'], ['Neo-Soul', '7'], ['Retro', '7'], ['road trip', '7'], ['fun', '7'], ['sleazy', '7'], ['Black', '7'], ['fav', '7'], ['smooth', '7'], ['r&b', '7'], ['r and b', '7'], ['freaky', '7'], ['bang', '7'], ['New Jack Swing era', '7'], ['male voice', '7'], ['wedding', '7'], ['RB', '7'], ['songs i love', '7'], ['Jams', '7'], ['d', '7'], ['sleaze', '7'], ['boppy', '7'], ['The Shit', '7'], ['Hip-Hop', '0'], ['do me', '0'], ['Bell Biv Devoe', '0'], ['lovedtrack', '0'], ['wjlb-FM', '0'], ['mark-test2', '0'], ['umlaute', '0'], ['xspf2tag', '0'], ['New Soul - Hip Hop - Rap', '0'], ['music from crossing jordan', '0'], ['libidinous', '0'], ['movie - 40 days and 40 nights', '0'], ['High School', '0'], ['sexaaay', '0'], ['funk soul rnb', '0'], ['klaus', '0'], ['slow jams', '0']]\n",
      "    metrics: 8.0, 0.05555555555555555, 0.06278011481482756\n"
     ]
    }
   ],
   "source": [
    "int = 1\n",
    "teb_lawy = [9758, 3513, 3539, 8903, 6362, 848, 7742, 4188, 5548, 1179]\n",
    "\n",
    "for i in teb_lawy:\n",
    "    print(f\"\"\"{int}. \n",
    "    artist:{three.artist.iloc[i]}, \n",
    "    title: {three.title.iloc[i]})\n",
    "    tags: {three.listed_tags.iloc[i]}\n",
    "    metrics: {three.Degree.iloc[i]}, {three.Cluster.iloc[i]}, {three.DegreeCentrality.iloc[i]}\"\"\")\n",
    "    int += 1 "
   ]
  },
  {
   "cell_type": "code",
   "execution_count": 61,
   "metadata": {},
   "outputs": [
    {
     "name": "stdout",
     "output_type": "stream",
     "text": [
      "46 10\n",
      "56\n"
     ]
    }
   ],
   "source": [
    "edge_list['teb_knn'] = edge_list.index.isin(teb_lawy).astype(str) \n",
    "\n",
    "from sklearn import preprocessing\n",
    "le = preprocessing.LabelEncoder()\n",
    "le.fit(edge_list['teb_knn'])\n",
    "le.classes_\n",
    "\n",
    "edge_list['teb_knn'] = le.transform(edge_list['teb_knn'])\n",
    "#le.inverse_transform([0, 0, 1, 2])\n",
    "\n",
    "#\n",
    "\n",
    "teb_ids = edge_list[edge_list.teb_knn == 1 ].from_node.tolist()\n",
    "edge_list['teb_knn_2'] = edge_list.to_node.isin(teb_ids).astype(str)\n",
    "\n",
    "le.fit(edge_list['teb_knn_2'])\n",
    "edge_list['teb_knn_2'] = le.transform(edge_list['teb_knn_2'])\n",
    "\n",
    "#\n",
    "edge_list[ edge_list['teb_knn_2'] == 1 ]\n",
    "\n",
    "teb_edges = edge_list[ edge_list.teb_knn == 1 ]\n",
    "teb_e2 = edge_list[ edge_list.teb_knn_2 == 1 ]\n",
    "\n",
    "print( len(teb_e2), len(teb_edges))\n",
    "\n",
    "teb_edges = teb_edges.append(teb_e2)\n",
    "len(teb_edges)\n",
    "\n",
    "print(len(teb_edges))\n",
    "\n",
    "G = nx.from_pandas_edgelist(teb_edges, 'from_node', 'to_node')\n",
    "\n",
    "colors = []\n",
    "for node in G:\n",
    "    if node in teb_edges[\"teb_knn\"] == 1 :\n",
    "        colors.append(\"green\")\n",
    "    else: colors.append(\"#b88fbf\")"
   ]
  },
  {
   "cell_type": "code",
   "execution_count": 62,
   "metadata": {},
   "outputs": [],
   "source": [
    "import math\n",
    "from bokeh.plotting import figure\n",
    "from bokeh.models import GraphRenderer, Ellipse\n",
    "from bokeh.palettes import Spectral8"
   ]
  },
  {
   "cell_type": "code",
   "execution_count": 63,
   "metadata": {},
   "outputs": [
    {
     "ename": "NameError",
     "evalue": "name 'bokeh' is not defined",
     "output_type": "error",
     "traceback": [
      "\u001b[0;31m---------------------------------------------------------------------------\u001b[0m",
      "\u001b[0;31mNameError\u001b[0m                                 Traceback (most recent call last)",
      "\u001b[0;32m<ipython-input-63-a570769ba4a3>\u001b[0m in \u001b[0;36m<module>\u001b[0;34m\u001b[0m\n\u001b[1;32m      5\u001b[0m               tools=\"\", toolbar_location=None)\n\u001b[1;32m      6\u001b[0m \u001b[0;34m\u001b[0m\u001b[0m\n\u001b[0;32m----> 7\u001b[0;31m \u001b[0mgraph\u001b[0m \u001b[0;34m=\u001b[0m \u001b[0mbokeh\u001b[0m\u001b[0;34m.\u001b[0m\u001b[0mmodels\u001b[0m\u001b[0;34m.\u001b[0m\u001b[0mGraphRenderer\u001b[0m\u001b[0;34m(\u001b[0m\u001b[0;34m)\u001b[0m\u001b[0;34m\u001b[0m\u001b[0;34m\u001b[0m\u001b[0m\n\u001b[0m\u001b[1;32m      8\u001b[0m \u001b[0;34m\u001b[0m\u001b[0m\n\u001b[1;32m      9\u001b[0m \u001b[0mgraph_renderer\u001b[0m\u001b[0;34m.\u001b[0m\u001b[0mnode_renderer\u001b[0m\u001b[0;34m.\u001b[0m\u001b[0mdata_source\u001b[0m\u001b[0;34m.\u001b[0m\u001b[0mdata\u001b[0m\u001b[0;34m[\u001b[0m\u001b[0;34m'colors'\u001b[0m\u001b[0;34m]\u001b[0m \u001b[0;34m=\u001b[0m \u001b[0mcolors\u001b[0m\u001b[0;34m\u001b[0m\u001b[0;34m\u001b[0m\u001b[0m\n",
      "\u001b[0;31mNameError\u001b[0m: name 'bokeh' is not defined"
     ]
    }
   ],
   "source": [
    "#node_hover_tool = HoverTool(tooltips=[(\"Company Name\", \"@index\")])\n",
    "#plot.add_tools(node_hover_tool, BoxZoomTool(), ResetTool())\n",
    "\n",
    "plot = figure(title=\"Graph Layout Demonstration\", x_range=(-1.1,1.1), y_range=(-1.1,1.1),\n",
    "              tools=\"\", toolbar_location=None)\n",
    "\n",
    "graph = bokeh.models.GraphRenderer()\n",
    "\n",
    "graph_renderer.node_renderer.data_source.data['colors'] = colors\n",
    "graph_renderer.node_renderer.glyph = Circle(size=20, fill_color='colors')\n",
    "\n",
    "graph_renderer.edge_renderer.glyph = MultiLine(line_color=\"red\", line_alpha=0.8, line_width=1)\n",
    "plot.renderers.append(graph_renderer)\n",
    "\n",
    "output_file(\"boo.html\")\n",
    "show(plot)"
   ]
  },
  {
   "cell_type": "code",
   "execution_count": 64,
   "metadata": {},
   "outputs": [
    {
     "data": {
      "image/png": "[encoded data removed]",
      "text/plain": [
       "<Figure size 720x576 with 1 Axes>"
      ]
     },
     "metadata": {},
     "output_type": "display_data"
    }
   ],
   "source": [
    "from matplotlib.pyplot import figure\n",
    "figure(figsize=(10, 8))\n",
    "nx.draw(G, node_size= 20 ,with_labels=False, node_color='#b88fbf')\n",
    "\n",
    "\n",
    "\n",
    "# plt.show()\n",
    "plt.title('KNN for Losing a Whole Year by Third Eye Blind')\n",
    "plt.savefig(\"KNN_TEB.jpg\", format = 'JPG')"
   ]
  },
  {
   "cell_type": "markdown",
   "metadata": {},
   "source": [
    "### Roy ORbison In Dreams"
   ]
  },
  {
   "cell_type": "code",
   "execution_count": 65,
   "metadata": {},
   "outputs": [
    {
     "data": {
      "text/html": [
       "<div>\n",
       "<style scoped>\n",
       "    .dataframe tbody tr th:only-of-type {\n",
       "        vertical-align: middle;\n",
       "    }\n",
       "\n",
       "    .dataframe tbody tr th {\n",
       "        vertical-align: top;\n",
       "    }\n",
       "\n",
       "    .dataframe thead th {\n",
       "        text-align: right;\n",
       "    }\n",
       "</style>\n",
       "<table border=\"1\" class=\"dataframe\">\n",
       "  <thead>\n",
       "    <tr style=\"text-align: right;\">\n",
       "      <th></th>\n",
       "      <th>Unnamed: 0</th>\n",
       "      <th>Unnamed: 0.1</th>\n",
       "      <th>artist</th>\n",
       "      <th>timestamp</th>\n",
       "      <th>similars</th>\n",
       "      <th>tags</th>\n",
       "      <th>track_id</th>\n",
       "      <th>title</th>\n",
       "      <th>listed_tags</th>\n",
       "      <th>listed_sims</th>\n",
       "      <th>Cluster</th>\n",
       "      <th>PageRank</th>\n",
       "      <th>DegreeCentrality</th>\n",
       "      <th>ClosenessCentrality</th>\n",
       "      <th>BetweennessCentrality</th>\n",
       "      <th>Degree</th>\n",
       "      <th>listed_similars</th>\n",
       "    </tr>\n",
       "  </thead>\n",
       "  <tbody>\n",
       "    <tr>\n",
       "      <th>4749</th>\n",
       "      <td>89976</td>\n",
       "      <td>89976</td>\n",
       "      <td>Roy Orbison</td>\n",
       "      <td>2011-08-03 04:46:38.136309</td>\n",
       "      <td>[['TRUUJHZ128F92CAB60', 1], ['TRFAPGQ12903CD88...</td>\n",
       "      <td>[['eryqahs favourites', '100']]</td>\n",
       "      <td>TRJBPKY128F92CAB65</td>\n",
       "      <td>Only Alive</td>\n",
       "      <td>[[eryqahs favourites, 100]]</td>\n",
       "      <td>[[TRUUJHZ128F92CAB60, 1], [TRFAPGQ12903CD885E,...</td>\n",
       "      <td>0.000000</td>\n",
       "      <td>0.000093</td>\n",
       "      <td>0.056443</td>\n",
       "      <td>0.056443</td>\n",
       "      <td>0.000008</td>\n",
       "      <td>4.0</td>\n",
       "      <td>[[TRUUJHZ128F92CAB60, 1], [TRFAPGQ12903CD885E,...</td>\n",
       "    </tr>\n",
       "    <tr>\n",
       "      <th>8750</th>\n",
       "      <td>107906</td>\n",
       "      <td>107906</td>\n",
       "      <td>Roy Orbison</td>\n",
       "      <td>2011-08-04 00:26:01.465838</td>\n",
       "      <td>[['TRCLQAJ128F930EA2A', 1], ['TRQVSLV128F426AB...</td>\n",
       "      <td>[['oldies', '100'], ['60s', '76'], ['classic r...</td>\n",
       "      <td>TRDFAGW12903D0D80C</td>\n",
       "      <td>In Dreams</td>\n",
       "      <td>[[oldies, 100], [60s, 76], [classic rock, 40],...</td>\n",
       "      <td>[[TRCLQAJ128F930EA2A, 1], [TRQVSLV128F426AB64,...</td>\n",
       "      <td>0.132212</td>\n",
       "      <td>0.000172</td>\n",
       "      <td>0.067928</td>\n",
       "      <td>0.067928</td>\n",
       "      <td>0.004365</td>\n",
       "      <td>21.0</td>\n",
       "      <td>[[TRCLQAJ128F930EA2A, 1], [TRQVSLV128F426AB64,...</td>\n",
       "    </tr>\n",
       "  </tbody>\n",
       "</table>\n",
       "</div>"
      ],
      "text/plain": [
       "      Unnamed: 0  Unnamed: 0.1       artist                   timestamp  \\\n",
       "4749       89976         89976  Roy Orbison  2011-08-03 04:46:38.136309   \n",
       "8750      107906        107906  Roy Orbison  2011-08-04 00:26:01.465838   \n",
       "\n",
       "                                               similars  \\\n",
       "4749  [['TRUUJHZ128F92CAB60', 1], ['TRFAPGQ12903CD88...   \n",
       "8750  [['TRCLQAJ128F930EA2A', 1], ['TRQVSLV128F426AB...   \n",
       "\n",
       "                                                   tags            track_id  \\\n",
       "4749                    [['eryqahs favourites', '100']]  TRJBPKY128F92CAB65   \n",
       "8750  [['oldies', '100'], ['60s', '76'], ['classic r...  TRDFAGW12903D0D80C   \n",
       "\n",
       "           title                                        listed_tags  \\\n",
       "4749  Only Alive                        [[eryqahs favourites, 100]]   \n",
       "8750   In Dreams  [[oldies, 100], [60s, 76], [classic rock, 40],...   \n",
       "\n",
       "                                            listed_sims   Cluster  PageRank  \\\n",
       "4749  [[TRUUJHZ128F92CAB60, 1], [TRFAPGQ12903CD885E,...  0.000000  0.000093   \n",
       "8750  [[TRCLQAJ128F930EA2A, 1], [TRQVSLV128F426AB64,...  0.132212  0.000172   \n",
       "\n",
       "      DegreeCentrality  ClosenessCentrality  BetweennessCentrality  Degree  \\\n",
       "4749          0.056443             0.056443               0.000008     4.0   \n",
       "8750          0.067928             0.067928               0.004365    21.0   \n",
       "\n",
       "                                        listed_similars  \n",
       "4749  [[TRUUJHZ128F92CAB60, 1], [TRFAPGQ12903CD885E,...  \n",
       "8750  [[TRCLQAJ128F930EA2A, 1], [TRQVSLV128F426AB64,...  "
      ]
     },
     "execution_count": 65,
     "metadata": {},
     "output_type": "execute_result"
    }
   ],
   "source": [
    "three[ three.artist == 'Roy Orbison']"
   ]
  },
  {
   "cell_type": "code",
   "execution_count": 66,
   "metadata": {},
   "outputs": [
    {
     "name": "stdout",
     "output_type": "stream",
     "text": [
      "1. \n",
      "    artist:Roy Orbison, \n",
      "    title: In Dreams\n",
      "2. \n",
      "    artist:The Louvin Brothers, \n",
      "    title: I Don't Believe You've Met My Baby\n",
      "3. \n",
      "    artist:Switchfoot, \n",
      "    title: Meant To Live\n",
      "4. \n",
      "    artist:Rose Royce, \n",
      "    title: Ooh Boy\n",
      "5. \n",
      "    artist:The Box Tops, \n",
      "    title: Cry like a baby\n",
      "6. \n",
      "    artist:Jaydee, \n",
      "    title: Plastic Dreams\n",
      "7. \n",
      "    artist:The Bloody Beetroots, \n",
      "    title: Warp 1.9 (feat. Steve Aoki)\n",
      "8. \n",
      "    artist:Ian Gillan, \n",
      "    title: Texas State Of Mind\n",
      "9. \n",
      "    artist:The Gap Band, \n",
      "    title: Outstanding\n",
      "10. \n",
      "    artist:K's Choice, \n",
      "    title: Everything For Free\n"
     ]
    },
    {
     "data": {
      "text/plain": [
       "'tags: {three.listed_tags.iloc[i]}\\n metrics: {three.Degree.iloc[i]}, {three.Cluster.iloc[i]}, {three.DegreeCentrality.iloc[i]}'"
      ]
     },
     "execution_count": 66,
     "metadata": {},
     "output_type": "execute_result"
    }
   ],
   "source": [
    "for x in indices:\n",
    "    x = x.tolist()\n",
    "    #print(x)\n",
    "    if x[0] == 8750:\n",
    "        nn_list = x\n",
    "        \n",
    "int = 1\n",
    "for i in nn_list:\n",
    "    print(f\"\"\"{int}. \n",
    "    artist:{three.artist.iloc[i]}, \n",
    "    title: {three.title.iloc[i]}\"\"\")\n",
    "    int += 1 \n",
    "    \n",
    "\"\"\"tags: {three.listed_tags.iloc[i]}\n",
    " metrics: {three.Degree.iloc[i]}, {three.Cluster.iloc[i]}, {three.DegreeCentrality.iloc[i]}\"\"\""
   ]
  },
  {
   "cell_type": "code",
   "execution_count": 67,
   "metadata": {},
   "outputs": [
    {
     "name": "stdout",
     "output_type": "stream",
     "text": [
      "33 10\n",
      "43\n"
     ]
    }
   ],
   "source": [
    "edge_list['teb_knn'] = edge_list.index.isin(nn_list).astype(str) \n",
    "\n",
    "from sklearn import preprocessing\n",
    "le = preprocessing.LabelEncoder()\n",
    "le.fit(edge_list['teb_knn'])\n",
    "le.classes_\n",
    "\n",
    "edge_list['teb_knn'] = le.transform(edge_list['teb_knn'])\n",
    "#le.inverse_transform([0, 0, 1, 2])\n",
    "\n",
    "#\n",
    "\n",
    "teb_ids = edge_list[edge_list.teb_knn == 1 ].from_node.tolist()\n",
    "edge_list['teb_knn_2'] = edge_list.to_node.isin(teb_ids).astype(str)\n",
    "\n",
    "le.fit(edge_list['teb_knn_2'])\n",
    "edge_list['teb_knn_2'] = le.transform(edge_list['teb_knn_2'])\n",
    "\n",
    "#\n",
    "edge_list[ edge_list['teb_knn_2'] == 1 ]\n",
    "\n",
    "teb_edges = edge_list[ edge_list.teb_knn == 1 ]\n",
    "teb_e2 = edge_list[ edge_list.teb_knn_2 == 1 ]\n",
    "\n",
    "print( len(teb_e2), len(teb_edges))\n",
    "\n",
    "teb_edges = teb_edges.append(teb_e2)\n",
    "len(teb_edges)\n",
    "\n",
    "print(len(teb_edges))\n",
    "\n",
    "G = nx.from_pandas_edgelist(teb_edges, 'from_node', 'to_node')\n",
    "\n",
    "colors = []\n",
    "for node in G:\n",
    "    if node in teb_edges[\"teb_knn\"] == 1 :\n",
    "        colors.append(\"green\")\n",
    "    else: colors.append(\"#b88fbf\")"
   ]
  },
  {
   "cell_type": "code",
   "execution_count": 68,
   "metadata": {},
   "outputs": [
    {
     "data": {
      "image/png": "[encoded data removed]",
      "text/plain": [
       "<Figure size 720x576 with 1 Axes>"
      ]
     },
     "metadata": {},
     "output_type": "display_data"
    }
   ],
   "source": [
    "from matplotlib.pyplot import figure\n",
    "figure(figsize=(10, 8))\n",
    "nx.draw(G, node_size= 20 ,with_labels=False, node_color='#b88fbf')\n",
    "\n",
    "\n",
    "# plt.show()\n",
    "plt.title('KNN for In Dreams by Roy Orbison')\n",
    "plt.savefig(\"KNN_INDREAMS.jpg\", format = 'JPG')"
   ]
  },
  {
   "cell_type": "markdown",
   "metadata": {},
   "source": [
    "### New Order Round and Round "
   ]
  },
  {
   "cell_type": "code",
   "execution_count": 69,
   "metadata": {},
   "outputs": [],
   "source": [
    "#three.artist.drop_duplicates().tolist()"
   ]
  },
  {
   "cell_type": "code",
   "execution_count": 70,
   "metadata": {},
   "outputs": [],
   "source": [
    "#df[ df.artist == 'New Order']  #10479"
   ]
  },
  {
   "cell_type": "code",
   "execution_count": 71,
   "metadata": {},
   "outputs": [
    {
     "name": "stdout",
     "output_type": "stream",
     "text": [
      "1. \n",
      "    artist:New Order, \n",
      "    title: Round and Round)\n",
      "2. \n",
      "    artist:Alicia Keys, \n",
      "    title: Like You'll Never See Me Again)\n",
      "3. \n",
      "    artist:Playa, \n",
      "    title: Cheers 2 U)\n",
      "4. \n",
      "    artist:Cygnus X, \n",
      "    title: Superstring (Rank 1 Remix))\n",
      "5. \n",
      "    artist:Blue October, \n",
      "    title: Into The Ocean)\n",
      "6. \n",
      "    artist:Kelly Clarkson, \n",
      "    title: Never Again)\n",
      "7. \n",
      "    artist:The Killers, \n",
      "    title: Human)\n",
      "8. \n",
      "    artist:Kris Kristofferson, \n",
      "    title: Nobody Wins)\n",
      "9. \n",
      "    artist:Sam Collins, \n",
      "    title: The Jail House Blues)\n",
      "10. \n",
      "    artist:Lustral, \n",
      "    title: Everytime)\n"
     ]
    }
   ],
   "source": [
    "nn_list = []\n",
    "for x in indices:\n",
    "    x = x.tolist()\n",
    "    #print(x)\n",
    "    if x[0] == 10479:\n",
    "        nn_list = x\n",
    "        \n",
    "int = 1\n",
    "for i in nn_list:\n",
    "    print(f\"\"\"{int}. \n",
    "    artist:{three.artist.iloc[i]}, \n",
    "    title: {three.title.iloc[i]})\"\"\")\n",
    "    int += 1 "
   ]
  },
  {
   "cell_type": "code",
   "execution_count": 72,
   "metadata": {},
   "outputs": [
    {
     "name": "stdout",
     "output_type": "stream",
     "text": [
      "17 10\n",
      "27\n"
     ]
    }
   ],
   "source": [
    "edge_list['teb_knn'] = edge_list.index.isin(nn_list).astype(str) \n",
    "\n",
    "from sklearn import preprocessing\n",
    "le = preprocessing.LabelEncoder()\n",
    "le.fit(edge_list['teb_knn'])\n",
    "le.classes_\n",
    "\n",
    "edge_list['teb_knn'] = le.transform(edge_list['teb_knn'])\n",
    "#le.inverse_transform([0, 0, 1, 2])\n",
    "\n",
    "#\n",
    "\n",
    "teb_ids = edge_list[edge_list.teb_knn == 1 ].from_node.tolist()\n",
    "edge_list['teb_knn_2'] = edge_list.to_node.isin(teb_ids).astype(str)\n",
    "\n",
    "le.fit(edge_list['teb_knn_2'])\n",
    "edge_list['teb_knn_2'] = le.transform(edge_list['teb_knn_2'])\n",
    "\n",
    "#\n",
    "edge_list[ edge_list['teb_knn_2'] == 1 ]\n",
    "\n",
    "teb_edges = edge_list[ edge_list.teb_knn == 1 ]\n",
    "teb_e2 = edge_list[ edge_list.teb_knn_2 == 1 ]\n",
    "\n",
    "print( len(teb_e2), len(teb_edges))\n",
    "\n",
    "teb_edges = teb_edges.append(teb_e2)\n",
    "len(teb_edges)\n",
    "\n",
    "print(len(teb_edges))\n",
    "\n",
    "G = nx.from_pandas_edgelist(teb_edges, 'from_node', 'to_node')\n",
    "\n",
    "colors = []\n",
    "for node in G:\n",
    "    if node in teb_edges[\"teb_knn\"] == 1 :\n",
    "        colors.append(\"green\")\n",
    "    else: colors.append(\"#b88fbf\")"
   ]
  },
  {
   "cell_type": "code",
   "execution_count": 73,
   "metadata": {},
   "outputs": [
    {
     "data": {
      "image/png": "[encoded data removed]",
      "text/plain": [
       "<Figure size 720x576 with 1 Axes>"
      ]
     },
     "metadata": {},
     "output_type": "display_data"
    }
   ],
   "source": [
    "from matplotlib.pyplot import figure\n",
    "figure(figsize=(10, 8))\n",
    "nx.draw(G, node_size= 20 ,with_labels=False, node_color='#b88fbf')\n",
    "\n",
    "\n",
    "# plt.show()\n",
    "plt.title('KNN for Round and Round, New Order')\n",
    "plt.savefig(\"KNN_NEWORDER.jpg\", format = 'JPG')"
   ]
  },
  {
   "cell_type": "markdown",
   "metadata": {},
   "source": [
    "# MANUAL"
   ]
  },
  {
   "cell_type": "code",
   "execution_count": 110,
   "metadata": {},
   "outputs": [],
   "source": [
    "def find_manual_matches(track_index, returned_no, percent_match1, percent_match2):\n",
    "    matches = [] \n",
    "    total = returned_no\n",
    "    matches.append(df.track_id.iloc[track_index])\n",
    "    total -= 1\n",
    "    \n",
    "    # find song id in df \n",
    "    ## iloc and run through similars. \n",
    "    for g in df.listed_sims.iloc[track_index]:\n",
    "        if total != 0:\n",
    "            if g[1] > percent_match1:\n",
    "                matches.append(g[0])\n",
    "                total -= 1\n",
    "    \n",
    "    tags_to_m = [] \n",
    "    # from tags select most similar tags \n",
    "    for g in df.listed_tags.iloc[track_index]:\n",
    "        if total != 0:\n",
    "            try: \n",
    "                h = int(g[1])\n",
    "                if percent_match2 <= h:\n",
    "                    tags_to_m.append(g[0])\n",
    "            except: \n",
    "                pass\n",
    "    \n",
    "    sim_track_tags = []\n",
    "    #compare similarity of contents. \n",
    "    for i, row in df.iterrows():\n",
    "        if total != 0:\n",
    "            for g in row.listed_tags:\n",
    "                #print(g[0])\n",
    "                if g[0] in tags_to_m:\n",
    "                    #print('here')\n",
    "                    h = g[1]\n",
    "                    h = float(h)\n",
    "                    if h > percent_match2:\n",
    "                        #print('bingo')\n",
    "                        matches.append(row.track_id)\n",
    "                        total -= 1\n",
    "                else:\n",
    "                    pass\n",
    "    return matches\n"
   ]
  },
  {
   "cell_type": "markdown",
   "metadata": {},
   "source": [
    "### Roy Orbison "
   ]
  },
  {
   "cell_type": "code",
   "execution_count": 116,
   "metadata": {},
   "outputs": [
    {
     "data": {
      "text/html": [
       "<div>\n",
       "<style scoped>\n",
       "    .dataframe tbody tr th:only-of-type {\n",
       "        vertical-align: middle;\n",
       "    }\n",
       "\n",
       "    .dataframe tbody tr th {\n",
       "        vertical-align: top;\n",
       "    }\n",
       "\n",
       "    .dataframe thead th {\n",
       "        text-align: right;\n",
       "    }\n",
       "</style>\n",
       "<table border=\"1\" class=\"dataframe\">\n",
       "  <thead>\n",
       "    <tr style=\"text-align: right;\">\n",
       "      <th></th>\n",
       "      <th>artist</th>\n",
       "      <th>title</th>\n",
       "    </tr>\n",
       "  </thead>\n",
       "  <tbody>\n",
       "    <tr>\n",
       "      <th>8750</th>\n",
       "      <td>Roy Orbison</td>\n",
       "      <td>In Dreams</td>\n",
       "    </tr>\n",
       "  </tbody>\n",
       "</table>\n",
       "</div>"
      ],
      "text/plain": [
       "           artist      title\n",
       "8750  Roy Orbison  In Dreams"
      ]
     },
     "execution_count": 116,
     "metadata": {},
     "output_type": "execute_result"
    }
   ],
   "source": [
    "RO_matches = find_manual_matches(8750, 24, .5, 95)\n",
    "x = df[ df.track_id.isin(RO_matches)]\n",
    "x[['artist', 'title']]"
   ]
  },
  {
   "cell_type": "code",
   "execution_count": 117,
   "metadata": {},
   "outputs": [
    {
     "data": {
      "text/html": [
       "<div>\n",
       "<style scoped>\n",
       "    .dataframe tbody tr th:only-of-type {\n",
       "        vertical-align: middle;\n",
       "    }\n",
       "\n",
       "    .dataframe tbody tr th {\n",
       "        vertical-align: top;\n",
       "    }\n",
       "\n",
       "    .dataframe thead th {\n",
       "        text-align: right;\n",
       "    }\n",
       "</style>\n",
       "<table border=\"1\" class=\"dataframe\">\n",
       "  <thead>\n",
       "    <tr style=\"text-align: right;\">\n",
       "      <th></th>\n",
       "      <th>Unnamed: 0</th>\n",
       "      <th>Unnamed: 0.1</th>\n",
       "      <th>artist</th>\n",
       "      <th>timestamp</th>\n",
       "      <th>similars</th>\n",
       "      <th>tags</th>\n",
       "      <th>track_id</th>\n",
       "      <th>title</th>\n",
       "      <th>listed_tags</th>\n",
       "      <th>listed_sims</th>\n",
       "    </tr>\n",
       "  </thead>\n",
       "  <tbody>\n",
       "  </tbody>\n",
       "</table>\n",
       "</div>"
      ],
      "text/plain": [
       "Empty DataFrame\n",
       "Columns: [Unnamed: 0, Unnamed: 0.1, artist, timestamp, similars, tags, track_id, title, listed_tags, listed_sims]\n",
       "Index: []"
      ]
     },
     "execution_count": 117,
     "metadata": {},
     "output_type": "execute_result"
    }
   ],
   "source": [
    "df[ df.track_id == 'TRCLQAJ128F930EA2A']"
   ]
  },
  {
   "cell_type": "markdown",
   "metadata": {},
   "source": [
    "### Third Eye Blind"
   ]
  },
  {
   "cell_type": "code",
   "execution_count": 118,
   "metadata": {},
   "outputs": [
    {
     "data": {
      "text/html": [
       "<div>\n",
       "<style scoped>\n",
       "    .dataframe tbody tr th:only-of-type {\n",
       "        vertical-align: middle;\n",
       "    }\n",
       "\n",
       "    .dataframe tbody tr th {\n",
       "        vertical-align: top;\n",
       "    }\n",
       "\n",
       "    .dataframe thead th {\n",
       "        text-align: right;\n",
       "    }\n",
       "</style>\n",
       "<table border=\"1\" class=\"dataframe\">\n",
       "  <thead>\n",
       "    <tr style=\"text-align: right;\">\n",
       "      <th></th>\n",
       "      <th>artist</th>\n",
       "      <th>title</th>\n",
       "    </tr>\n",
       "  </thead>\n",
       "  <tbody>\n",
       "    <tr>\n",
       "      <th>9758</th>\n",
       "      <td>Third Eye Blind</td>\n",
       "      <td>Losing A Whole Year (2006 Remastered LP Version)</td>\n",
       "    </tr>\n",
       "  </tbody>\n",
       "</table>\n",
       "</div>"
      ],
      "text/plain": [
       "               artist                                             title\n",
       "9758  Third Eye Blind  Losing A Whole Year (2006 Remastered LP Version)"
      ]
     },
     "execution_count": 118,
     "metadata": {},
     "output_type": "execute_result"
    }
   ],
   "source": [
    "TEB_matches = find_manual_matches(9758, 24, .7, 99)\n",
    "x = df[ df.track_id.isin(TEB_matches)]\n",
    "x[['artist', 'title']]\n",
    "#indices = 9758, 930, 1127, 939, 804, 1647, 1729, 392, 1579, 834"
   ]
  },
  {
   "cell_type": "markdown",
   "metadata": {},
   "source": [
    "### New Order"
   ]
  },
  {
   "cell_type": "code",
   "execution_count": 119,
   "metadata": {},
   "outputs": [
    {
     "data": {
      "text/html": [
       "<div>\n",
       "<style scoped>\n",
       "    .dataframe tbody tr th:only-of-type {\n",
       "        vertical-align: middle;\n",
       "    }\n",
       "\n",
       "    .dataframe tbody tr th {\n",
       "        vertical-align: top;\n",
       "    }\n",
       "\n",
       "    .dataframe thead th {\n",
       "        text-align: right;\n",
       "    }\n",
       "</style>\n",
       "<table border=\"1\" class=\"dataframe\">\n",
       "  <thead>\n",
       "    <tr style=\"text-align: right;\">\n",
       "      <th></th>\n",
       "      <th>artist</th>\n",
       "      <th>title</th>\n",
       "    </tr>\n",
       "  </thead>\n",
       "  <tbody>\n",
       "    <tr>\n",
       "      <th>10479</th>\n",
       "      <td>New Order</td>\n",
       "      <td>Round and Round</td>\n",
       "    </tr>\n",
       "  </tbody>\n",
       "</table>\n",
       "</div>"
      ],
      "text/plain": [
       "          artist            title\n",
       "10479  New Order  Round and Round"
      ]
     },
     "execution_count": 119,
     "metadata": {},
     "output_type": "execute_result"
    }
   ],
   "source": [
    "NO_matches = find_manual_matches(10479, 24, .7, 99)\n",
    "x = df[ df.track_id.isin(NO_matches)]\n",
    "x[['artist', 'title']]\n",
    "#indices = 10479, 2984, 2002, 2402, 337, 563, 1, 2475, 1363, 717"
   ]
  },
  {
   "cell_type": "markdown",
   "metadata": {},
   "source": [
    "# Latent Semantic Indexing "
   ]
  },
  {
   "cell_type": "code",
   "execution_count": 120,
   "metadata": {},
   "outputs": [
    {
     "data": {
      "text/html": [
       "<div>\n",
       "<style scoped>\n",
       "    .dataframe tbody tr th:only-of-type {\n",
       "        vertical-align: middle;\n",
       "    }\n",
       "\n",
       "    .dataframe tbody tr th {\n",
       "        vertical-align: top;\n",
       "    }\n",
       "\n",
       "    .dataframe thead th {\n",
       "        text-align: right;\n",
       "    }\n",
       "</style>\n",
       "<table border=\"1\" class=\"dataframe\">\n",
       "  <thead>\n",
       "    <tr style=\"text-align: right;\">\n",
       "      <th></th>\n",
       "      <th>Unnamed: 0</th>\n",
       "      <th>Unnamed: 0.1</th>\n",
       "      <th>artist</th>\n",
       "      <th>timestamp</th>\n",
       "      <th>similars</th>\n",
       "      <th>tags</th>\n",
       "      <th>track_id</th>\n",
       "      <th>title</th>\n",
       "      <th>listed_tags</th>\n",
       "      <th>listed_sims</th>\n",
       "    </tr>\n",
       "  </thead>\n",
       "  <tbody>\n",
       "    <tr>\n",
       "      <th>7478</th>\n",
       "      <td>253128</td>\n",
       "      <td>253128</td>\n",
       "      <td>Björk</td>\n",
       "      <td>2011-08-03 19:25:53.648756</td>\n",
       "      <td>[['TRNAQBJ128F42B87E9', 0.0880913], ['TRWSDTJ1...</td>\n",
       "      <td>[['electronic', '100'], ['alternative', '76'],...</td>\n",
       "      <td>TRYLMAS128F931A0E4</td>\n",
       "      <td>Alarm Call</td>\n",
       "      <td>[[electronic, 100], [alternative, 76], [experi...</td>\n",
       "      <td>[[TRNAQBJ128F42B87E9, 0.0880913], [TRWSDTJ128F...</td>\n",
       "    </tr>\n",
       "  </tbody>\n",
       "</table>\n",
       "</div>"
      ],
      "text/plain": [
       "      Unnamed: 0  Unnamed: 0.1 artist                   timestamp  \\\n",
       "7478      253128        253128  Björk  2011-08-03 19:25:53.648756   \n",
       "\n",
       "                                               similars  \\\n",
       "7478  [['TRNAQBJ128F42B87E9', 0.0880913], ['TRWSDTJ1...   \n",
       "\n",
       "                                                   tags            track_id  \\\n",
       "7478  [['electronic', '100'], ['alternative', '76'],...  TRYLMAS128F931A0E4   \n",
       "\n",
       "           title                                        listed_tags  \\\n",
       "7478  Alarm Call  [[electronic, 100], [alternative, 76], [experi...   \n",
       "\n",
       "                                            listed_sims  \n",
       "7478  [[TRNAQBJ128F42B87E9, 0.0880913], [TRWSDTJ128F...  "
      ]
     },
     "execution_count": 120,
     "metadata": {},
     "output_type": "execute_result"
    }
   ],
   "source": [
    "df[ df.artist == 'Björk'] #253128"
   ]
  },
  {
   "cell_type": "code",
   "execution_count": 121,
   "metadata": {},
   "outputs": [],
   "source": [
    "#import modules\n",
    "import os.path\n",
    "from gensim import corpora\n",
    "from gensim.models import LsiModel\n",
    "from nltk.tokenize import RegexpTokenizer\n",
    "from nltk.corpus import stopwords\n",
    "from nltk.stem.porter import PorterStemmer\n",
    "from gensim.models.coherencemodel import CoherenceModel\n",
    "import matplotlib.pyplot as plt\n"
   ]
  },
  {
   "cell_type": "markdown",
   "metadata": {},
   "source": [
    "### Preprocessing\n",
    "1. tokenize\n",
    "2. remove stop words \n",
    "3. stemming (might not be applicable)"
   ]
  },
  {
   "cell_type": "code",
   "execution_count": 122,
   "metadata": {},
   "outputs": [],
   "source": [
    "tags_tke =[]\n",
    "for row in df.listed_tags:\n",
    "    instance_tke = '' \n",
    "    for x in row:\n",
    "        #print(type(x), x[0], x[1])\n",
    "        instance_tke += x[0] + \" \"\n",
    "    tags_tke.append(instance_tke)"
   ]
  },
  {
   "cell_type": "code",
   "execution_count": 133,
   "metadata": {},
   "outputs": [
    {
     "data": {
      "text/plain": [
       "'tropicalia mpb energizing latin music Festa afoxe grew up on celebrating life sempre colocam as fotos mais ridculas do caetano no lastfm eterno retorno '"
      ]
     },
     "execution_count": 133,
     "metadata": {},
     "output_type": "execute_result"
    }
   ],
   "source": [
    "tags_tke[0]"
   ]
  },
  {
   "cell_type": "code",
   "execution_count": 134,
   "metadata": {},
   "outputs": [],
   "source": [
    "# initialize regex tokenizer\n",
    "tokenizer = RegexpTokenizer(r'\\w+')\n",
    "\n",
    "# create English stop words list\n",
    "en_stop = set(stopwords.words('english'))\n",
    "\n",
    "# Create p_stemmer of class PorterStemmer\n",
    "p_stemmer = PorterStemmer()"
   ]
  },
  {
   "cell_type": "markdown",
   "metadata": {},
   "source": [
    "### Tokenize"
   ]
  },
  {
   "cell_type": "code",
   "execution_count": 135,
   "metadata": {},
   "outputs": [],
   "source": [
    "texts = []\n",
    "tokensl = []\n",
    "for i in tags_tke:\n",
    "    # clean and tokenize document string\n",
    "    raw = i.lower()\n",
    "    tokens = tokenizer.tokenize(raw)\n",
    "    tokensl.append(tokens)\n",
    "    # remove stop words from tokens\n",
    "    stopped_tokens = [i for i in tokens if not i in en_stop]\n",
    "    # stem tokens\n",
    "    stemmed_tokens = [p_stemmer.stem(i) for i in stopped_tokens]\n",
    "    # add tokens to list\n",
    "    texts.append(stemmed_tokens)"
   ]
  },
  {
   "cell_type": "code",
   "execution_count": 136,
   "metadata": {},
   "outputs": [],
   "source": [
    "df['text'] = texts"
   ]
  },
  {
   "cell_type": "code",
   "execution_count": 137,
   "metadata": {},
   "outputs": [],
   "source": [
    "tag_genre_to_replace = [\n",
    "    'rock',\n",
    "     'pop',\n",
    "     'alternative',\n",
    "     'indie',\n",
    "     'electronic',\n",
    "     'alternative rock',\n",
    "     'dance',\n",
    "     'metal',\n",
    "     'singer-songwriter',\n",
    "     'jazz',\n",
    "     'indie rock',\n",
    "     'soul',\n",
    "     'classic rock',\n",
    "     'electronica',\n",
    "     'punk',\n",
    "     'instrumental',\n",
    "     'folk',\n",
    "     'blues',\n",
    "     'oldies',\n",
    "     'hard rock',\n",
    "     'acoustic',\n",
    "     'female vocalist',\n",
    "     'ambient',\n",
    "     'party',\n",
    "     'guitar',\n",
    "     'favourite',\n",
    "     '70s',\n",
    "     'easy listening']"
   ]
  },
  {
   "cell_type": "code",
   "execution_count": 147,
   "metadata": {},
   "outputs": [],
   "source": [
    "tokens_cl = [] \n",
    "for entry in tokensl:\n",
    "    entry_cleaned = [] \n",
    "    for word in entry:\n",
    "        if word not in tag_genre_to_replace:\n",
    "            entry_cleaned.append(word)\n",
    "        else:\n",
    "            pass\n",
    "    tokens_cl.append(entry_cleaned)"
   ]
  },
  {
   "cell_type": "code",
   "execution_count": 152,
   "metadata": {},
   "outputs": [],
   "source": [
    "df['text_cleaned'] = tokens_cl"
   ]
  },
  {
   "cell_type": "code",
   "execution_count": 153,
   "metadata": {},
   "outputs": [],
   "source": [
    "def prepare_corpus(doc_clean):\n",
    "    \"\"\"\n",
    "    Input  : clean document\n",
    "    Purpose: create term dictionary of our courpus and Converting list of documents (corpus) into Document Term Matrix\n",
    "    Output : term dictionary and Document Term Matrix\n",
    "    \"\"\"\n",
    "    # Creating the term dictionary of our courpus, where every unique term is assigned an index. dictionary = corpora.Dictionary(doc_clean)\n",
    "    dictionary = corpora.Dictionary(doc_clean)\n",
    "    # Converting list of documents (corpus) into Document Term Matrix using dictionary prepared above.\n",
    "    doc_term_matrix = [dictionary.doc2bow(doc) for doc in doc_clean]\n",
    "    # generate LDA model\n",
    "    return dictionary,doc_term_matrix"
   ]
  },
  {
   "cell_type": "code",
   "execution_count": 154,
   "metadata": {},
   "outputs": [],
   "source": [
    "dicto, doc_term_m = prepare_corpus(texts)\n",
    "dicto2, doc_term_m2 = prepare_corpus(tokens_cl)"
   ]
  },
  {
   "cell_type": "code",
   "execution_count": 155,
   "metadata": {},
   "outputs": [],
   "source": [
    "def create_gensim_lsa_model(doc_clean,number_of_topics,words):\n",
    "    \"\"\"\n",
    "    Input  : clean document, number of topics and number of words associated with each topic\n",
    "    Purpose: create LSA model using gensim\n",
    "    Output : return LSA model\n",
    "    \"\"\"\n",
    "    dictionary,doc_term_matrix=prepare_corpus(doc_clean)\n",
    "    # generate LSA model\n",
    "    lsamodel = LsiModel(doc_term_matrix, num_topics=number_of_topics, id2word = dictionary)  # train model\n",
    "    print(lsamodel.print_topics(num_topics=number_of_topics, num_words=words))\n",
    "    return lsamodel"
   ]
  },
  {
   "cell_type": "code",
   "execution_count": 156,
   "metadata": {},
   "outputs": [],
   "source": [
    "def compute_coherence_values(dictionary, doc_term_matrix, doc_clean, stop, start=2, step=3):\n",
    "    \"\"\"\n",
    "    Input   : dictionary : Gensim dictionary\n",
    "              corpus : Gensim corpus\n",
    "              texts : List of input texts\n",
    "              stop : Max num of topics\n",
    "    purpose : Compute c_v coherence for various number of topics\n",
    "    Output  : model_list : List of LSA topic models\n",
    "              coherence_values : Coherence values corresponding to the LDA model with respective number of topics\n",
    "    \"\"\"\n",
    "    coherence_values = []\n",
    "    model_list = []\n",
    "    for num_topics in range(start, stop, step):\n",
    "        # generate LSA model\n",
    "        model = LsiModel(doc_term_matrix, num_topics=number_of_topics, id2word = dictionary)  # train model\n",
    "        model_list.append(model)\n",
    "        coherencemodel = CoherenceModel(model=model, texts=doc_clean, dictionary=dictionary, coherence='c_v')\n",
    "        coherence_values.append(coherencemodel.get_coherence())\n",
    "    return model_list, coherence_values"
   ]
  },
  {
   "cell_type": "code",
   "execution_count": 157,
   "metadata": {},
   "outputs": [],
   "source": [
    "def plot_graph(doc_clean,start, stop, step):\n",
    "    dictionary,doc_term_matrix=prepare_corpus(doc_clean)\n",
    "    model_list, coherence_values = compute_coherence_values(dictionary, doc_term_matrix,doc_clean,\n",
    "                                                            stop, start, step)\n",
    "    # Show graph\n",
    "    x = range(start, stop, step)\n",
    "    plt.plot(x, coherence_values, color = 'cornflowerblue')\n",
    "    plt.title('Coherence Score for LSI by Number of Topics')\n",
    "    plt.xlabel(\"Number of Topics\")\n",
    "    plt.ylabel(\"Coherence score\")\n",
    "    plt.legend((\"coherence_values\"), loc='best')\n",
    "    plt.show()"
   ]
  },
  {
   "cell_type": "code",
   "execution_count": 158,
   "metadata": {},
   "outputs": [
    {
     "name": "stdout",
     "output_type": "stream",
     "text": [
      "[(0, '0.673*\"rock\" + 0.306*\"song\" + 0.266*\"metal\" + 0.220*\"love\" + 0.202*\"pop\" + 0.161*\"favorit\" + 0.138*\"altern\" + 0.114*\"indi\" + 0.110*\"classic\" + 0.109*\"music\"'), (1, '-0.896*\"metal\" + 0.160*\"pop\" + -0.153*\"death\" + 0.116*\"love\" + 0.107*\"song\" + 0.097*\"rock\" + -0.095*\"heavi\" + -0.090*\"black\" + 0.081*\"indi\" + -0.074*\"melod\"'), (2, '-0.613*\"rock\" + 0.268*\"love\" + 0.255*\"song\" + 0.242*\"jazz\" + 0.203*\"femal\" + 0.176*\"soul\" + 0.164*\"hop\" + 0.155*\"danc\" + 0.148*\"pop\" + 0.147*\"metal\"'), (3, '-0.786*\"jazz\" + -0.252*\"blue\" + 0.238*\"song\" + 0.166*\"pop\" + -0.162*\"rock\" + -0.149*\"soul\" + 0.131*\"indi\" + -0.115*\"classic\" + 0.115*\"punk\" + 0.105*\"love\"'), (4, '0.591*\"hop\" + 0.557*\"hip\" + 0.262*\"rap\" + -0.172*\"femal\" + -0.168*\"jazz\" + -0.151*\"pop\" + 0.110*\"classic\" + -0.108*\"love\" + -0.107*\"song\" + 0.098*\"rock\"'), (5, '0.411*\"danc\" + 0.347*\"hous\" + 0.337*\"tranc\" + -0.313*\"song\" + 0.231*\"electro\" + -0.216*\"blue\" + 0.197*\"electron\" + 0.157*\"electronica\" + 0.156*\"pop\" + 0.142*\"techno\"'), (6, '-0.408*\"blue\" + 0.382*\"jazz\" + 0.377*\"punk\" + -0.250*\"classic\" + -0.227*\"soul\" + 0.225*\"altern\" + 0.210*\"indi\" + 0.186*\"hop\" + 0.170*\"hip\" + -0.169*\"danc\"'), (7, '0.482*\"femal\" + 0.442*\"pop\" + -0.357*\"song\" + -0.331*\"punk\" + 0.212*\"vocalist\" + 0.145*\"hop\" + -0.133*\"tranc\" + -0.126*\"hous\" + 0.124*\"hip\" + 0.106*\"rock\"')]\n"
     ]
    }
   ],
   "source": [
    "# LSA Model\n",
    "number_of_topics=8\n",
    "words=10\n",
    "document_list = df.track_id\n",
    "titles= df.title\n",
    "clean_text=texts\n",
    "model=create_gensim_lsa_model(clean_text,number_of_topics,words)"
   ]
  },
  {
   "cell_type": "code",
   "execution_count": 159,
   "metadata": {},
   "outputs": [
    {
     "name": "stdout",
     "output_type": "stream",
     "text": [
      "[(0, '0.410*\"the\" + 0.314*\"songs\" + 0.257*\"love\" + 0.224*\"of\" + 0.217*\"to\" + 0.217*\"i\" + 0.195*\"my\" + 0.176*\"and\" + 0.162*\"music\" + 0.142*\"female\"'), (1, '0.656*\"hop\" + 0.612*\"hip\" + 0.279*\"rap\" + -0.111*\"songs\" + 0.087*\"hiphop\" + 0.085*\"underground\" + -0.078*\"love\" + 0.073*\"old\" + 0.055*\"school\" + -0.053*\"female\"'), (2, '-0.561*\"female\" + 0.550*\"the\" + -0.279*\"love\" + 0.169*\"of\" + -0.162*\"vocalists\" + -0.105*\"vocalist\" + -0.103*\"vocal\" + 0.102*\"classic\" + 0.100*\"80s\" + -0.097*\"singer\"'), (3, '-0.549*\"trance\" + -0.517*\"house\" + -0.269*\"electro\" + -0.202*\"progressive\" + -0.195*\"techno\" + -0.180*\"club\" + 0.161*\"songs\" + -0.126*\"beat\" + -0.125*\"minimal\" + -0.118*\"music\"'), (4, '0.563*\"female\" + 0.486*\"the\" + -0.275*\"i\" + -0.203*\"songs\" + -0.193*\"love\" + -0.155*\"to\" + 0.154*\"of\" + 0.151*\"vocalists\" + -0.116*\"song\" + 0.103*\"singer\"'), (5, '0.437*\"classic\" + 0.325*\"british\" + 0.288*\"heavy\" + 0.260*\"hard\" + 0.245*\"80s\" + -0.215*\"the\" + 0.214*\"country\" + -0.199*\"to\" + -0.167*\"i\" + 0.145*\"songs\"'), (6, '-0.544*\"country\" + 0.394*\"death\" + 0.232*\"female\" + -0.172*\"male\" + 0.170*\"melodic\" + 0.167*\"heavy\" + 0.167*\"black\" + -0.159*\"and\" + 0.152*\"doom\" + 0.128*\"of\"'), (7, '0.621*\"country\" + 0.342*\"death\" + -0.206*\"and\" + -0.204*\"british\" + -0.172*\"80s\" + 0.162*\"trance\" + 0.130*\"black\" + 0.129*\"melodic\" + -0.123*\"to\" + 0.121*\"songs\"')]\n"
     ]
    }
   ],
   "source": [
    "# LSA Model\n",
    "number_of_topics=8\n",
    "words=10\n",
    "document_list = df.track_id\n",
    "titles= df.title\n",
    "clean_text=tokens_cl\n",
    "model=create_gensim_lsa_model(clean_text,number_of_topics,words)"
   ]
  },
  {
   "cell_type": "code",
   "execution_count": 160,
   "metadata": {},
   "outputs": [
    {
     "data": {
      "image/png": "[encoded data removed]",
      "text/plain": [
       "<Figure size 432x288 with 1 Axes>"
      ]
     },
     "metadata": {
      "needs_background": "light"
     },
     "output_type": "display_data"
    }
   ],
   "source": [
    "start,stop,step=2,12,1\n",
    "plot_graph(clean_text,start,stop,step)"
   ]
  },
  {
   "cell_type": "code",
   "execution_count": 163,
   "metadata": {},
   "outputs": [],
   "source": [
    "dictionary = corpora.Dictionary(texts)\n",
    "corpus = [dictionary.doc2bow(text) for text in texts]\n",
    "\n",
    "from gensim import models\n",
    "lsi = models.LsiModel(corpus, id2word=dictionary, num_topics=8)"
   ]
  },
  {
   "cell_type": "code",
   "execution_count": 164,
   "metadata": {},
   "outputs": [],
   "source": [
    "dictionary2 = corpora.Dictionary(tokens_cl)\n",
    "corpus2 = [dictionary.doc2bow(text) for text in tokens_cl]\n",
    "\n",
    "from gensim import models\n",
    "lsi2 = models.LsiModel(corpus2, id2word=dictionary2, num_topics=8)"
   ]
  },
  {
   "cell_type": "markdown",
   "metadata": {},
   "source": [
    "## Third Eye Blind"
   ]
  },
  {
   "cell_type": "code",
   "execution_count": 168,
   "metadata": {},
   "outputs": [],
   "source": [
    "#df.text.iloc[9758]\n",
    "#texts[9758]"
   ]
  },
  {
   "cell_type": "code",
   "execution_count": 169,
   "metadata": {},
   "outputs": [
    {
     "name": "stdout",
     "output_type": "stream",
     "text": [
      "[(0, 4.185903045461339), (1, -0.31594383151525396), (2, -0.44989370745828333), (3, 0.7613894411326454), (4, -0.40683844124341123), (5, -0.04551662302662353), (6, -0.7586768780884915), (7, 0.5156944997881637)]\n"
     ]
    }
   ],
   "source": [
    "doc = texts[9758]\n",
    "vec_bow = dictionary.doc2bow(doc)\n",
    "vec_lsi = lsi[vec_bow]  # convert the query to LSI space\n",
    "print(vec_lsi)"
   ]
  },
  {
   "cell_type": "code",
   "execution_count": 170,
   "metadata": {},
   "outputs": [],
   "source": [
    "from gensim import similarities\n",
    "index = similarities.MatrixSimilarity(lsi[corpus])  # transform corpus to LSI space and index it\n"
   ]
  },
  {
   "cell_type": "code",
   "execution_count": 171,
   "metadata": {},
   "outputs": [
    {
     "name": "stdout",
     "output_type": "stream",
     "text": [
      "10693\n"
     ]
    }
   ],
   "source": [
    "sims = index[vec_lsi]  # perform a similarity query against the corpus\n",
    "print(len(sims) ) # print (document_number, document_similarity) 2-tuples"
   ]
  },
  {
   "cell_type": "code",
   "execution_count": 172,
   "metadata": {},
   "outputs": [],
   "source": [
    "df['TEB_lsi_score'] = sims"
   ]
  },
  {
   "cell_type": "code",
   "execution_count": 173,
   "metadata": {},
   "outputs": [
    {
     "data": {
      "text/html": [
       "<div>\n",
       "<style scoped>\n",
       "    .dataframe tbody tr th:only-of-type {\n",
       "        vertical-align: middle;\n",
       "    }\n",
       "\n",
       "    .dataframe tbody tr th {\n",
       "        vertical-align: top;\n",
       "    }\n",
       "\n",
       "    .dataframe thead th {\n",
       "        text-align: right;\n",
       "    }\n",
       "</style>\n",
       "<table border=\"1\" class=\"dataframe\">\n",
       "  <thead>\n",
       "    <tr style=\"text-align: right;\">\n",
       "      <th></th>\n",
       "      <th>artist</th>\n",
       "      <th>title</th>\n",
       "    </tr>\n",
       "  </thead>\n",
       "  <tbody>\n",
       "    <tr>\n",
       "      <th>5755</th>\n",
       "      <td>The Ordinary Boys</td>\n",
       "      <td>All the Things She Said</td>\n",
       "    </tr>\n",
       "    <tr>\n",
       "      <th>6473</th>\n",
       "      <td>Lifehouse</td>\n",
       "      <td>Sky Is Falling</td>\n",
       "    </tr>\n",
       "    <tr>\n",
       "      <th>2857</th>\n",
       "      <td>Feeder</td>\n",
       "      <td>We Can't Rewind</td>\n",
       "    </tr>\n",
       "    <tr>\n",
       "      <th>8338</th>\n",
       "      <td>No Doubt</td>\n",
       "      <td>Sad For Me</td>\n",
       "    </tr>\n",
       "    <tr>\n",
       "      <th>9484</th>\n",
       "      <td>Switchfoot</td>\n",
       "      <td>Meant To Live</td>\n",
       "    </tr>\n",
       "    <tr>\n",
       "      <th>4847</th>\n",
       "      <td>PJ Harvey</td>\n",
       "      <td>Hardly Wait</td>\n",
       "    </tr>\n",
       "    <tr>\n",
       "      <th>3682</th>\n",
       "      <td>Anberlin</td>\n",
       "      <td>A Whisper &amp; A Clamor</td>\n",
       "    </tr>\n",
       "    <tr>\n",
       "      <th>889</th>\n",
       "      <td>Train</td>\n",
       "      <td>I Am</td>\n",
       "    </tr>\n",
       "    <tr>\n",
       "      <th>7506</th>\n",
       "      <td>Spinnerette</td>\n",
       "      <td>Driving Song</td>\n",
       "    </tr>\n",
       "  </tbody>\n",
       "</table>\n",
       "</div>"
      ],
      "text/plain": [
       "                 artist                    title\n",
       "5755  The Ordinary Boys  All the Things She Said\n",
       "6473          Lifehouse           Sky Is Falling\n",
       "2857             Feeder          We Can't Rewind\n",
       "8338           No Doubt               Sad For Me\n",
       "9484         Switchfoot            Meant To Live\n",
       "4847          PJ Harvey              Hardly Wait\n",
       "3682           Anberlin     A Whisper & A Clamor\n",
       "889               Train                     I Am\n",
       "7506        Spinnerette             Driving Song"
      ]
     },
     "execution_count": 173,
     "metadata": {},
     "output_type": "execute_result"
    }
   ],
   "source": [
    "outline = df[ df.TEB_lsi_score > .95].sample(9)\n",
    "outline[['artist', 'title']]"
   ]
  },
  {
   "cell_type": "code",
   "execution_count": 174,
   "metadata": {},
   "outputs": [],
   "source": [
    "# Bandabardò\tHéros not found; replace with most popular song \n",
    "##df.iloc[9758, 8763, 6030, 7303, 4313, 10432, 9466, 94, 1119, 8222]"
   ]
  },
  {
   "cell_type": "code",
   "execution_count": 176,
   "metadata": {},
   "outputs": [
    {
     "name": "stdout",
     "output_type": "stream",
     "text": [
      "[(0, 4.185903045461339), (1, -0.31594383151525396), (2, -0.44989370745828333), (3, 0.7613894411326454), (4, -0.40683844124341123), (5, -0.04551662302662353), (6, -0.7586768780884915), (7, 0.5156944997881637)]\n",
      "10693\n"
     ]
    },
    {
     "data": {
      "text/html": [
       "<div>\n",
       "<style scoped>\n",
       "    .dataframe tbody tr th:only-of-type {\n",
       "        vertical-align: middle;\n",
       "    }\n",
       "\n",
       "    .dataframe tbody tr th {\n",
       "        vertical-align: top;\n",
       "    }\n",
       "\n",
       "    .dataframe thead th {\n",
       "        text-align: right;\n",
       "    }\n",
       "</style>\n",
       "<table border=\"1\" class=\"dataframe\">\n",
       "  <thead>\n",
       "    <tr style=\"text-align: right;\">\n",
       "      <th></th>\n",
       "      <th>artist</th>\n",
       "      <th>title</th>\n",
       "    </tr>\n",
       "  </thead>\n",
       "  <tbody>\n",
       "    <tr>\n",
       "      <th>9758</th>\n",
       "      <td>Third Eye Blind</td>\n",
       "      <td>Losing A Whole Year (2006 Remastered LP Version)</td>\n",
       "    </tr>\n",
       "  </tbody>\n",
       "</table>\n",
       "</div>"
      ],
      "text/plain": [
       "               artist                                             title\n",
       "9758  Third Eye Blind  Losing A Whole Year (2006 Remastered LP Version)"
      ]
     },
     "execution_count": 176,
     "metadata": {},
     "output_type": "execute_result"
    }
   ],
   "source": [
    "df.text.iloc[9758]\n",
    "texts[9758]\n",
    "\n",
    "doc = texts[9758]\n",
    "vec_bow = dictionary.doc2bow(doc)\n",
    "vec_lsi = lsi[vec_bow]  # convert the query to LSI space\n",
    "print(vec_lsi)\n",
    "\n",
    "from gensim import similarities\n",
    "index = similarities.MatrixSimilarity(lsi[corpus])  # transform corpus to LSI space and index it\n",
    "\n",
    "sims = index[vec_lsi]  # perform a similarity query against the corpus\n",
    "print(len(sims) ) # print (document_number, document_similarity) 2-tuples\n",
    "\n",
    "df['TEB_lsi_score_2'] = sims\n",
    "outline = df[ df.TEB_lsi_score_2 > .98]\n",
    "outline[['artist', 'title']]\n",
    "\n",
    "#indices: 9758, 3986, 3246, 8839, 1243, 7449, 8321, 5448, 8967, 9990"
   ]
  },
  {
   "cell_type": "code",
   "execution_count": 177,
   "metadata": {},
   "outputs": [
    {
     "name": "stdout",
     "output_type": "stream",
     "text": [
      "[(0, -0.026853625685624303), (1, 0.011822268105938404), (2, 0.013608669330650785), (3, -0.004549388901760068), (4, -0.0063461043282109905), (5, 0.012051785175207434), (6, -0.0028604885461086136), (7, -0.01815133200969204)]\n",
      "10693\n"
     ]
    },
    {
     "data": {
      "text/html": [
       "<div>\n",
       "<style scoped>\n",
       "    .dataframe tbody tr th:only-of-type {\n",
       "        vertical-align: middle;\n",
       "    }\n",
       "\n",
       "    .dataframe tbody tr th {\n",
       "        vertical-align: top;\n",
       "    }\n",
       "\n",
       "    .dataframe thead th {\n",
       "        text-align: right;\n",
       "    }\n",
       "</style>\n",
       "<table border=\"1\" class=\"dataframe\">\n",
       "  <thead>\n",
       "    <tr style=\"text-align: right;\">\n",
       "      <th></th>\n",
       "      <th>artist</th>\n",
       "      <th>title</th>\n",
       "    </tr>\n",
       "  </thead>\n",
       "  <tbody>\n",
       "    <tr>\n",
       "      <th>3322</th>\n",
       "      <td>Tanya Donelly</td>\n",
       "      <td>Keeping You</td>\n",
       "    </tr>\n",
       "    <tr>\n",
       "      <th>4670</th>\n",
       "      <td>María Elena Walsh</td>\n",
       "      <td>El Reino Del Revés</td>\n",
       "    </tr>\n",
       "    <tr>\n",
       "      <th>8085</th>\n",
       "      <td>Shakira</td>\n",
       "      <td>Gitana</td>\n",
       "    </tr>\n",
       "    <tr>\n",
       "      <th>8667</th>\n",
       "      <td>Mysto Dysto</td>\n",
       "      <td>Tarantula (remastered version)</td>\n",
       "    </tr>\n",
       "  </tbody>\n",
       "</table>\n",
       "</div>"
      ],
      "text/plain": [
       "                 artist                           title\n",
       "3322      Tanya Donelly                     Keeping You\n",
       "4670  María Elena Walsh              El Reino Del Revés\n",
       "8085            Shakira                          Gitana\n",
       "8667        Mysto Dysto  Tarantula (remastered version)"
      ]
     },
     "execution_count": 177,
     "metadata": {},
     "output_type": "execute_result"
    }
   ],
   "source": [
    "### dict 2 \n",
    "\n",
    "doc = tokens_cl[9758]\n",
    "vec_bow2 = dictionary2.doc2bow(doc)\n",
    "vec_lsi2 = lsi2[vec_bow2]  # convert the query to LSI space\n",
    "print(vec_lsi2)\n",
    "\n",
    "from gensim import similarities\n",
    "index = similarities.MatrixSimilarity(lsi2[corpus2])  # transform corpus to LSI space and index it\n",
    "\n",
    "sims2 = index[vec_lsi2]  # perform a similarity query against the corpus\n",
    "print(len(sims2) ) # print (document_number, document_similarity) 2-tuples\n",
    "\n",
    "df['RO_lsi_score_d2'] = sims2\n",
    "outline = df[ df.RO_lsi_score_d2 > .95]\n",
    "outline[['artist', 'title']]"
   ]
  },
  {
   "cell_type": "markdown",
   "metadata": {},
   "source": [
    "### Roy Orbison"
   ]
  },
  {
   "cell_type": "code",
   "execution_count": 178,
   "metadata": {},
   "outputs": [
    {
     "name": "stdout",
     "output_type": "stream",
     "text": [
      "[(0, 11.794411550761485), (1, -3.6496048449333127), (2, 3.490377875206429), (3, 1.114981487554476), (4, -0.4919914876377699), (5, -5.209383238414349), (6, 3.390379415192502), (7, -5.065381205337404)]\n",
      "10693\n"
     ]
    },
    {
     "data": {
      "text/html": [
       "<div>\n",
       "<style scoped>\n",
       "    .dataframe tbody tr th:only-of-type {\n",
       "        vertical-align: middle;\n",
       "    }\n",
       "\n",
       "    .dataframe tbody tr th {\n",
       "        vertical-align: top;\n",
       "    }\n",
       "\n",
       "    .dataframe thead th {\n",
       "        text-align: right;\n",
       "    }\n",
       "</style>\n",
       "<table border=\"1\" class=\"dataframe\">\n",
       "  <thead>\n",
       "    <tr style=\"text-align: right;\">\n",
       "      <th></th>\n",
       "      <th>artist</th>\n",
       "      <th>title</th>\n",
       "    </tr>\n",
       "  </thead>\n",
       "  <tbody>\n",
       "    <tr>\n",
       "      <th>1474</th>\n",
       "      <td>Bob Dylan</td>\n",
       "      <td>With God On Our Side</td>\n",
       "    </tr>\n",
       "    <tr>\n",
       "      <th>2388</th>\n",
       "      <td>Toby Keith</td>\n",
       "      <td>As Good As I Once Was</td>\n",
       "    </tr>\n",
       "    <tr>\n",
       "      <th>42</th>\n",
       "      <td>Max Richter</td>\n",
       "      <td>H in New England</td>\n",
       "    </tr>\n",
       "    <tr>\n",
       "      <th>2245</th>\n",
       "      <td>Gaither Vocal Band</td>\n",
       "      <td>In That Great Getting' Up Morning</td>\n",
       "    </tr>\n",
       "    <tr>\n",
       "      <th>2282</th>\n",
       "      <td>Blue Öyster Cult</td>\n",
       "      <td>(Don't Fear) The Reaper</td>\n",
       "    </tr>\n",
       "    <tr>\n",
       "      <th>3025</th>\n",
       "      <td>Freda Payne</td>\n",
       "      <td>Band Of Gold</td>\n",
       "    </tr>\n",
       "    <tr>\n",
       "      <th>6641</th>\n",
       "      <td>Bob Dylan</td>\n",
       "      <td>Things Have Changed</td>\n",
       "    </tr>\n",
       "    <tr>\n",
       "      <th>7756</th>\n",
       "      <td>The Happenings</td>\n",
       "      <td>See You In September</td>\n",
       "    </tr>\n",
       "    <tr>\n",
       "      <th>6287</th>\n",
       "      <td>Andrés Calamaro</td>\n",
       "      <td>Tengo una orquídea</td>\n",
       "    </tr>\n",
       "  </tbody>\n",
       "</table>\n",
       "</div>"
      ],
      "text/plain": [
       "                  artist                              title\n",
       "1474           Bob Dylan               With God On Our Side\n",
       "2388          Toby Keith              As Good As I Once Was\n",
       "42           Max Richter                   H in New England\n",
       "2245  Gaither Vocal Band  In That Great Getting' Up Morning\n",
       "2282    Blue Öyster Cult            (Don't Fear) The Reaper\n",
       "3025         Freda Payne                       Band Of Gold\n",
       "6641           Bob Dylan                Things Have Changed\n",
       "7756      The Happenings               See You In September\n",
       "6287     Andrés Calamaro                 Tengo una orquídea"
      ]
     },
     "execution_count": 178,
     "metadata": {},
     "output_type": "execute_result"
    }
   ],
   "source": [
    "df.text.iloc[8750]\n",
    "texts[8750]\n",
    "\n",
    "doc = texts[8750]\n",
    "vec_bow = dictionary.doc2bow(doc)\n",
    "vec_lsi = lsi[vec_bow]  # convert the query to LSI space\n",
    "print(vec_lsi)\n",
    "\n",
    "from gensim import similarities\n",
    "index = similarities.MatrixSimilarity(lsi[corpus])  # transform corpus to LSI space and index it\n",
    "\n",
    "sims = index[vec_lsi]  # perform a similarity query against the corpus\n",
    "print(len(sims) ) # print (document_number, document_similarity) 2-tuples\n",
    "\n",
    "df['RO_lsi_score'] = sims\n",
    "outline = df[ df.RO_lsi_score > .95].sample(9)\n",
    "outline[['artist', 'title']]\n",
    "\n",
    "#indices: 8750, 6889, 6503, 2258, 10372, 9956, 10264, 8977, 9310, 2388"
   ]
  },
  {
   "cell_type": "code",
   "execution_count": 180,
   "metadata": {},
   "outputs": [
    {
     "name": "stdout",
     "output_type": "stream",
     "text": [
      "[(0, 11.794411550761485), (1, -3.6496048449333127), (2, 3.490377875206429), (3, 1.114981487554476), (4, -0.4919914876377699), (5, -5.209383238414349), (6, 3.390379415192502), (7, -5.065381205337404)]\n",
      "10693\n"
     ]
    },
    {
     "data": {
      "text/html": [
       "<div>\n",
       "<style scoped>\n",
       "    .dataframe tbody tr th:only-of-type {\n",
       "        vertical-align: middle;\n",
       "    }\n",
       "\n",
       "    .dataframe tbody tr th {\n",
       "        vertical-align: top;\n",
       "    }\n",
       "\n",
       "    .dataframe thead th {\n",
       "        text-align: right;\n",
       "    }\n",
       "</style>\n",
       "<table border=\"1\" class=\"dataframe\">\n",
       "  <thead>\n",
       "    <tr style=\"text-align: right;\">\n",
       "      <th></th>\n",
       "      <th>artist</th>\n",
       "      <th>title</th>\n",
       "    </tr>\n",
       "  </thead>\n",
       "  <tbody>\n",
       "    <tr>\n",
       "      <th>8750</th>\n",
       "      <td>Roy Orbison</td>\n",
       "      <td>In Dreams</td>\n",
       "    </tr>\n",
       "    <tr>\n",
       "      <th>9310</th>\n",
       "      <td>Kris Kristofferson</td>\n",
       "      <td>Loving Her Was Easier (Than Anything I'll Ever...</td>\n",
       "    </tr>\n",
       "  </tbody>\n",
       "</table>\n",
       "</div>"
      ],
      "text/plain": [
       "                  artist                                              title\n",
       "8750         Roy Orbison                                          In Dreams\n",
       "9310  Kris Kristofferson  Loving Her Was Easier (Than Anything I'll Ever..."
      ]
     },
     "execution_count": 180,
     "metadata": {},
     "output_type": "execute_result"
    }
   ],
   "source": [
    "df.text.iloc[8750]\n",
    "texts[8750]\n",
    "\n",
    "doc = texts[8750]\n",
    "vec_bow = dictionary.doc2bow(doc)\n",
    "vec_lsi = lsi[vec_bow]  # convert the query to LSI space\n",
    "print(vec_lsi)\n",
    "\n",
    "from gensim import similarities\n",
    "index = similarities.MatrixSimilarity(lsi[corpus])  # transform corpus to LSI space and index it\n",
    "\n",
    "sims = index[vec_lsi]  # perform a similarity query against the corpus\n",
    "print(len(sims) ) # print (document_number, document_similarity) 2-tuples\n",
    "\n",
    "df['RO_lsi_score_2'] = sims\n",
    "outline = df[ df.RO_lsi_score_2 > .98]\n",
    "outline[['artist', 'title']]\n",
    "\n",
    "#indices: 8750, 5385, 2463, 10105, 10372, 4837, 4546, 1353, 2411, 2258"
   ]
  },
  {
   "cell_type": "markdown",
   "metadata": {},
   "source": [
    "### New Order"
   ]
  },
  {
   "cell_type": "code",
   "execution_count": 181,
   "metadata": {},
   "outputs": [
    {
     "name": "stdout",
     "output_type": "stream",
     "text": [
      "[(0, 4.991520473469796), (1, -1.876401294483509), (2, 1.3224023346794025), (3, 2.0962904623310847), (4, -0.2585920147195954), (5, 3.6262431867095786), (6, -0.28963978177384203), (7, 0.3077480671163244)]\n",
      "10693\n"
     ]
    },
    {
     "data": {
      "text/html": [
       "<div>\n",
       "<style scoped>\n",
       "    .dataframe tbody tr th:only-of-type {\n",
       "        vertical-align: middle;\n",
       "    }\n",
       "\n",
       "    .dataframe tbody tr th {\n",
       "        vertical-align: top;\n",
       "    }\n",
       "\n",
       "    .dataframe thead th {\n",
       "        text-align: right;\n",
       "    }\n",
       "</style>\n",
       "<table border=\"1\" class=\"dataframe\">\n",
       "  <thead>\n",
       "    <tr style=\"text-align: right;\">\n",
       "      <th></th>\n",
       "      <th>artist</th>\n",
       "      <th>title</th>\n",
       "    </tr>\n",
       "  </thead>\n",
       "  <tbody>\n",
       "    <tr>\n",
       "      <th>9587</th>\n",
       "      <td>Vincent Vincent And The Villains</td>\n",
       "      <td>Blue Boy</td>\n",
       "    </tr>\n",
       "    <tr>\n",
       "      <th>7228</th>\n",
       "      <td>Junior Senior</td>\n",
       "      <td>White Trash</td>\n",
       "    </tr>\n",
       "    <tr>\n",
       "      <th>444</th>\n",
       "      <td>Propaganda</td>\n",
       "      <td>Dr. Mabuse</td>\n",
       "    </tr>\n",
       "    <tr>\n",
       "      <th>382</th>\n",
       "      <td>The White Tie Affair</td>\n",
       "      <td>Candle (Sick And Tired)</td>\n",
       "    </tr>\n",
       "    <tr>\n",
       "      <th>651</th>\n",
       "      <td>Depeche Mode</td>\n",
       "      <td>Told You So</td>\n",
       "    </tr>\n",
       "    <tr>\n",
       "      <th>4593</th>\n",
       "      <td>The Bees</td>\n",
       "      <td>Chicken Payback</td>\n",
       "    </tr>\n",
       "    <tr>\n",
       "      <th>1180</th>\n",
       "      <td>Wave Machines</td>\n",
       "      <td>Keep The Lights On</td>\n",
       "    </tr>\n",
       "    <tr>\n",
       "      <th>10479</th>\n",
       "      <td>New Order</td>\n",
       "      <td>Round and Round</td>\n",
       "    </tr>\n",
       "    <tr>\n",
       "      <th>5046</th>\n",
       "      <td>Busted</td>\n",
       "      <td>You Said No</td>\n",
       "    </tr>\n",
       "  </tbody>\n",
       "</table>\n",
       "</div>"
      ],
      "text/plain": [
       "                                 artist                    title\n",
       "9587   Vincent Vincent And The Villains                 Blue Boy\n",
       "7228                      Junior Senior              White Trash\n",
       "444                          Propaganda               Dr. Mabuse\n",
       "382                The White Tie Affair  Candle (Sick And Tired)\n",
       "651                        Depeche Mode              Told You So\n",
       "4593                           The Bees          Chicken Payback\n",
       "1180                      Wave Machines       Keep The Lights On\n",
       "10479                         New Order          Round and Round\n",
       "5046                             Busted              You Said No"
      ]
     },
     "execution_count": 181,
     "metadata": {},
     "output_type": "execute_result"
    }
   ],
   "source": [
    "#df.text.iloc[10479]\n",
    "#texts[10479]\n",
    "\n",
    "doc = texts[10479]\n",
    "vec_bow = dictionary.doc2bow(doc)\n",
    "vec_lsi = lsi[vec_bow]  # convert the query to LSI space\n",
    "print(vec_lsi)\n",
    "\n",
    "from gensim import similarities\n",
    "index = similarities.MatrixSimilarity(lsi[corpus])  # transform corpus to LSI space and index it\n",
    "\n",
    "sims = index[vec_lsi]  # perform a similarity query against the corpus\n",
    "print(len(sims) ) # print (document_number, document_similarity) 2-tuples\n",
    "\n",
    "df['NO_lsi_score'] = sims\n",
    "outline = df[ df.NO_lsi_score > .95].sample(9)\n",
    "outline[['artist', 'title']]\n",
    "\n",
    "#indices: 10179, 4593, 2781, 2428, 6576, 439, 7936, 3275, 5999, 9259 "
   ]
  },
  {
   "cell_type": "code",
   "execution_count": 183,
   "metadata": {},
   "outputs": [
    {
     "name": "stdout",
     "output_type": "stream",
     "text": [
      "[(0, 4.991520473469796), (1, -1.876401294483509), (2, 1.3224023346794025), (3, 2.0962904623310847), (4, -0.2585920147195954), (5, 3.6262431867095786), (6, -0.28963978177384203), (7, 0.3077480671163244)]\n",
      "10693\n"
     ]
    },
    {
     "data": {
      "text/html": [
       "<div>\n",
       "<style scoped>\n",
       "    .dataframe tbody tr th:only-of-type {\n",
       "        vertical-align: middle;\n",
       "    }\n",
       "\n",
       "    .dataframe tbody tr th {\n",
       "        vertical-align: top;\n",
       "    }\n",
       "\n",
       "    .dataframe thead th {\n",
       "        text-align: right;\n",
       "    }\n",
       "</style>\n",
       "<table border=\"1\" class=\"dataframe\">\n",
       "  <thead>\n",
       "    <tr style=\"text-align: right;\">\n",
       "      <th></th>\n",
       "      <th>artist</th>\n",
       "      <th>title</th>\n",
       "    </tr>\n",
       "  </thead>\n",
       "  <tbody>\n",
       "    <tr>\n",
       "      <th>444</th>\n",
       "      <td>Propaganda</td>\n",
       "      <td>Dr. Mabuse</td>\n",
       "    </tr>\n",
       "    <tr>\n",
       "      <th>2073</th>\n",
       "      <td>New Order</td>\n",
       "      <td>Close Range</td>\n",
       "    </tr>\n",
       "    <tr>\n",
       "      <th>2669</th>\n",
       "      <td>New Young Pony Club</td>\n",
       "      <td>Talking, Talking</td>\n",
       "    </tr>\n",
       "    <tr>\n",
       "      <th>7228</th>\n",
       "      <td>Junior Senior</td>\n",
       "      <td>White Trash</td>\n",
       "    </tr>\n",
       "    <tr>\n",
       "      <th>9712</th>\n",
       "      <td>A Flock Of Seagulls</td>\n",
       "      <td>Nightmares</td>\n",
       "    </tr>\n",
       "    <tr>\n",
       "      <th>10479</th>\n",
       "      <td>New Order</td>\n",
       "      <td>Round and Round</td>\n",
       "    </tr>\n",
       "  </tbody>\n",
       "</table>\n",
       "</div>"
      ],
      "text/plain": [
       "                    artist             title\n",
       "444             Propaganda        Dr. Mabuse\n",
       "2073             New Order       Close Range\n",
       "2669   New Young Pony Club  Talking, Talking\n",
       "7228         Junior Senior       White Trash\n",
       "9712   A Flock Of Seagulls        Nightmares\n",
       "10479            New Order   Round and Round"
      ]
     },
     "execution_count": 183,
     "metadata": {},
     "output_type": "execute_result"
    }
   ],
   "source": [
    "df.text.iloc[10479]\n",
    "texts[10479]\n",
    "\n",
    "doc = texts[10479]\n",
    "vec_bow = dictionary.doc2bow(doc)\n",
    "vec_lsi = lsi[vec_bow]  # convert the query to LSI space\n",
    "print(vec_lsi)\n",
    "\n",
    "from gensim import similarities\n",
    "index = similarities.MatrixSimilarity(lsi[corpus])  # transform corpus to LSI space and index it\n",
    "\n",
    "sims = index[vec_lsi]  # perform a similarity query against the corpus\n",
    "print(len(sims) ) # print (document_number, document_similarity) 2-tuples\n",
    "\n",
    "df['NO_lsi_score_2'] = sims\n",
    "outline = df[ df.NO_lsi_score_2 > .98]\n",
    "outline[['artist', 'title']]\n",
    "\n",
    "#indices: 10479, 4130, 3275, 6144, 9259, 5707, 4046, 9712, 4207, 5199 \n"
   ]
  },
  {
   "cell_type": "code",
   "execution_count": 184,
   "metadata": {},
   "outputs": [],
   "source": [
    "#could not find epsilon minus track, replaced with their most popular"
   ]
  },
  {
   "cell_type": "code",
   "execution_count": 185,
   "metadata": {},
   "outputs": [],
   "source": [
    "####"
   ]
  },
  {
   "cell_type": "markdown",
   "metadata": {},
   "source": [
    "# 4 topics"
   ]
  },
  {
   "cell_type": "code",
   "execution_count": 186,
   "metadata": {},
   "outputs": [],
   "source": [
    "dictionary = corpora.Dictionary(texts)\n",
    "corpus = [dictionary.doc2bow(text) for text in texts]\n",
    "\n",
    "from gensim import models\n",
    "lsi = models.LsiModel(corpus, id2word=dictionary, num_topics=4)"
   ]
  },
  {
   "cell_type": "markdown",
   "metadata": {},
   "source": [
    "#### Third Eye Blind . .98, 4 subject"
   ]
  },
  {
   "cell_type": "code",
   "execution_count": 187,
   "metadata": {},
   "outputs": [
    {
     "name": "stdout",
     "output_type": "stream",
     "text": [
      "[(0, 4.1859029700836805), (1, 0.31594562818100547), (2, 0.4498832201289584), (3, -0.7613609350117628)]\n"
     ]
    },
    {
     "data": {
      "text/html": [
       "<div>\n",
       "<style scoped>\n",
       "    .dataframe tbody tr th:only-of-type {\n",
       "        vertical-align: middle;\n",
       "    }\n",
       "\n",
       "    .dataframe tbody tr th {\n",
       "        vertical-align: top;\n",
       "    }\n",
       "\n",
       "    .dataframe thead th {\n",
       "        text-align: right;\n",
       "    }\n",
       "</style>\n",
       "<table border=\"1\" class=\"dataframe\">\n",
       "  <thead>\n",
       "    <tr style=\"text-align: right;\">\n",
       "      <th></th>\n",
       "      <th>artist</th>\n",
       "      <th>title</th>\n",
       "    </tr>\n",
       "  </thead>\n",
       "  <tbody>\n",
       "    <tr>\n",
       "      <th>6911</th>\n",
       "      <td>Thousand Foot Krutch</td>\n",
       "      <td>Favorite Disease</td>\n",
       "    </tr>\n",
       "    <tr>\n",
       "      <th>3754</th>\n",
       "      <td>Fly My Pretties</td>\n",
       "      <td>Catch the Light</td>\n",
       "    </tr>\n",
       "    <tr>\n",
       "      <th>3509</th>\n",
       "      <td>Mando Diao</td>\n",
       "      <td>The Band</td>\n",
       "    </tr>\n",
       "    <tr>\n",
       "      <th>8967</th>\n",
       "      <td>Dead Kennedys</td>\n",
       "      <td>Moon Over Marin</td>\n",
       "    </tr>\n",
       "    <tr>\n",
       "      <th>6885</th>\n",
       "      <td>Poni Hoax</td>\n",
       "      <td>The Paper Bride</td>\n",
       "    </tr>\n",
       "    <tr>\n",
       "      <th>4856</th>\n",
       "      <td>Branford Marsalis</td>\n",
       "      <td>Sentinel</td>\n",
       "    </tr>\n",
       "    <tr>\n",
       "      <th>1016</th>\n",
       "      <td>Guttermouth</td>\n",
       "      <td>She's Got The Look</td>\n",
       "    </tr>\n",
       "    <tr>\n",
       "      <th>1319</th>\n",
       "      <td>Tenacious D</td>\n",
       "      <td>Inward Singing</td>\n",
       "    </tr>\n",
       "    <tr>\n",
       "      <th>8215</th>\n",
       "      <td>My Chemical Romance</td>\n",
       "      <td>Song 2</td>\n",
       "    </tr>\n",
       "    <tr>\n",
       "      <th>3014</th>\n",
       "      <td>Saosin</td>\n",
       "      <td>Voices (Acoustic)</td>\n",
       "    </tr>\n",
       "  </tbody>\n",
       "</table>\n",
       "</div>"
      ],
      "text/plain": [
       "                    artist               title\n",
       "6911  Thousand Foot Krutch    Favorite Disease\n",
       "3754       Fly My Pretties     Catch the Light\n",
       "3509            Mando Diao            The Band\n",
       "8967         Dead Kennedys     Moon Over Marin\n",
       "6885             Poni Hoax     The Paper Bride\n",
       "4856     Branford Marsalis            Sentinel\n",
       "1016           Guttermouth  She's Got The Look\n",
       "1319           Tenacious D      Inward Singing\n",
       "8215   My Chemical Romance              Song 2\n",
       "3014                Saosin   Voices (Acoustic)"
      ]
     },
     "execution_count": 187,
     "metadata": {},
     "output_type": "execute_result"
    }
   ],
   "source": [
    "doc = texts[9758]\n",
    "vec_bow = dictionary.doc2bow(doc)\n",
    "vec_lsi = lsi[vec_bow]  # convert the query to LSI space\n",
    "print(vec_lsi)\n",
    "\n",
    "from gensim import similarities\n",
    "index = similarities.MatrixSimilarity(lsi[corpus])  # transform corpus to LSI space and index it\n",
    "\n",
    "sims = index[vec_lsi]  # perform a similarity query against the corpus\n",
    "#print(len(sims) ) # print (document_number, document_similarity) 2-tuples\n",
    "\n",
    "df['TEB_lsi_score_3'] = sims\n",
    "outline = df[ df.TEB_lsi_score_3 > .98].sample(10)\n",
    "outline[['artist', 'title']]\n",
    "\n",
    "#indices: 9758, 224, 6911, 6011, 1286, 4906, 8263, 8384, 4875, 4856"
   ]
  },
  {
   "cell_type": "markdown",
   "metadata": {},
   "source": [
    "#### Roy Orbison . .98, 4 subject"
   ]
  },
  {
   "cell_type": "code",
   "execution_count": 188,
   "metadata": {},
   "outputs": [
    {
     "data": {
      "text/html": [
       "<div>\n",
       "<style scoped>\n",
       "    .dataframe tbody tr th:only-of-type {\n",
       "        vertical-align: middle;\n",
       "    }\n",
       "\n",
       "    .dataframe tbody tr th {\n",
       "        vertical-align: top;\n",
       "    }\n",
       "\n",
       "    .dataframe thead th {\n",
       "        text-align: right;\n",
       "    }\n",
       "</style>\n",
       "<table border=\"1\" class=\"dataframe\">\n",
       "  <thead>\n",
       "    <tr style=\"text-align: right;\">\n",
       "      <th></th>\n",
       "      <th>artist</th>\n",
       "      <th>title</th>\n",
       "    </tr>\n",
       "  </thead>\n",
       "  <tbody>\n",
       "    <tr>\n",
       "      <th>3388</th>\n",
       "      <td>Melanie</td>\n",
       "      <td>Any Guy</td>\n",
       "    </tr>\n",
       "    <tr>\n",
       "      <th>1281</th>\n",
       "      <td>Bellowhead</td>\n",
       "      <td>Kafoozalum / The Priest's Miss</td>\n",
       "    </tr>\n",
       "    <tr>\n",
       "      <th>5199</th>\n",
       "      <td>Sunscreem</td>\n",
       "      <td>Pressure</td>\n",
       "    </tr>\n",
       "    <tr>\n",
       "      <th>6366</th>\n",
       "      <td>Mogwai</td>\n",
       "      <td>R U Still in 2 It</td>\n",
       "    </tr>\n",
       "    <tr>\n",
       "      <th>7477</th>\n",
       "      <td>Kelly Clarkson</td>\n",
       "      <td>Never Again</td>\n",
       "    </tr>\n",
       "    <tr>\n",
       "      <th>6370</th>\n",
       "      <td>Jack's Mannequin</td>\n",
       "      <td>Annie Use Your Telescope</td>\n",
       "    </tr>\n",
       "    <tr>\n",
       "      <th>2073</th>\n",
       "      <td>New Order</td>\n",
       "      <td>Close Range</td>\n",
       "    </tr>\n",
       "    <tr>\n",
       "      <th>1854</th>\n",
       "      <td>Laurie Anderson</td>\n",
       "      <td>Strange Angels</td>\n",
       "    </tr>\n",
       "    <tr>\n",
       "      <th>10356</th>\n",
       "      <td>Bikini Kill</td>\n",
       "      <td>Rebel Girl</td>\n",
       "    </tr>\n",
       "    <tr>\n",
       "      <th>4068</th>\n",
       "      <td>Bratz</td>\n",
       "      <td>Change The World</td>\n",
       "    </tr>\n",
       "  </tbody>\n",
       "</table>\n",
       "</div>"
      ],
      "text/plain": [
       "                 artist                           title\n",
       "3388            Melanie                         Any Guy\n",
       "1281         Bellowhead  Kafoozalum / The Priest's Miss\n",
       "5199          Sunscreem                        Pressure\n",
       "6366             Mogwai               R U Still in 2 It\n",
       "7477     Kelly Clarkson                     Never Again\n",
       "6370   Jack's Mannequin        Annie Use Your Telescope\n",
       "2073          New Order                     Close Range\n",
       "1854    Laurie Anderson                  Strange Angels\n",
       "10356       Bikini Kill                      Rebel Girl\n",
       "4068              Bratz                Change The World"
      ]
     },
     "execution_count": 188,
     "metadata": {},
     "output_type": "execute_result"
    }
   ],
   "source": [
    "doc = texts[8750]\n",
    "vec_bow = dictionary.doc2bow(doc)\n",
    "vec_lsi = lsi[vec_bow]  # convert the query to LSI space\n",
    "#print(vec_lsi)\n",
    "\n",
    "from gensim import similarities\n",
    "index = similarities.MatrixSimilarity(lsi[corpus])  # transform corpus to LSI space and index it\n",
    "\n",
    "sims = index[vec_lsi]  # perform a similarity query against the corpus\n",
    "#print(len(sims) ) # print (document_number, document_similarity) 2-tuples\n",
    "\n",
    "df['RO_lsi_score_3'] = sims\n",
    "outline = df[ df.RO_lsi_score_3 > .98].sample(10)\n",
    "outline[['artist', 'title']]\n",
    "\n",
    "#indices: 8750, 10183, 8687, 2200, 5247, 2153, 2639, 3388, 7477, 9673, 9756"
   ]
  },
  {
   "cell_type": "markdown",
   "metadata": {},
   "source": [
    "#### New Order . .98, 4 subject"
   ]
  },
  {
   "cell_type": "code",
   "execution_count": 189,
   "metadata": {},
   "outputs": [
    {
     "data": {
      "text/html": [
       "<div>\n",
       "<style scoped>\n",
       "    .dataframe tbody tr th:only-of-type {\n",
       "        vertical-align: middle;\n",
       "    }\n",
       "\n",
       "    .dataframe tbody tr th {\n",
       "        vertical-align: top;\n",
       "    }\n",
       "\n",
       "    .dataframe thead th {\n",
       "        text-align: right;\n",
       "    }\n",
       "</style>\n",
       "<table border=\"1\" class=\"dataframe\">\n",
       "  <thead>\n",
       "    <tr style=\"text-align: right;\">\n",
       "      <th></th>\n",
       "      <th>artist</th>\n",
       "      <th>title</th>\n",
       "    </tr>\n",
       "  </thead>\n",
       "  <tbody>\n",
       "    <tr>\n",
       "      <th>9055</th>\n",
       "      <td>Baustelle</td>\n",
       "      <td>Revolver</td>\n",
       "    </tr>\n",
       "    <tr>\n",
       "      <th>2428</th>\n",
       "      <td>Seachange</td>\n",
       "      <td>Annie, Tacoma</td>\n",
       "    </tr>\n",
       "    <tr>\n",
       "      <th>6624</th>\n",
       "      <td>Bandabardò</td>\n",
       "      <td>Finta Bionda</td>\n",
       "    </tr>\n",
       "    <tr>\n",
       "      <th>2491</th>\n",
       "      <td>Ida Maria</td>\n",
       "      <td>I Like You So Much Better When You're Naked</td>\n",
       "    </tr>\n",
       "    <tr>\n",
       "      <th>3105</th>\n",
       "      <td>Habib Koité</td>\n",
       "      <td>Africa</td>\n",
       "    </tr>\n",
       "    <tr>\n",
       "      <th>8773</th>\n",
       "      <td>The Dears</td>\n",
       "      <td>Whites Only Party</td>\n",
       "    </tr>\n",
       "    <tr>\n",
       "      <th>1310</th>\n",
       "      <td>China Crisis</td>\n",
       "      <td>Black Man Ray</td>\n",
       "    </tr>\n",
       "    <tr>\n",
       "      <th>10538</th>\n",
       "      <td>The Cure</td>\n",
       "      <td>The Upstairs Room</td>\n",
       "    </tr>\n",
       "    <tr>\n",
       "      <th>7137</th>\n",
       "      <td>Bow Wow Wow</td>\n",
       "      <td>What's The Time (Hey Buddy)</td>\n",
       "    </tr>\n",
       "    <tr>\n",
       "      <th>6417</th>\n",
       "      <td>Hope Partlow</td>\n",
       "      <td>Sick Inside</td>\n",
       "    </tr>\n",
       "  </tbody>\n",
       "</table>\n",
       "</div>"
      ],
      "text/plain": [
       "             artist                                        title\n",
       "9055      Baustelle                                     Revolver\n",
       "2428      Seachange                                Annie, Tacoma\n",
       "6624     Bandabardò                                 Finta Bionda\n",
       "2491      Ida Maria  I Like You So Much Better When You're Naked\n",
       "3105    Habib Koité                                       Africa\n",
       "8773      The Dears                            Whites Only Party\n",
       "1310   China Crisis                                Black Man Ray\n",
       "10538      The Cure                            The Upstairs Room\n",
       "7137    Bow Wow Wow                  What's The Time (Hey Buddy)\n",
       "6417   Hope Partlow                                  Sick Inside"
      ]
     },
     "execution_count": 189,
     "metadata": {},
     "output_type": "execute_result"
    }
   ],
   "source": [
    "doc = texts[10479]\n",
    "vec_bow = dictionary.doc2bow(doc)\n",
    "vec_lsi = lsi[vec_bow]  # convert the query to LSI space\n",
    "#print(vec_lsi)\n",
    "\n",
    "from gensim import similarities\n",
    "index = similarities.MatrixSimilarity(lsi[corpus])  # transform corpus to LSI space and index it\n",
    "\n",
    "sims = index[vec_lsi]  # perform a similarity query against the corpus\n",
    "#print(len(sims) ) # print (document_number, document_similarity) 2-tuples\n",
    "\n",
    "df['NO_lsi_score_3'] = sims\n",
    "outline = df[ df.NO_lsi_score_3 > .98].sample(10)\n",
    "outline[['artist', 'title']]\n",
    "\n",
    "#indices: 10479, 7927, 5458, 7176, 10062, 7228, 513, 710, 4719, 8084, 3436"
   ]
  },
  {
   "cell_type": "markdown",
   "metadata": {},
   "source": [
    "# 8 topics"
   ]
  },
  {
   "cell_type": "code",
   "execution_count": 190,
   "metadata": {},
   "outputs": [],
   "source": [
    "dictionary = corpora.Dictionary(texts)\n",
    "corpus = [dictionary.doc2bow(text) for text in texts]\n",
    "\n",
    "from gensim import models\n",
    "lsi = models.LsiModel(corpus, id2word=dictionary, num_topics=8)"
   ]
  },
  {
   "cell_type": "markdown",
   "metadata": {},
   "source": [
    "#### Third Eye Blind > .97, 4 subject"
   ]
  },
  {
   "cell_type": "code",
   "execution_count": 191,
   "metadata": {},
   "outputs": [
    {
     "data": {
      "text/html": [
       "<div>\n",
       "<style scoped>\n",
       "    .dataframe tbody tr th:only-of-type {\n",
       "        vertical-align: middle;\n",
       "    }\n",
       "\n",
       "    .dataframe tbody tr th {\n",
       "        vertical-align: top;\n",
       "    }\n",
       "\n",
       "    .dataframe thead th {\n",
       "        text-align: right;\n",
       "    }\n",
       "</style>\n",
       "<table border=\"1\" class=\"dataframe\">\n",
       "  <thead>\n",
       "    <tr style=\"text-align: right;\">\n",
       "      <th></th>\n",
       "      <th>artist</th>\n",
       "      <th>title</th>\n",
       "    </tr>\n",
       "  </thead>\n",
       "  <tbody>\n",
       "    <tr>\n",
       "      <th>2090</th>\n",
       "      <td>Motion City Soundtrack</td>\n",
       "      <td>Hangman (Album Version)</td>\n",
       "    </tr>\n",
       "    <tr>\n",
       "      <th>9925</th>\n",
       "      <td>Eyes Set To Kill</td>\n",
       "      <td>Ticking Bombs</td>\n",
       "    </tr>\n",
       "    <tr>\n",
       "      <th>759</th>\n",
       "      <td>Bikini Kill</td>\n",
       "      <td>Jet Ski</td>\n",
       "    </tr>\n",
       "    <tr>\n",
       "      <th>1543</th>\n",
       "      <td>Between the Trees</td>\n",
       "      <td>Darlin'</td>\n",
       "    </tr>\n",
       "    <tr>\n",
       "      <th>8934</th>\n",
       "      <td>Maxïmo Park</td>\n",
       "      <td>Karaoke Plays</td>\n",
       "    </tr>\n",
       "    <tr>\n",
       "      <th>6203</th>\n",
       "      <td>My Latest Novel</td>\n",
       "      <td>Wrongfully, I Rested</td>\n",
       "    </tr>\n",
       "    <tr>\n",
       "      <th>2857</th>\n",
       "      <td>Feeder</td>\n",
       "      <td>We Can't Rewind</td>\n",
       "    </tr>\n",
       "    <tr>\n",
       "      <th>5444</th>\n",
       "      <td>Chetes</td>\n",
       "      <td>Regresa</td>\n",
       "    </tr>\n",
       "    <tr>\n",
       "      <th>7626</th>\n",
       "      <td>The Fratellis</td>\n",
       "      <td>Mistress Mabel</td>\n",
       "    </tr>\n",
       "    <tr>\n",
       "      <th>4605</th>\n",
       "      <td>The Delgados</td>\n",
       "      <td>Never Look At The Sun</td>\n",
       "    </tr>\n",
       "  </tbody>\n",
       "</table>\n",
       "</div>"
      ],
      "text/plain": [
       "                      artist                    title\n",
       "2090  Motion City Soundtrack  Hangman (Album Version)\n",
       "9925        Eyes Set To Kill            Ticking Bombs\n",
       "759              Bikini Kill                  Jet Ski\n",
       "1543       Between the Trees                  Darlin'\n",
       "8934             Maxïmo Park            Karaoke Plays\n",
       "6203         My Latest Novel     Wrongfully, I Rested\n",
       "2857                  Feeder          We Can't Rewind\n",
       "5444                  Chetes                  Regresa\n",
       "7626           The Fratellis           Mistress Mabel\n",
       "4605            The Delgados    Never Look At The Sun"
      ]
     },
     "execution_count": 191,
     "metadata": {},
     "output_type": "execute_result"
    }
   ],
   "source": [
    "doc = texts[9758]\n",
    "vec_bow = dictionary.doc2bow(doc)\n",
    "vec_lsi = lsi[vec_bow]  # convert the query to LSI space\n",
    "#print(vec_lsi)\n",
    "\n",
    "from gensim import similarities\n",
    "index = similarities.MatrixSimilarity(lsi[corpus])  # transform corpus to LSI space and index it\n",
    "\n",
    "sims = index[vec_lsi]  # perform a similarity query against the corpus\n",
    "#print(len(sims) ) # print (document_number, document_similarity) 2-tuples\n",
    "\n",
    "df['TEB_lsi_score_4'] = sims\n",
    "outline = df[ df.TEB_lsi_score_4 > .97].sample(10)\n",
    "outline[['artist', 'title']]\n",
    "\n",
    "#indices: 9758, 5342, 9925, 759, 7649, 9529, 7626, 5444, 8934, 2090"
   ]
  },
  {
   "cell_type": "markdown",
   "metadata": {},
   "source": [
    "#### Roy Orbison . .96, 4 subject"
   ]
  },
  {
   "cell_type": "code",
   "execution_count": 192,
   "metadata": {},
   "outputs": [
    {
     "data": {
      "text/html": [
       "<div>\n",
       "<style scoped>\n",
       "    .dataframe tbody tr th:only-of-type {\n",
       "        vertical-align: middle;\n",
       "    }\n",
       "\n",
       "    .dataframe tbody tr th {\n",
       "        vertical-align: top;\n",
       "    }\n",
       "\n",
       "    .dataframe thead th {\n",
       "        text-align: right;\n",
       "    }\n",
       "</style>\n",
       "<table border=\"1\" class=\"dataframe\">\n",
       "  <thead>\n",
       "    <tr style=\"text-align: right;\">\n",
       "      <th></th>\n",
       "      <th>artist</th>\n",
       "      <th>title</th>\n",
       "    </tr>\n",
       "  </thead>\n",
       "  <tbody>\n",
       "    <tr>\n",
       "      <th>4605</th>\n",
       "      <td>The Delgados</td>\n",
       "      <td>Never Look At The Sun</td>\n",
       "    </tr>\n",
       "    <tr>\n",
       "      <th>3130</th>\n",
       "      <td>Supergrass</td>\n",
       "      <td>Alright</td>\n",
       "    </tr>\n",
       "    <tr>\n",
       "      <th>6596</th>\n",
       "      <td>Dashboard Confessional</td>\n",
       "      <td>Reason To Believe</td>\n",
       "    </tr>\n",
       "    <tr>\n",
       "      <th>1649</th>\n",
       "      <td>Kashmir</td>\n",
       "      <td>Kalifornia</td>\n",
       "    </tr>\n",
       "    <tr>\n",
       "      <th>1945</th>\n",
       "      <td>Adam Green</td>\n",
       "      <td>Carolina</td>\n",
       "    </tr>\n",
       "    <tr>\n",
       "      <th>1672</th>\n",
       "      <td>The Crimea</td>\n",
       "      <td>Lottery Winners On Acid</td>\n",
       "    </tr>\n",
       "    <tr>\n",
       "      <th>1543</th>\n",
       "      <td>Between the Trees</td>\n",
       "      <td>Darlin'</td>\n",
       "    </tr>\n",
       "    <tr>\n",
       "      <th>9806</th>\n",
       "      <td>Biffy Clyro</td>\n",
       "      <td>Many Of Horror</td>\n",
       "    </tr>\n",
       "    <tr>\n",
       "      <th>7579</th>\n",
       "      <td>Wilco</td>\n",
       "      <td>Muzzle of Bees</td>\n",
       "    </tr>\n",
       "    <tr>\n",
       "      <th>7833</th>\n",
       "      <td>Plastiscines</td>\n",
       "      <td>I Am Down</td>\n",
       "    </tr>\n",
       "  </tbody>\n",
       "</table>\n",
       "</div>"
      ],
      "text/plain": [
       "                      artist                    title\n",
       "4605            The Delgados    Never Look At The Sun\n",
       "3130              Supergrass                  Alright\n",
       "6596  Dashboard Confessional        Reason To Believe\n",
       "1649                 Kashmir               Kalifornia\n",
       "1945              Adam Green                 Carolina\n",
       "1672              The Crimea  Lottery Winners On Acid\n",
       "1543       Between the Trees                  Darlin'\n",
       "9806             Biffy Clyro           Many Of Horror\n",
       "7579                   Wilco           Muzzle of Bees\n",
       "7833            Plastiscines                I Am Down"
      ]
     },
     "execution_count": 192,
     "metadata": {},
     "output_type": "execute_result"
    }
   ],
   "source": [
    "# doc = texts[8750]\n",
    "vec_bow = dictionary.doc2bow(doc)\n",
    "vec_lsi = lsi[vec_bow]  # convert the query to LSI space\n",
    "#print(vec_lsi)\n",
    "\n",
    "from gensim import similarities\n",
    "index = similarities.MatrixSimilarity(lsi[corpus])  # transform corpus to LSI space and index it\n",
    "\n",
    "sims = index[vec_lsi]  # perform a similarity query against the corpus\n",
    "#print(len(sims) ) # print (document_number, document_similarity) 2-tuples\n",
    "\n",
    "df['RO_lsi_score_4'] = sims\n",
    "outline = df[ df.RO_lsi_score_4 > .96].sample(10)\n",
    "outline[['artist', 'title']]\n",
    "\n",
    "#indices: 8750,1353, 8977, 6641, 1742, 2258, 1762, 9310, 2463, 10263"
   ]
  },
  {
   "cell_type": "markdown",
   "metadata": {},
   "source": [
    "#### New Order . .96, 4 subject"
   ]
  },
  {
   "cell_type": "code",
   "execution_count": 193,
   "metadata": {},
   "outputs": [
    {
     "data": {
      "text/html": [
       "<div>\n",
       "<style scoped>\n",
       "    .dataframe tbody tr th:only-of-type {\n",
       "        vertical-align: middle;\n",
       "    }\n",
       "\n",
       "    .dataframe tbody tr th {\n",
       "        vertical-align: top;\n",
       "    }\n",
       "\n",
       "    .dataframe thead th {\n",
       "        text-align: right;\n",
       "    }\n",
       "</style>\n",
       "<table border=\"1\" class=\"dataframe\">\n",
       "  <thead>\n",
       "    <tr style=\"text-align: right;\">\n",
       "      <th></th>\n",
       "      <th>artist</th>\n",
       "      <th>title</th>\n",
       "    </tr>\n",
       "  </thead>\n",
       "  <tbody>\n",
       "    <tr>\n",
       "      <th>9712</th>\n",
       "      <td>A Flock Of Seagulls</td>\n",
       "      <td>Nightmares</td>\n",
       "    </tr>\n",
       "    <tr>\n",
       "      <th>2669</th>\n",
       "      <td>New Young Pony Club</td>\n",
       "      <td>Talking, Talking</td>\n",
       "    </tr>\n",
       "    <tr>\n",
       "      <th>11</th>\n",
       "      <td>Cut Copy</td>\n",
       "      <td>So Haunted</td>\n",
       "    </tr>\n",
       "    <tr>\n",
       "      <th>651</th>\n",
       "      <td>Depeche Mode</td>\n",
       "      <td>Told You So</td>\n",
       "    </tr>\n",
       "    <tr>\n",
       "      <th>2073</th>\n",
       "      <td>New Order</td>\n",
       "      <td>Close Range</td>\n",
       "    </tr>\n",
       "    <tr>\n",
       "      <th>10479</th>\n",
       "      <td>New Order</td>\n",
       "      <td>Round and Round</td>\n",
       "    </tr>\n",
       "    <tr>\n",
       "      <th>3275</th>\n",
       "      <td>Scissor Sisters</td>\n",
       "      <td>I Don't Feel Like Dancin'</td>\n",
       "    </tr>\n",
       "    <tr>\n",
       "      <th>382</th>\n",
       "      <td>The White Tie Affair</td>\n",
       "      <td>Candle (Sick And Tired)</td>\n",
       "    </tr>\n",
       "    <tr>\n",
       "      <th>4593</th>\n",
       "      <td>The Bees</td>\n",
       "      <td>Chicken Payback</td>\n",
       "    </tr>\n",
       "    <tr>\n",
       "      <th>3203</th>\n",
       "      <td>The Lovely Feathers</td>\n",
       "      <td>Frantic</td>\n",
       "    </tr>\n",
       "  </tbody>\n",
       "</table>\n",
       "</div>"
      ],
      "text/plain": [
       "                     artist                      title\n",
       "9712    A Flock Of Seagulls                 Nightmares\n",
       "2669    New Young Pony Club           Talking, Talking\n",
       "11                 Cut Copy                 So Haunted\n",
       "651            Depeche Mode                Told You So\n",
       "2073              New Order                Close Range\n",
       "10479             New Order            Round and Round\n",
       "3275        Scissor Sisters  I Don't Feel Like Dancin'\n",
       "382    The White Tie Affair    Candle (Sick And Tired)\n",
       "4593               The Bees            Chicken Payback\n",
       "3203    The Lovely Feathers                    Frantic"
      ]
     },
     "execution_count": 193,
     "metadata": {},
     "output_type": "execute_result"
    }
   ],
   "source": [
    "doc = texts[10479]\n",
    "vec_bow = dictionary.doc2bow(doc)\n",
    "vec_lsi = lsi[vec_bow]  # convert the query to LSI space\n",
    "#print(vec_lsi)\n",
    "\n",
    "from gensim import similarities\n",
    "index = similarities.MatrixSimilarity(lsi[corpus])  # transform corpus to LSI space and index it\n",
    "\n",
    "sims = index[vec_lsi]  # perform a similarity query against the corpus\n",
    "#print(len(sims) ) # print (document_number, document_similarity) 2-tuples\n",
    "\n",
    "df['NO_lsi_score_4'] = sims\n",
    "outline = df[ df.NO_lsi_score_4 > .96].sample(10)\n",
    "outline[['artist', 'title']]\n",
    "\n",
    "#indices: 10479, 444, 11, 4593, 2669, 9712, 5705, 3275, 10479, 7228, 3203"
   ]
  },
  {
   "cell_type": "code",
   "execution_count": 194,
   "metadata": {},
   "outputs": [],
   "source": [
    "df.to_csv('ldi_similarity_scores.csv')"
   ]
  },
  {
   "cell_type": "markdown",
   "metadata": {},
   "source": [
    "# Some EDA "
   ]
  },
  {
   "cell_type": "code",
   "execution_count": 195,
   "metadata": {},
   "outputs": [
    {
     "data": {
      "text/plain": [
       "0        [[tropicalia, 100], [mpb, 100], [energizing, 1...\n",
       "1        [[rock, 100], [acoustic, 100], [indie, 100], [...\n",
       "2        [[jytakampaa, 100], [aerodance, 100], [beatful...\n",
       "3        [[experimental, 100], [alternative, 60], [indi...\n",
       "4        [[80s, 100], [new wave, 60], [sting, 53], [new...\n",
       "                               ...                        \n",
       "10688    [[trance, 100], [dance, 36], [chillout, 27], [...\n",
       "10689    [[rock, 100], [singer-songwriter, 72], [house ...\n",
       "10690    [[rock, 100], [Canadian, 66], [blues, 33], [al...\n",
       "10691    [[jazz, 100], [jazz vocal, 100], [Blues Bar, 1...\n",
       "10692    [[dance, 100], [electro house, 100], [House, 6...\n",
       "Name: listed_tags, Length: 10693, dtype: object"
      ]
     },
     "execution_count": 195,
     "metadata": {},
     "output_type": "execute_result"
    }
   ],
   "source": [
    "df.listed_tags"
   ]
  },
  {
   "cell_type": "code",
   "execution_count": 196,
   "metadata": {},
   "outputs": [],
   "source": [
    "tags = [] \n",
    "\n",
    "for i, row in df.iterrows():\n",
    "    for g in row.listed_tags:\n",
    "        #print(g[0])\n",
    "        tags.append(g[0])"
   ]
  },
  {
   "cell_type": "code",
   "execution_count": 197,
   "metadata": {},
   "outputs": [
    {
     "data": {
      "text/plain": [
       "('rock', 2201)"
      ]
     },
     "execution_count": 197,
     "metadata": {},
     "output_type": "execute_result"
    }
   ],
   "source": [
    "from collections import Counter\n",
    "\n",
    "count = Counter(tags)\n",
    "topn = count.most_common(50)\n",
    "topn[0]"
   ]
  },
  {
   "cell_type": "code",
   "execution_count": null,
   "metadata": {},
   "outputs": [],
   "source": []
  },
  {
   "cell_type": "code",
   "execution_count": 198,
   "metadata": {},
   "outputs": [
    {
     "data": {
      "image/png": "[encoded data removed]",
      "text/plain": [
       "<Figure size 640x480 with 1 Axes>"
      ]
     },
     "metadata": {},
     "output_type": "display_data"
    },
    {
     "data": {
      "text/plain": [
       "<Figure size 432x288 with 0 Axes>"
      ]
     },
     "metadata": {},
     "output_type": "display_data"
    }
   ],
   "source": [
    "from matplotlib.pyplot import figure\n",
    "figure(num=None, figsize=(8, 6), dpi=80, facecolor='w', edgecolor='k')\n",
    "\n",
    "x_val = [x[0] for x in topn]\n",
    "y_val = [x[1] for x in topn]\n",
    "\n",
    "\n",
    "plt.plot(x_val,y_val, color = 'cornflowerblue')\n",
    "plt.plot(x_val,y_val,'or', color = 'royalblue')\n",
    "plt.title('50 Most Frequent Tags')\n",
    "plt.set_cmap('twilight')\n",
    "plt.xticks(rotation=90)\n",
    "plt.show()\n",
    "plt.savefig('50 Most Frequent Tags.jpg')\n"
   ]
  },
  {
   "cell_type": "code",
   "execution_count": 199,
   "metadata": {},
   "outputs": [
    {
     "data": {
      "text/plain": [
       "('rock', 2201)"
      ]
     },
     "execution_count": 199,
     "metadata": {},
     "output_type": "execute_result"
    }
   ],
   "source": [
    "lown = count.most_common()[:-50]\n",
    "lown[0]"
   ]
  },
  {
   "cell_type": "code",
   "execution_count": 200,
   "metadata": {},
   "outputs": [],
   "source": [
    "modif_df = df.copy()"
   ]
  },
  {
   "cell_type": "code",
   "execution_count": 201,
   "metadata": {},
   "outputs": [
    {
     "name": "stdout",
     "output_type": "stream",
     "text": [
      "10693\n"
     ]
    }
   ],
   "source": [
    "cleaned_tags = []\n",
    "for i, row in modif_df.iterrows():\n",
    "    new_tags = []\n",
    "    for g in row.listed_tags:\n",
    "        if g[0] not in tag_genre_to_replace:\n",
    "            new_tags.append(g)\n",
    "    cleaned_tags.append(new_tags)\n",
    "\n",
    "print(len(cleaned_tags))"
   ]
  },
  {
   "cell_type": "code",
   "execution_count": 202,
   "metadata": {},
   "outputs": [],
   "source": [
    "modif_df['listed_tags'] = cleaned_tags"
   ]
  },
  {
   "cell_type": "code",
   "execution_count": 203,
   "metadata": {},
   "outputs": [
    {
     "data": {
      "text/html": [
       "<div>\n",
       "<style scoped>\n",
       "    .dataframe tbody tr th:only-of-type {\n",
       "        vertical-align: middle;\n",
       "    }\n",
       "\n",
       "    .dataframe tbody tr th {\n",
       "        vertical-align: top;\n",
       "    }\n",
       "\n",
       "    .dataframe thead th {\n",
       "        text-align: right;\n",
       "    }\n",
       "</style>\n",
       "<table border=\"1\" class=\"dataframe\">\n",
       "  <thead>\n",
       "    <tr style=\"text-align: right;\">\n",
       "      <th></th>\n",
       "      <th>Unnamed: 0</th>\n",
       "      <th>Unnamed: 0.1</th>\n",
       "      <th>artist</th>\n",
       "      <th>timestamp</th>\n",
       "      <th>similars</th>\n",
       "      <th>tags</th>\n",
       "      <th>track_id</th>\n",
       "      <th>title</th>\n",
       "      <th>listed_tags</th>\n",
       "      <th>listed_sims</th>\n",
       "      <th>...</th>\n",
       "      <th>RO_lsi_score</th>\n",
       "      <th>RO_lsi_score_2</th>\n",
       "      <th>NO_lsi_score</th>\n",
       "      <th>NO_lsi_score_2</th>\n",
       "      <th>TEB_lsi_score_3</th>\n",
       "      <th>RO_lsi_score_3</th>\n",
       "      <th>NO_lsi_score_3</th>\n",
       "      <th>TEB_lsi_score_4</th>\n",
       "      <th>RO_lsi_score_4</th>\n",
       "      <th>NO_lsi_score_4</th>\n",
       "    </tr>\n",
       "  </thead>\n",
       "  <tbody>\n",
       "    <tr>\n",
       "      <th>0</th>\n",
       "      <td>70530</td>\n",
       "      <td>70530</td>\n",
       "      <td>Caetano Veloso</td>\n",
       "      <td>2011-08-10 11:20:56.295466</td>\n",
       "      <td>[['TRYNMZY12903CA8E1E', 0.541769], ['TRXNTAD12...</td>\n",
       "      <td>[['tropicalia', '100'], ['mpb', '100'], ['ener...</td>\n",
       "      <td>TRJZGTA128F9312D1F</td>\n",
       "      <td>A Luz De Tieta</td>\n",
       "      <td>[[tropicalia, 100], [mpb, 100], [energizing, 1...</td>\n",
       "      <td>[[TRYNMZY12903CA8E1E, 0.541769], [TRXNTAD128F4...</td>\n",
       "      <td>...</td>\n",
       "      <td>0.671620</td>\n",
       "      <td>0.671620</td>\n",
       "      <td>0.746400</td>\n",
       "      <td>0.746400</td>\n",
       "      <td>0.587655</td>\n",
       "      <td>0.875898</td>\n",
       "      <td>0.806741</td>\n",
       "      <td>0.435761</td>\n",
       "      <td>0.435761</td>\n",
       "      <td>0.746728</td>\n",
       "    </tr>\n",
       "    <tr>\n",
       "      <th>1</th>\n",
       "      <td>50410</td>\n",
       "      <td>50410</td>\n",
       "      <td>The Pretenders</td>\n",
       "      <td>2011-08-11 06:36:45.175755</td>\n",
       "      <td>[]</td>\n",
       "      <td>[['rock', '100'], ['acoustic', '100'], ['indie...</td>\n",
       "      <td>TRODUVR128F92E2329</td>\n",
       "      <td>Nothing Breaks Like a Heart</td>\n",
       "      <td>[[reggae, 100], [new wave, 100], [female vocal...</td>\n",
       "      <td>[]</td>\n",
       "      <td>...</td>\n",
       "      <td>0.434531</td>\n",
       "      <td>0.434531</td>\n",
       "      <td>0.732019</td>\n",
       "      <td>0.732019</td>\n",
       "      <td>0.948460</td>\n",
       "      <td>0.946270</td>\n",
       "      <td>0.893116</td>\n",
       "      <td>0.862757</td>\n",
       "      <td>0.862757</td>\n",
       "      <td>0.732084</td>\n",
       "    </tr>\n",
       "    <tr>\n",
       "      <th>2</th>\n",
       "      <td>132834</td>\n",
       "      <td>132834</td>\n",
       "      <td>Ultrabeat</td>\n",
       "      <td>2011-08-03 15:03:28.354306</td>\n",
       "      <td>[['TRKTBLX128F428412B', 0.90692], ['TRZBKSJ128...</td>\n",
       "      <td>[['jytakampaa', '100'], ['aerodance', '100'], ...</td>\n",
       "      <td>TRVNTSO128F4284128</td>\n",
       "      <td>1000 Kisses</td>\n",
       "      <td>[[jytakampaa, 100], [aerodance, 100], [beatful...</td>\n",
       "      <td>[[TRKTBLX128F428412B, 0.90692], [TRZBKSJ128F42...</td>\n",
       "      <td>...</td>\n",
       "      <td>-0.004706</td>\n",
       "      <td>-0.004706</td>\n",
       "      <td>0.454101</td>\n",
       "      <td>0.454101</td>\n",
       "      <td>0.231160</td>\n",
       "      <td>0.415860</td>\n",
       "      <td>0.150495</td>\n",
       "      <td>0.052019</td>\n",
       "      <td>0.052019</td>\n",
       "      <td>0.453590</td>\n",
       "    </tr>\n",
       "    <tr>\n",
       "      <th>3</th>\n",
       "      <td>177084</td>\n",
       "      <td>177084</td>\n",
       "      <td>Holy Fuck</td>\n",
       "      <td>2011-08-08 16:05:11.997170</td>\n",
       "      <td>[['TRBFCSM128F42629F1', 1], ['TRDZTKM128F42629...</td>\n",
       "      <td>[['experimental', '100'], ['alternative', '60'...</td>\n",
       "      <td>TRXJUGX128F42629F8</td>\n",
       "      <td>Bontempi Latin</td>\n",
       "      <td>[[experimental, 100], [indietronica, 50], [pos...</td>\n",
       "      <td>[[TRBFCSM128F42629F1, 1], [TRDZTKM128F42629E7,...</td>\n",
       "      <td>...</td>\n",
       "      <td>0.305738</td>\n",
       "      <td>0.305738</td>\n",
       "      <td>0.617331</td>\n",
       "      <td>0.617331</td>\n",
       "      <td>0.611882</td>\n",
       "      <td>0.743870</td>\n",
       "      <td>0.529081</td>\n",
       "      <td>0.511281</td>\n",
       "      <td>0.511281</td>\n",
       "      <td>0.617280</td>\n",
       "    </tr>\n",
       "    <tr>\n",
       "      <th>4</th>\n",
       "      <td>58690</td>\n",
       "      <td>58690</td>\n",
       "      <td>Arcadia</td>\n",
       "      <td>2011-08-04 07:03:34.630701</td>\n",
       "      <td>[['TRNQLBS128F14571A9', 1], ['TRDLWLL128F14571...</td>\n",
       "      <td>[['80s', '100'], ['new wave', '60'], ['sting',...</td>\n",
       "      <td>TROKVJE128F14571A8</td>\n",
       "      <td>The Promise</td>\n",
       "      <td>[[80s, 100], [new wave, 60], [sting, 53], [new...</td>\n",
       "      <td>[[TRNQLBS128F14571A9, 1], [TRDLWLL128F14571A6,...</td>\n",
       "      <td>...</td>\n",
       "      <td>0.346939</td>\n",
       "      <td>0.346939</td>\n",
       "      <td>0.839081</td>\n",
       "      <td>0.839081</td>\n",
       "      <td>0.961366</td>\n",
       "      <td>0.960324</td>\n",
       "      <td>0.941764</td>\n",
       "      <td>0.757374</td>\n",
       "      <td>0.757374</td>\n",
       "      <td>0.839100</td>\n",
       "    </tr>\n",
       "    <tr>\n",
       "      <th>...</th>\n",
       "      <td>...</td>\n",
       "      <td>...</td>\n",
       "      <td>...</td>\n",
       "      <td>...</td>\n",
       "      <td>...</td>\n",
       "      <td>...</td>\n",
       "      <td>...</td>\n",
       "      <td>...</td>\n",
       "      <td>...</td>\n",
       "      <td>...</td>\n",
       "      <td>...</td>\n",
       "      <td>...</td>\n",
       "      <td>...</td>\n",
       "      <td>...</td>\n",
       "      <td>...</td>\n",
       "      <td>...</td>\n",
       "      <td>...</td>\n",
       "      <td>...</td>\n",
       "      <td>...</td>\n",
       "      <td>...</td>\n",
       "      <td>...</td>\n",
       "    </tr>\n",
       "    <tr>\n",
       "      <th>10688</th>\n",
       "      <td>169069</td>\n",
       "      <td>169069</td>\n",
       "      <td>ATB</td>\n",
       "      <td>2011-08-15 11:43:14.442246</td>\n",
       "      <td>[['TRRDUAO128F14A03E2', 0.896112], ['TRRRTTF12...</td>\n",
       "      <td>[['trance', '100'], ['dance', '36'], ['chillou...</td>\n",
       "      <td>TRXTCJX128F14A03D7</td>\n",
       "      <td>Gentle Melody</td>\n",
       "      <td>[[trance, 100], [chillout, 27], [House, 27], [...</td>\n",
       "      <td>[[TRRDUAO128F14A03E2, 0.896112], [TRRRTTF128F9...</td>\n",
       "      <td>...</td>\n",
       "      <td>0.358266</td>\n",
       "      <td>0.358266</td>\n",
       "      <td>0.690748</td>\n",
       "      <td>0.690748</td>\n",
       "      <td>0.495964</td>\n",
       "      <td>0.797711</td>\n",
       "      <td>0.767045</td>\n",
       "      <td>0.174319</td>\n",
       "      <td>0.174319</td>\n",
       "      <td>0.690706</td>\n",
       "    </tr>\n",
       "    <tr>\n",
       "      <th>10689</th>\n",
       "      <td>18709</td>\n",
       "      <td>18709</td>\n",
       "      <td>Leon Russell</td>\n",
       "      <td>2011-08-16 01:20:24.691574</td>\n",
       "      <td>[['TRGBOGS128F92C1E7C', 0.932304], ['TREUSOF12...</td>\n",
       "      <td>[['rock', '100'], ['singer-songwriter', '72'],...</td>\n",
       "      <td>TRSDNCP128F92FAACA</td>\n",
       "      <td>Stranger In A Strange Land</td>\n",
       "      <td>[[house md, 72], [piano rock, 55], [Leon Russe...</td>\n",
       "      <td>[[TRGBOGS128F92C1E7C, 0.932304], [TREUSOF128E0...</td>\n",
       "      <td>...</td>\n",
       "      <td>0.807113</td>\n",
       "      <td>0.807113</td>\n",
       "      <td>0.511598</td>\n",
       "      <td>0.511598</td>\n",
       "      <td>0.890497</td>\n",
       "      <td>0.851475</td>\n",
       "      <td>0.734370</td>\n",
       "      <td>0.731697</td>\n",
       "      <td>0.731697</td>\n",
       "      <td>0.511548</td>\n",
       "    </tr>\n",
       "    <tr>\n",
       "      <th>10690</th>\n",
       "      <td>113147</td>\n",
       "      <td>113147</td>\n",
       "      <td>Big Sugar</td>\n",
       "      <td>2011-08-04 22:25:03.454069</td>\n",
       "      <td>[['TRQDZOA128F1467F9F', 0.135547], ['TRBLFCI12...</td>\n",
       "      <td>[['rock', '100'], ['Canadian', '66'], ['blues'...</td>\n",
       "      <td>TRDJFUW12903CE4271</td>\n",
       "      <td>Dear Mr. Fantasy</td>\n",
       "      <td>[[Canadian, 66], [favorites, 33], [covers that...</td>\n",
       "      <td>[[TRQDZOA128F1467F9F, 0.135547], [TRBLFCI128F9...</td>\n",
       "      <td>...</td>\n",
       "      <td>0.713066</td>\n",
       "      <td>0.713066</td>\n",
       "      <td>0.521495</td>\n",
       "      <td>0.521495</td>\n",
       "      <td>0.887979</td>\n",
       "      <td>0.767226</td>\n",
       "      <td>0.678782</td>\n",
       "      <td>0.808432</td>\n",
       "      <td>0.808432</td>\n",
       "      <td>0.521425</td>\n",
       "    </tr>\n",
       "    <tr>\n",
       "      <th>10691</th>\n",
       "      <td>47945</td>\n",
       "      <td>47945</td>\n",
       "      <td>Lorez Alexandria</td>\n",
       "      <td>2011-08-01 14:43:12.453855</td>\n",
       "      <td>[['TRDPDRG128F9316A63', 1], ['TRDBZWP128F9316A...</td>\n",
       "      <td>[['jazz', '100'], ['jazz vocal', '100'], ['Blu...</td>\n",
       "      <td>TROJRHA128F9316A67</td>\n",
       "      <td>Angel Eyes</td>\n",
       "      <td>[[jazz vocal, 100], [Blues Bar, 100]]</td>\n",
       "      <td>[[TRDPDRG128F9316A63, 1], [TRDBZWP128F9316A6A,...</td>\n",
       "      <td>...</td>\n",
       "      <td>0.096348</td>\n",
       "      <td>0.096348</td>\n",
       "      <td>-0.121482</td>\n",
       "      <td>-0.121482</td>\n",
       "      <td>-0.093026</td>\n",
       "      <td>0.111834</td>\n",
       "      <td>-0.161729</td>\n",
       "      <td>-0.059025</td>\n",
       "      <td>-0.059025</td>\n",
       "      <td>-0.121507</td>\n",
       "    </tr>\n",
       "    <tr>\n",
       "      <th>10692</th>\n",
       "      <td>85132</td>\n",
       "      <td>85132</td>\n",
       "      <td>Get Far</td>\n",
       "      <td>2011-08-10 01:06:41.526357</td>\n",
       "      <td>[['TRQDVUS128F9342D5B', 0.700153], ['TRITYRJ12...</td>\n",
       "      <td>[['dance', '100'], ['electro house', '100'], [...</td>\n",
       "      <td>TRJQUWK128F42347DF</td>\n",
       "      <td>Shining Star (Pornocult Vocal Mix)</td>\n",
       "      <td>[[electro house, 100], [House, 66], [tech hous...</td>\n",
       "      <td>[[TRQDVUS128F9342D5B, 0.700153], [TRITYRJ128F9...</td>\n",
       "      <td>...</td>\n",
       "      <td>0.073960</td>\n",
       "      <td>0.073960</td>\n",
       "      <td>0.597798</td>\n",
       "      <td>0.597798</td>\n",
       "      <td>0.412400</td>\n",
       "      <td>0.742307</td>\n",
       "      <td>0.707841</td>\n",
       "      <td>0.018277</td>\n",
       "      <td>0.018277</td>\n",
       "      <td>0.597812</td>\n",
       "    </tr>\n",
       "  </tbody>\n",
       "</table>\n",
       "<p>10693 rows × 25 columns</p>\n",
       "</div>"
      ],
      "text/plain": [
       "       Unnamed: 0  Unnamed: 0.1            artist                   timestamp  \\\n",
       "0           70530         70530    Caetano Veloso  2011-08-10 11:20:56.295466   \n",
       "1           50410         50410    The Pretenders  2011-08-11 06:36:45.175755   \n",
       "2          132834        132834         Ultrabeat  2011-08-03 15:03:28.354306   \n",
       "3          177084        177084         Holy Fuck  2011-08-08 16:05:11.997170   \n",
       "4           58690         58690           Arcadia  2011-08-04 07:03:34.630701   \n",
       "...           ...           ...               ...                         ...   \n",
       "10688      169069        169069               ATB  2011-08-15 11:43:14.442246   \n",
       "10689       18709         18709      Leon Russell  2011-08-16 01:20:24.691574   \n",
       "10690      113147        113147         Big Sugar  2011-08-04 22:25:03.454069   \n",
       "10691       47945         47945  Lorez Alexandria  2011-08-01 14:43:12.453855   \n",
       "10692       85132         85132           Get Far  2011-08-10 01:06:41.526357   \n",
       "\n",
       "                                                similars  \\\n",
       "0      [['TRYNMZY12903CA8E1E', 0.541769], ['TRXNTAD12...   \n",
       "1                                                     []   \n",
       "2      [['TRKTBLX128F428412B', 0.90692], ['TRZBKSJ128...   \n",
       "3      [['TRBFCSM128F42629F1', 1], ['TRDZTKM128F42629...   \n",
       "4      [['TRNQLBS128F14571A9', 1], ['TRDLWLL128F14571...   \n",
       "...                                                  ...   \n",
       "10688  [['TRRDUAO128F14A03E2', 0.896112], ['TRRRTTF12...   \n",
       "10689  [['TRGBOGS128F92C1E7C', 0.932304], ['TREUSOF12...   \n",
       "10690  [['TRQDZOA128F1467F9F', 0.135547], ['TRBLFCI12...   \n",
       "10691  [['TRDPDRG128F9316A63', 1], ['TRDBZWP128F9316A...   \n",
       "10692  [['TRQDVUS128F9342D5B', 0.700153], ['TRITYRJ12...   \n",
       "\n",
       "                                                    tags            track_id  \\\n",
       "0      [['tropicalia', '100'], ['mpb', '100'], ['ener...  TRJZGTA128F9312D1F   \n",
       "1      [['rock', '100'], ['acoustic', '100'], ['indie...  TRODUVR128F92E2329   \n",
       "2      [['jytakampaa', '100'], ['aerodance', '100'], ...  TRVNTSO128F4284128   \n",
       "3      [['experimental', '100'], ['alternative', '60'...  TRXJUGX128F42629F8   \n",
       "4      [['80s', '100'], ['new wave', '60'], ['sting',...  TROKVJE128F14571A8   \n",
       "...                                                  ...                 ...   \n",
       "10688  [['trance', '100'], ['dance', '36'], ['chillou...  TRXTCJX128F14A03D7   \n",
       "10689  [['rock', '100'], ['singer-songwriter', '72'],...  TRSDNCP128F92FAACA   \n",
       "10690  [['rock', '100'], ['Canadian', '66'], ['blues'...  TRDJFUW12903CE4271   \n",
       "10691  [['jazz', '100'], ['jazz vocal', '100'], ['Blu...  TROJRHA128F9316A67   \n",
       "10692  [['dance', '100'], ['electro house', '100'], [...  TRJQUWK128F42347DF   \n",
       "\n",
       "                                    title  \\\n",
       "0                          A Luz De Tieta   \n",
       "1             Nothing Breaks Like a Heart   \n",
       "2                             1000 Kisses   \n",
       "3                          Bontempi Latin   \n",
       "4                             The Promise   \n",
       "...                                   ...   \n",
       "10688                       Gentle Melody   \n",
       "10689          Stranger In A Strange Land   \n",
       "10690                    Dear Mr. Fantasy   \n",
       "10691                          Angel Eyes   \n",
       "10692  Shining Star (Pornocult Vocal Mix)   \n",
       "\n",
       "                                             listed_tags  \\\n",
       "0      [[tropicalia, 100], [mpb, 100], [energizing, 1...   \n",
       "1      [[reggae, 100], [new wave, 100], [female vocal...   \n",
       "2      [[jytakampaa, 100], [aerodance, 100], [beatful...   \n",
       "3      [[experimental, 100], [indietronica, 50], [pos...   \n",
       "4      [[80s, 100], [new wave, 60], [sting, 53], [new...   \n",
       "...                                                  ...   \n",
       "10688  [[trance, 100], [chillout, 27], [House, 27], [...   \n",
       "10689  [[house md, 72], [piano rock, 55], [Leon Russe...   \n",
       "10690  [[Canadian, 66], [favorites, 33], [covers that...   \n",
       "10691              [[jazz vocal, 100], [Blues Bar, 100]]   \n",
       "10692  [[electro house, 100], [House, 66], [tech hous...   \n",
       "\n",
       "                                             listed_sims  ... RO_lsi_score  \\\n",
       "0      [[TRYNMZY12903CA8E1E, 0.541769], [TRXNTAD128F4...  ...     0.671620   \n",
       "1                                                     []  ...     0.434531   \n",
       "2      [[TRKTBLX128F428412B, 0.90692], [TRZBKSJ128F42...  ...    -0.004706   \n",
       "3      [[TRBFCSM128F42629F1, 1], [TRDZTKM128F42629E7,...  ...     0.305738   \n",
       "4      [[TRNQLBS128F14571A9, 1], [TRDLWLL128F14571A6,...  ...     0.346939   \n",
       "...                                                  ...  ...          ...   \n",
       "10688  [[TRRDUAO128F14A03E2, 0.896112], [TRRRTTF128F9...  ...     0.358266   \n",
       "10689  [[TRGBOGS128F92C1E7C, 0.932304], [TREUSOF128E0...  ...     0.807113   \n",
       "10690  [[TRQDZOA128F1467F9F, 0.135547], [TRBLFCI128F9...  ...     0.713066   \n",
       "10691  [[TRDPDRG128F9316A63, 1], [TRDBZWP128F9316A6A,...  ...     0.096348   \n",
       "10692  [[TRQDVUS128F9342D5B, 0.700153], [TRITYRJ128F9...  ...     0.073960   \n",
       "\n",
       "      RO_lsi_score_2  NO_lsi_score  NO_lsi_score_2  TEB_lsi_score_3  \\\n",
       "0           0.671620      0.746400        0.746400         0.587655   \n",
       "1           0.434531      0.732019        0.732019         0.948460   \n",
       "2          -0.004706      0.454101        0.454101         0.231160   \n",
       "3           0.305738      0.617331        0.617331         0.611882   \n",
       "4           0.346939      0.839081        0.839081         0.961366   \n",
       "...              ...           ...             ...              ...   \n",
       "10688       0.358266      0.690748        0.690748         0.495964   \n",
       "10689       0.807113      0.511598        0.511598         0.890497   \n",
       "10690       0.713066      0.521495        0.521495         0.887979   \n",
       "10691       0.096348     -0.121482       -0.121482        -0.093026   \n",
       "10692       0.073960      0.597798        0.597798         0.412400   \n",
       "\n",
       "       RO_lsi_score_3  NO_lsi_score_3  TEB_lsi_score_4  RO_lsi_score_4  \\\n",
       "0            0.875898        0.806741         0.435761        0.435761   \n",
       "1            0.946270        0.893116         0.862757        0.862757   \n",
       "2            0.415860        0.150495         0.052019        0.052019   \n",
       "3            0.743870        0.529081         0.511281        0.511281   \n",
       "4            0.960324        0.941764         0.757374        0.757374   \n",
       "...               ...             ...              ...             ...   \n",
       "10688        0.797711        0.767045         0.174319        0.174319   \n",
       "10689        0.851475        0.734370         0.731697        0.731697   \n",
       "10690        0.767226        0.678782         0.808432        0.808432   \n",
       "10691        0.111834       -0.161729        -0.059025       -0.059025   \n",
       "10692        0.742307        0.707841         0.018277        0.018277   \n",
       "\n",
       "       NO_lsi_score_4  \n",
       "0            0.746728  \n",
       "1            0.732084  \n",
       "2            0.453590  \n",
       "3            0.617280  \n",
       "4            0.839100  \n",
       "...               ...  \n",
       "10688        0.690706  \n",
       "10689        0.511548  \n",
       "10690        0.521425  \n",
       "10691       -0.121507  \n",
       "10692        0.597812  \n",
       "\n",
       "[10693 rows x 25 columns]"
      ]
     },
     "execution_count": 203,
     "metadata": {},
     "output_type": "execute_result"
    }
   ],
   "source": [
    "modif_df"
   ]
  },
  {
   "cell_type": "code",
   "execution_count": 204,
   "metadata": {},
   "outputs": [],
   "source": [
    "from collections import Counter\n",
    "\n",
    "tags = [] \n",
    "\n",
    "for i, row in modif_df.iterrows():\n",
    "    for g in row.listed_tags:\n",
    "        #print(g[0])\n",
    "        tags.append(g[0])\n",
    "\n",
    "count = Counter(tags)\n",
    "topn = count.most_common(50)"
   ]
  },
  {
   "cell_type": "code",
   "execution_count": 205,
   "metadata": {},
   "outputs": [
    {
     "data": {
      "image/png": "[encoded data removed]",
      "text/plain": [
       "<Figure size 640x480 with 1 Axes>"
      ]
     },
     "metadata": {},
     "output_type": "display_data"
    },
    {
     "data": {
      "text/plain": [
       "<Figure size 432x288 with 0 Axes>"
      ]
     },
     "metadata": {},
     "output_type": "display_data"
    }
   ],
   "source": [
    "from matplotlib.pyplot import figure\n",
    "figure(num=None, figsize=(8, 6), dpi=80, facecolor='w', edgecolor='k')\n",
    "\n",
    "x_val = [x[0] for x in topn]\n",
    "y_val = [x[1] for x in topn]\n",
    "\n",
    "plt.plot(x_val,y_val, color = 'cornflowerblue')\n",
    "plt.plot(x_val,y_val,'or', color = 'royalblue')\n",
    "plt.title('50 Most Frequent Tags, Major Frequent Genres Removed')\n",
    "plt.xticks(rotation=90)\n",
    "plt.show()\n",
    "plt.savefig('50Most Frequent Tags, Major Frequent Genres Removed.jpg')"
   ]
  },
  {
   "cell_type": "markdown",
   "metadata": {},
   "source": [
    "### After removal of high frequency genre tags, I reran the methods that utilized tags to compare recommended tracks for variations. "
   ]
  },
  {
   "cell_type": "code",
   "execution_count": null,
   "metadata": {},
   "outputs": [],
   "source": []
  }
 ],
 "metadata": {
  "kernelspec": {
   "display_name": "Python 3",
   "language": "python",
   "name": "python3"
  },
  "language_info": {
   "codemirror_mode": {
    "name": "ipython",
    "version": 3
   },
   "file_extension": ".py",
   "mimetype": "text/x-python",
   "name": "python",
   "nbconvert_exporter": "python",
   "pygments_lexer": "ipython3",
   "version": "3.7.6"
  }
 },
 "nbformat": 4,
 "nbformat_minor": 4
}

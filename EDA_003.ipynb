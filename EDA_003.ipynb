{
 "cells": [
  {
   "cell_type": "code",
   "execution_count": 1,
   "metadata": {},
   "outputs": [],
   "source": [
    "import pandas as pd "
   ]
  },
  {
   "cell_type": "code",
   "execution_count": 2,
   "metadata": {},
   "outputs": [],
   "source": [
    "df = pd.read_csv('/Users/elizbr/Downloads/lastfm_train/df1.csv', header =0, )"
   ]
  },
  {
   "cell_type": "code",
   "execution_count": 3,
   "metadata": {},
   "outputs": [],
   "source": [
    "df = df.sample(20000)"
   ]
  },
  {
   "cell_type": "code",
   "execution_count": 4,
   "metadata": {},
   "outputs": [
    {
     "data": {
      "text/plain": [
       "str"
      ]
     },
     "execution_count": 4,
     "metadata": {},
     "output_type": "execute_result"
    }
   ],
   "source": [
    "type(df.tags.iloc[2])"
   ]
  },
  {
   "cell_type": "code",
   "execution_count": 5,
   "metadata": {},
   "outputs": [],
   "source": [
    "similars = df.similars.to_list()"
   ]
  },
  {
   "cell_type": "code",
   "execution_count": 6,
   "metadata": {},
   "outputs": [
    {
     "data": {
      "text/html": [
       "<div>\n",
       "<style scoped>\n",
       "    .dataframe tbody tr th:only-of-type {\n",
       "        vertical-align: middle;\n",
       "    }\n",
       "\n",
       "    .dataframe tbody tr th {\n",
       "        vertical-align: top;\n",
       "    }\n",
       "\n",
       "    .dataframe thead th {\n",
       "        text-align: right;\n",
       "    }\n",
       "</style>\n",
       "<table border=\"1\" class=\"dataframe\">\n",
       "  <thead>\n",
       "    <tr style=\"text-align: right;\">\n",
       "      <th></th>\n",
       "      <th>Unnamed: 0</th>\n",
       "      <th>artist</th>\n",
       "      <th>timestamp</th>\n",
       "      <th>similars</th>\n",
       "      <th>tags</th>\n",
       "      <th>track_id</th>\n",
       "      <th>title</th>\n",
       "    </tr>\n",
       "  </thead>\n",
       "  <tbody>\n",
       "    <tr>\n",
       "      <th>70530</th>\n",
       "      <td>70530</td>\n",
       "      <td>Caetano Veloso</td>\n",
       "      <td>2011-08-10 11:20:56.295466</td>\n",
       "      <td>[['TRYNMZY12903CA8E1E', 0.541769], ['TRXNTAD12...</td>\n",
       "      <td>[['tropicalia', '100'], ['mpb', '100'], ['ener...</td>\n",
       "      <td>TRJZGTA128F9312D1F</td>\n",
       "      <td>A Luz De Tieta</td>\n",
       "    </tr>\n",
       "    <tr>\n",
       "      <th>50410</th>\n",
       "      <td>50410</td>\n",
       "      <td>The Pretenders</td>\n",
       "      <td>2011-08-11 06:36:45.175755</td>\n",
       "      <td>[]</td>\n",
       "      <td>[['rock', '100'], ['acoustic', '100'], ['indie...</td>\n",
       "      <td>TRODUVR128F92E2329</td>\n",
       "      <td>Nothing Breaks Like a Heart</td>\n",
       "    </tr>\n",
       "    <tr>\n",
       "      <th>132834</th>\n",
       "      <td>132834</td>\n",
       "      <td>Ultrabeat</td>\n",
       "      <td>2011-08-03 15:03:28.354306</td>\n",
       "      <td>[['TRKTBLX128F428412B', 0.90692], ['TRZBKSJ128...</td>\n",
       "      <td>[['jytakampaa', '100'], ['aerodance', '100'], ...</td>\n",
       "      <td>TRVNTSO128F4284128</td>\n",
       "      <td>1000 Kisses</td>\n",
       "    </tr>\n",
       "    <tr>\n",
       "      <th>177084</th>\n",
       "      <td>177084</td>\n",
       "      <td>Holy Fuck</td>\n",
       "      <td>2011-08-08 16:05:11.997170</td>\n",
       "      <td>[['TRBFCSM128F42629F1', 1], ['TRDZTKM128F42629...</td>\n",
       "      <td>[['experimental', '100'], ['alternative', '60'...</td>\n",
       "      <td>TRXJUGX128F42629F8</td>\n",
       "      <td>Bontempi Latin</td>\n",
       "    </tr>\n",
       "    <tr>\n",
       "      <th>58690</th>\n",
       "      <td>58690</td>\n",
       "      <td>Arcadia</td>\n",
       "      <td>2011-08-04 07:03:34.630701</td>\n",
       "      <td>[['TRNQLBS128F14571A9', 1], ['TRDLWLL128F14571...</td>\n",
       "      <td>[['80s', '100'], ['new wave', '60'], ['sting',...</td>\n",
       "      <td>TROKVJE128F14571A8</td>\n",
       "      <td>The Promise</td>\n",
       "    </tr>\n",
       "    <tr>\n",
       "      <th>...</th>\n",
       "      <td>...</td>\n",
       "      <td>...</td>\n",
       "      <td>...</td>\n",
       "      <td>...</td>\n",
       "      <td>...</td>\n",
       "      <td>...</td>\n",
       "      <td>...</td>\n",
       "    </tr>\n",
       "    <tr>\n",
       "      <th>169069</th>\n",
       "      <td>169069</td>\n",
       "      <td>ATB</td>\n",
       "      <td>2011-08-15 11:43:14.442246</td>\n",
       "      <td>[['TRRDUAO128F14A03E2', 0.896112], ['TRRRTTF12...</td>\n",
       "      <td>[['trance', '100'], ['dance', '36'], ['chillou...</td>\n",
       "      <td>TRXTCJX128F14A03D7</td>\n",
       "      <td>Gentle Melody</td>\n",
       "    </tr>\n",
       "    <tr>\n",
       "      <th>18709</th>\n",
       "      <td>18709</td>\n",
       "      <td>Leon Russell</td>\n",
       "      <td>2011-08-16 01:20:24.691574</td>\n",
       "      <td>[['TRGBOGS128F92C1E7C', 0.932304], ['TREUSOF12...</td>\n",
       "      <td>[['rock', '100'], ['singer-songwriter', '72'],...</td>\n",
       "      <td>TRSDNCP128F92FAACA</td>\n",
       "      <td>Stranger In A Strange Land</td>\n",
       "    </tr>\n",
       "    <tr>\n",
       "      <th>113147</th>\n",
       "      <td>113147</td>\n",
       "      <td>Big Sugar</td>\n",
       "      <td>2011-08-04 22:25:03.454069</td>\n",
       "      <td>[['TRQDZOA128F1467F9F', 0.135547], ['TRBLFCI12...</td>\n",
       "      <td>[['rock', '100'], ['Canadian', '66'], ['blues'...</td>\n",
       "      <td>TRDJFUW12903CE4271</td>\n",
       "      <td>Dear Mr. Fantasy</td>\n",
       "    </tr>\n",
       "    <tr>\n",
       "      <th>47945</th>\n",
       "      <td>47945</td>\n",
       "      <td>Lorez Alexandria</td>\n",
       "      <td>2011-08-01 14:43:12.453855</td>\n",
       "      <td>[['TRDPDRG128F9316A63', 1], ['TRDBZWP128F9316A...</td>\n",
       "      <td>[['jazz', '100'], ['jazz vocal', '100'], ['Blu...</td>\n",
       "      <td>TROJRHA128F9316A67</td>\n",
       "      <td>Angel Eyes</td>\n",
       "    </tr>\n",
       "    <tr>\n",
       "      <th>85132</th>\n",
       "      <td>85132</td>\n",
       "      <td>Get Far</td>\n",
       "      <td>2011-08-10 01:06:41.526357</td>\n",
       "      <td>[['TRQDVUS128F9342D5B', 0.700153], ['TRITYRJ12...</td>\n",
       "      <td>[['dance', '100'], ['electro house', '100'], [...</td>\n",
       "      <td>TRJQUWK128F42347DF</td>\n",
       "      <td>Shining Star (Pornocult Vocal Mix)</td>\n",
       "    </tr>\n",
       "  </tbody>\n",
       "</table>\n",
       "<p>10693 rows × 7 columns</p>\n",
       "</div>"
      ],
      "text/plain": [
       "        Unnamed: 0            artist                   timestamp  \\\n",
       "70530        70530    Caetano Veloso  2011-08-10 11:20:56.295466   \n",
       "50410        50410    The Pretenders  2011-08-11 06:36:45.175755   \n",
       "132834      132834         Ultrabeat  2011-08-03 15:03:28.354306   \n",
       "177084      177084         Holy Fuck  2011-08-08 16:05:11.997170   \n",
       "58690        58690           Arcadia  2011-08-04 07:03:34.630701   \n",
       "...            ...               ...                         ...   \n",
       "169069      169069               ATB  2011-08-15 11:43:14.442246   \n",
       "18709        18709      Leon Russell  2011-08-16 01:20:24.691574   \n",
       "113147      113147         Big Sugar  2011-08-04 22:25:03.454069   \n",
       "47945        47945  Lorez Alexandria  2011-08-01 14:43:12.453855   \n",
       "85132        85132           Get Far  2011-08-10 01:06:41.526357   \n",
       "\n",
       "                                                 similars  \\\n",
       "70530   [['TRYNMZY12903CA8E1E', 0.541769], ['TRXNTAD12...   \n",
       "50410                                                  []   \n",
       "132834  [['TRKTBLX128F428412B', 0.90692], ['TRZBKSJ128...   \n",
       "177084  [['TRBFCSM128F42629F1', 1], ['TRDZTKM128F42629...   \n",
       "58690   [['TRNQLBS128F14571A9', 1], ['TRDLWLL128F14571...   \n",
       "...                                                   ...   \n",
       "169069  [['TRRDUAO128F14A03E2', 0.896112], ['TRRRTTF12...   \n",
       "18709   [['TRGBOGS128F92C1E7C', 0.932304], ['TREUSOF12...   \n",
       "113147  [['TRQDZOA128F1467F9F', 0.135547], ['TRBLFCI12...   \n",
       "47945   [['TRDPDRG128F9316A63', 1], ['TRDBZWP128F9316A...   \n",
       "85132   [['TRQDVUS128F9342D5B', 0.700153], ['TRITYRJ12...   \n",
       "\n",
       "                                                     tags            track_id  \\\n",
       "70530   [['tropicalia', '100'], ['mpb', '100'], ['ener...  TRJZGTA128F9312D1F   \n",
       "50410   [['rock', '100'], ['acoustic', '100'], ['indie...  TRODUVR128F92E2329   \n",
       "132834  [['jytakampaa', '100'], ['aerodance', '100'], ...  TRVNTSO128F4284128   \n",
       "177084  [['experimental', '100'], ['alternative', '60'...  TRXJUGX128F42629F8   \n",
       "58690   [['80s', '100'], ['new wave', '60'], ['sting',...  TROKVJE128F14571A8   \n",
       "...                                                   ...                 ...   \n",
       "169069  [['trance', '100'], ['dance', '36'], ['chillou...  TRXTCJX128F14A03D7   \n",
       "18709   [['rock', '100'], ['singer-songwriter', '72'],...  TRSDNCP128F92FAACA   \n",
       "113147  [['rock', '100'], ['Canadian', '66'], ['blues'...  TRDJFUW12903CE4271   \n",
       "47945   [['jazz', '100'], ['jazz vocal', '100'], ['Blu...  TROJRHA128F9316A67   \n",
       "85132   [['dance', '100'], ['electro house', '100'], [...  TRJQUWK128F42347DF   \n",
       "\n",
       "                                     title  \n",
       "70530                       A Luz De Tieta  \n",
       "50410          Nothing Breaks Like a Heart  \n",
       "132834                         1000 Kisses  \n",
       "177084                      Bontempi Latin  \n",
       "58690                          The Promise  \n",
       "...                                    ...  \n",
       "169069                       Gentle Melody  \n",
       "18709           Stranger In A Strange Land  \n",
       "113147                    Dear Mr. Fantasy  \n",
       "47945                           Angel Eyes  \n",
       "85132   Shining Star (Pornocult Vocal Mix)  \n",
       "\n",
       "[10693 rows x 7 columns]"
      ]
     },
     "execution_count": 6,
     "metadata": {},
     "output_type": "execute_result"
    }
   ],
   "source": [
    "df = df[ df.astype(str)['tags'] != '[]' ]\n",
    "df"
   ]
  },
  {
   "cell_type": "code",
   "execution_count": 8,
   "metadata": {},
   "outputs": [],
   "source": [
    "df.to_csv('sampler_671.csv')"
   ]
  },
  {
   "cell_type": "code",
   "execution_count": 7,
   "metadata": {
    "scrolled": true
   },
   "outputs": [],
   "source": [
    "import ast \n",
    "list_tags = []\n",
    "\n",
    "for index, row in df.iterrows():\n",
    "    f = ast.literal_eval(row.tags)\n",
    "    for x in f:\n",
    "        list_tags.append(x[0])\n",
    "    row.tags = f"
   ]
  },
  {
   "cell_type": "code",
   "execution_count": 8,
   "metadata": {
    "scrolled": true
   },
   "outputs": [
    {
     "data": {
      "text/plain": [
       "[('rock', 2113),\n",
       " ('pop', 1389),\n",
       " ('alternative', 1194),\n",
       " ('electronic', 1021),\n",
       " ('indie', 1011),\n",
       " ('female vocalists', 872),\n",
       " ('favorites', 844),\n",
       " ('Love', 739),\n",
       " ('dance', 728),\n",
       " ('beautiful', 655),\n",
       " ('alternative rock', 648),\n",
       " ('00s', 605),\n",
       " ('chillout', 600),\n",
       " ('jazz', 600),\n",
       " ('singer-songwriter', 584),\n",
       " ('male vocalists', 575),\n",
       " ('metal', 564),\n",
       " ('classic rock', 562),\n",
       " ('Awesome', 554),\n",
       " ('Mellow', 552)]"
      ]
     },
     "execution_count": 8,
     "metadata": {},
     "output_type": "execute_result"
    }
   ],
   "source": [
    "from collections import Counter \n",
    "  \n",
    "occurence_count = Counter(list_tags) \n",
    "occurence_count.most_common(20)"
   ]
  },
  {
   "cell_type": "code",
   "execution_count": 9,
   "metadata": {},
   "outputs": [
    {
     "name": "stdout",
     "output_type": "stream",
     "text": [
      "No of unique items in the list are: 56191\n"
     ]
    }
   ],
   "source": [
    "# creating a list with the keys \n",
    "items = Counter(list_tags).keys() \n",
    "print(\"No of unique items in the list are:\", len(items)) "
   ]
  },
  {
   "cell_type": "code",
   "execution_count": 10,
   "metadata": {},
   "outputs": [
    {
     "data": {
      "text/plain": [
       "str"
      ]
     },
     "execution_count": 10,
     "metadata": {},
     "output_type": "execute_result"
    }
   ],
   "source": [
    "type(df.tags.iloc[0])"
   ]
  },
  {
   "cell_type": "code",
   "execution_count": 12,
   "metadata": {},
   "outputs": [],
   "source": [
    "## network \n",
    "\n",
    "# create from, to node df \n",
    "nodes = pd.DataFrame(columns = ['from_node', 'to_node', 'weight'])"
   ]
  },
  {
   "cell_type": "code",
   "execution_count": 13,
   "metadata": {},
   "outputs": [],
   "source": [
    "adds = []\n",
    "for index, row in df.iterrows():\n",
    "    fromN = row.track_id\n",
    "    f = ast.literal_eval(row.similars)\n",
    "    for x in f:\n",
    "        toN = x[0]\n",
    "        wght = x[1]\n",
    "        instance_dict = {\n",
    "            'from_node': fromN,\n",
    "            'to_node': toN,\n",
    "            'weight': wght\n",
    "        }\n",
    "        adds.append(instance_dict)\n",
    "        \n",
    "r = pd.DataFrame(adds)        "
   ]
  },
  {
   "cell_type": "code",
   "execution_count": 33,
   "metadata": {},
   "outputs": [
    {
     "data": {
      "text/html": [
       "<div>\n",
       "<style scoped>\n",
       "    .dataframe tbody tr th:only-of-type {\n",
       "        vertical-align: middle;\n",
       "    }\n",
       "\n",
       "    .dataframe tbody tr th {\n",
       "        vertical-align: top;\n",
       "    }\n",
       "\n",
       "    .dataframe thead th {\n",
       "        text-align: right;\n",
       "    }\n",
       "</style>\n",
       "<table border=\"1\" class=\"dataframe\">\n",
       "  <thead>\n",
       "    <tr style=\"text-align: right;\">\n",
       "      <th></th>\n",
       "      <th>from_node</th>\n",
       "      <th>to_node</th>\n",
       "      <th>weight</th>\n",
       "    </tr>\n",
       "  </thead>\n",
       "  <tbody>\n",
       "    <tr>\n",
       "      <th>0</th>\n",
       "      <td>TRVNZTW128F421D41B</td>\n",
       "      <td>TRHACXA128F421D405</td>\n",
       "      <td>1.0</td>\n",
       "    </tr>\n",
       "    <tr>\n",
       "      <th>77</th>\n",
       "      <td>TRSZMTS128F4264B4A</td>\n",
       "      <td>TRNFZLZ128F4263CDC</td>\n",
       "      <td>1.0</td>\n",
       "    </tr>\n",
       "    <tr>\n",
       "      <th>202</th>\n",
       "      <td>TRSCMLN128F4266361</td>\n",
       "      <td>TRPNXMF128F4266362</td>\n",
       "      <td>1.0</td>\n",
       "    </tr>\n",
       "    <tr>\n",
       "      <th>233</th>\n",
       "      <td>TRVVGUL128F92E7D34</td>\n",
       "      <td>TRAAMPA128F92E7D0D</td>\n",
       "      <td>1.0</td>\n",
       "    </tr>\n",
       "    <tr>\n",
       "      <th>352</th>\n",
       "      <td>TRSHHNK128F933A4FB</td>\n",
       "      <td>TRJUJSW128F933A4FF</td>\n",
       "      <td>1.0</td>\n",
       "    </tr>\n",
       "    <tr>\n",
       "      <th>...</th>\n",
       "      <td>...</td>\n",
       "      <td>...</td>\n",
       "      <td>...</td>\n",
       "    </tr>\n",
       "    <tr>\n",
       "      <th>906528</th>\n",
       "      <td>TRYTKQE128F42ADA50</td>\n",
       "      <td>TRNHCIP128F42ADA54</td>\n",
       "      <td>1.0</td>\n",
       "    </tr>\n",
       "    <tr>\n",
       "      <th>906767</th>\n",
       "      <td>TRXQWJI128F427AEB6</td>\n",
       "      <td>TRZRQPV128F427AEB7</td>\n",
       "      <td>1.0</td>\n",
       "    </tr>\n",
       "    <tr>\n",
       "      <th>906841</th>\n",
       "      <td>TRXIYDI128F9329837</td>\n",
       "      <td>TREDMEH128F933B1D2</td>\n",
       "      <td>1.0</td>\n",
       "    </tr>\n",
       "    <tr>\n",
       "      <th>906911</th>\n",
       "      <td>TRVKUWS128F4266115</td>\n",
       "      <td>TRFFLQD128EF34AE3F</td>\n",
       "      <td>1.0</td>\n",
       "    </tr>\n",
       "    <tr>\n",
       "      <th>906912</th>\n",
       "      <td>TRVKUWS128F4266115</td>\n",
       "      <td>TRQYUJC128F42495D0</td>\n",
       "      <td>1.0</td>\n",
       "    </tr>\n",
       "  </tbody>\n",
       "</table>\n",
       "<p>11324 rows × 3 columns</p>\n",
       "</div>"
      ],
      "text/plain": [
       "                 from_node             to_node  weight\n",
       "0       TRVNZTW128F421D41B  TRHACXA128F421D405     1.0\n",
       "77      TRSZMTS128F4264B4A  TRNFZLZ128F4263CDC     1.0\n",
       "202     TRSCMLN128F4266361  TRPNXMF128F4266362     1.0\n",
       "233     TRVVGUL128F92E7D34  TRAAMPA128F92E7D0D     1.0\n",
       "352     TRSHHNK128F933A4FB  TRJUJSW128F933A4FF     1.0\n",
       "...                    ...                 ...     ...\n",
       "906528  TRYTKQE128F42ADA50  TRNHCIP128F42ADA54     1.0\n",
       "906767  TRXQWJI128F427AEB6  TRZRQPV128F427AEB7     1.0\n",
       "906841  TRXIYDI128F9329837  TREDMEH128F933B1D2     1.0\n",
       "906911  TRVKUWS128F4266115  TRFFLQD128EF34AE3F     1.0\n",
       "906912  TRVKUWS128F4266115  TRQYUJC128F42495D0     1.0\n",
       "\n",
       "[11324 rows x 3 columns]"
      ]
     },
     "execution_count": 33,
     "metadata": {},
     "output_type": "execute_result"
    }
   ],
   "source": [
    "high_weight_r = r[ r.weight >= .95]\n",
    "high_weight_r"
   ]
  },
  {
   "cell_type": "code",
   "execution_count": 15,
   "metadata": {},
   "outputs": [
    {
     "data": {
      "text/plain": [
       "TRXBVYS128F92F993F    670\n",
       "TRYYDSC12903CC9D3A    624\n",
       "TRDFUHN128F92F14A5    606\n",
       "TRDWJAL128F92D7DD4    594\n",
       "TRVEXUH128F92F5663    581\n",
       "                     ... \n",
       "TRKNZKP128F931AFBE      1\n",
       "TRKBFVB128F145B21D      1\n",
       "TRSCTSE12903CA1FF0      1\n",
       "TRKDCCP128F930DC55      1\n",
       "TROLEMG128F932A52A      1\n",
       "Name: from_node, Length: 8455, dtype: int64"
      ]
     },
     "execution_count": 15,
     "metadata": {},
     "output_type": "execute_result"
    }
   ],
   "source": [
    "r.from_node.value_counts()"
   ]
  },
  {
   "cell_type": "code",
   "execution_count": 16,
   "metadata": {},
   "outputs": [
    {
     "data": {
      "text/plain": [
       "TRXNXOG12903CFAE0A    71\n",
       "TRKDWET12903CCB8A6    71\n",
       "TRFQGDR12903CE514A    71\n",
       "TRDJEDE12903CE5187    71\n",
       "TRMAVMJ12903CCB8AC    71\n",
       "                      ..\n",
       "TRWXLCG128F422028E     1\n",
       "TRPFIJS128F92F40CB     1\n",
       "TRSQJUN128F930A91E     1\n",
       "TRRDJAO128F149865F     1\n",
       "TRTIGPZ12903CB5576     1\n",
       "Name: to_node, Length: 272063, dtype: int64"
      ]
     },
     "execution_count": 16,
     "metadata": {},
     "output_type": "execute_result"
    }
   ],
   "source": [
    "r.to_node.value_counts()"
   ]
  },
  {
   "cell_type": "code",
   "execution_count": 17,
   "metadata": {},
   "outputs": [
    {
     "data": {
      "text/plain": [
       "1.000000    7713\n",
       "0.001146      63\n",
       "0.010255      60\n",
       "0.425070      60\n",
       "0.006197      56\n",
       "            ... \n",
       "0.038420       1\n",
       "0.224463       1\n",
       "0.000532       1\n",
       "0.019528       1\n",
       "0.088609       1\n",
       "Name: weight, Length: 537263, dtype: int64"
      ]
     },
     "execution_count": 17,
     "metadata": {},
     "output_type": "execute_result"
    }
   ],
   "source": [
    "r.weight.value_counts()"
   ]
  },
  {
   "cell_type": "code",
   "execution_count": 24,
   "metadata": {
    "scrolled": true
   },
   "outputs": [
    {
     "data": {
      "text/plain": [
       "0.09222512400997607"
      ]
     },
     "execution_count": 24,
     "metadata": {},
     "output_type": "execute_result"
    }
   ],
   "source": [
    "r.weight.mean()"
   ]
  },
  {
   "cell_type": "code",
   "execution_count": 21,
   "metadata": {},
   "outputs": [],
   "source": [
    "import pandas as pd \n",
    "import numpy as np \n",
    "import sklearn as skl\n",
    "import networkx as nx\n",
    "import matplotlib.pyplot as plt"
   ]
  },
  {
   "cell_type": "code",
   "execution_count": 25,
   "metadata": {},
   "outputs": [],
   "source": [
    "\n",
    "#G = nx.read_edgelist(\"test.edgelist\", nodetype=int, data=((\"weight\", float),))\n",
    "G = nx.from_pandas_edgelist(r, 'from_node', 'to_node') # data=((\"weight\", float),))\n"
   ]
  },
  {
   "cell_type": "code",
   "execution_count": 26,
   "metadata": {},
   "outputs": [
    {
     "data": {
      "image/png": "[encoded data removed]",
      "text/plain": [
       "<Figure size 432x288 with 1 Axes>"
      ]
     },
     "metadata": {},
     "output_type": "display_data"
    }
   ],
   "source": [
    "\n",
    "from matplotlib.pyplot import figure\n",
    "nx.draw_shell(G, with_labels=False)"
   ]
  },
  {
   "cell_type": "code",
   "execution_count": 50,
   "metadata": {},
   "outputs": [],
   "source": [
    "graph = nx.from_pandas_edgelist(high_weight_r, 'from_node', 'to_node')\n"
   ]
  },
  {
   "cell_type": "code",
   "execution_count": 37,
   "metadata": {
    "scrolled": true
   },
   "outputs": [
    {
     "data": {
      "image/png": "[encoded data removed]",
      "text/plain": [
       "<Figure size 432x288 with 1 Axes>"
      ]
     },
     "metadata": {},
     "output_type": "display_data"
    }
   ],
   "source": [
    "# Draw graph\n",
    "pos = nx.spring_layout(G)\n",
    "options = {\n",
    "    \"node_color\": \"blue\",\n",
    "    \"node_size\": 2,\n",
    "    \"edge_color\": \"grey\",\n",
    "    \"linewidths\": 0,\n",
    "    \"width\": 0.1,\n",
    "}\n",
    "nx.draw(G, pos)"
   ]
  },
  {
   "cell_type": "code",
   "execution_count": 52,
   "metadata": {},
   "outputs": [],
   "source": [
    " from matplotlib import pylab\n",
    " import networkx as nx\n",
    "\n",
    " def save_graph(graph,file_name):\n",
    "    #initialze Figure\n",
    "    plt.figure(num=None, figsize=(20, 20), dpi=80)\n",
    "    plt.axis('off')\n",
    "    fig = plt.figure(1)\n",
    "    pos = nx.spring_layout(graph)\n",
    "    nx.draw_networkx_nodes(graph,pos)\n",
    "    nx.draw_networkx_edges(graph,pos)\n",
    "    nx.draw_networkx_labels(graph,pos)\n",
    "\n",
    "    cut = 1.00\n",
    "    xmax = cut * max(xx for xx, yy in pos.values())\n",
    "    ymax = cut * max(yy for xx, yy in pos.values())\n",
    "    plt.xlim(0, xmax)\n",
    "    plt.ylim(0, ymax)\n",
    "\n",
    "    plt.savefig(file_name,bbox_inches=\"tight\")\n",
    "    pylab.close()\n",
    "    del fig\n",
    "\n",
    "#Assuming that the graph g has nodes and edges entered\n",
    "save_graph(graph,\"my_graph.pdf\")\n",
    "\n",
    "#it can also be saved in .svg, .png. or .ps formats"
   ]
  },
  {
   "cell_type": "code",
   "execution_count": 40,
   "metadata": {},
   "outputs": [],
   "source": [
    "from operator import itemgetter\n"
   ]
  },
  {
   "cell_type": "code",
   "execution_count": 41,
   "metadata": {
    "scrolled": true
   },
   "outputs": [],
   "source": [
    "node_and_degree = G.degree()\n",
    "(largest_hub, degree) = sorted(node_and_degree, key=itemgetter(1))[-1]"
   ]
  },
  {
   "cell_type": "code",
   "execution_count": 42,
   "metadata": {},
   "outputs": [],
   "source": [
    "# Create ego graph of main hub\n",
    "hub_ego = nx.ego_graph(G, largest_hub)"
   ]
  },
  {
   "cell_type": "code",
   "execution_count": 44,
   "metadata": {},
   "outputs": [
    {
     "data": {
      "image/png": "[encoded data removed]",
      "text/plain": [
       "<Figure size 432x288 with 1 Axes>"
      ]
     },
     "metadata": {},
     "output_type": "display_data"
    }
   ],
   "source": [
    "# Create ego graph of main hub\n",
    "hub_ego = nx.ego_graph(G, largest_hub)\n",
    "\n",
    "# Draw graph\n",
    "pos = nx.spring_layout(hub_ego)\n",
    "nx.draw(hub_ego, pos, node_color=\"b\", node_size=5, with_labels=False)\n",
    "\n",
    "# Draw ego as large and red\n",
    "options = {\"node_size\": 100, \"node_color\": \"r\"}\n",
    "nx.draw_networkx_nodes(hub_ego, pos, nodelist=[largest_hub], **options)\n",
    "plt.show()"
   ]
  },
  {
   "cell_type": "code",
   "execution_count": 45,
   "metadata": {},
   "outputs": [],
   "source": [
    "import math\n",
    "\n",
    "import matplotlib.pyplot as plt\n",
    "import networkx as nx\n",
    "\n",
    "# This example needs Graphviz and either PyGraphviz or pydot.\n",
    "# from networkx.drawing.nx_pydot import graphviz_layout as layout\n",
    "from networkx.drawing.nx_agraph import graphviz_layout as layout\n",
    "\n",
    "# If you don't have pygraphviz or pydot, you can do this\n",
    "# layout = nx.spring_layout"
   ]
  },
  {
   "cell_type": "code",
   "execution_count": 46,
   "metadata": {},
   "outputs": [],
   "source": [
    "\n",
    "n = 150  # 150 nodes\n",
    "# p value at which giant component (of size log(n) nodes) is expected\n",
    "p_giant = 1.0 / (n - 1)\n",
    "# p value at which graph is expected to become completely connected\n",
    "p_conn = math.log(n) / float(n)\n",
    "\n",
    "# the following range of p values should be close to the threshold\n",
    "pvals = [0.003, 0.006, 0.008, 0.015]\n"
   ]
  },
  {
   "cell_type": "code",
   "execution_count": 47,
   "metadata": {},
   "outputs": [
    {
     "data": {
      "text/plain": [
       "<Figure size 432x288 with 0 Axes>"
      ]
     },
     "metadata": {},
     "output_type": "display_data"
    }
   ],
   "source": [
    "region = 220  # for pylab 2x2 subplot layout\n",
    "plt.subplots_adjust(left=0, right=1, bottom=0, top=0.95, wspace=0.01, hspace=0.01)\n"
   ]
  },
  {
   "cell_type": "code",
   "execution_count": 48,
   "metadata": {},
   "outputs": [
    {
     "data": {
      "image/png": "[encoded data removed]",
      "text/plain": [
       "<Figure size 432x288 with 4 Axes>"
      ]
     },
     "metadata": {},
     "output_type": "display_data"
    }
   ],
   "source": [
    "for p in pvals:\n",
    "    G = nx.binomial_graph(n, p)\n",
    "    pos = layout(G)\n",
    "    region += 1\n",
    "    plt.subplot(region)\n",
    "    plt.title(f\"p = {p:.3f}\")\n",
    "    nx.draw(G, pos, with_labels=False, node_size=10)\n",
    "    # identify largest connected component\n",
    "    Gcc = sorted(nx.connected_components(G), key=len, reverse=True)\n",
    "    G0 = G.subgraph(Gcc[0])\n",
    "    nx.draw_networkx_edges(G0, pos, edge_color=\"r\", width=6.0)\n",
    "    # show other connected components\n",
    "    for Gi in Gcc[1:]:\n",
    "        if len(Gi) > 1:\n",
    "            nx.draw_networkx_edges(\n",
    "                G.subgraph(Gi), pos, edge_color=\"r\", alpha=0.3, width=5.0,\n",
    "            )\n",
    "plt.show()"
   ]
  },
  {
   "cell_type": "code",
   "execution_count": null,
   "metadata": {},
   "outputs": [],
   "source": []
  },
  {
   "cell_type": "code",
   "execution_count": null,
   "metadata": {},
   "outputs": [],
   "source": [
    "\n"
   ]
  }
 ],
 "metadata": {
  "kernelspec": {
   "display_name": "Python 3",
   "language": "python",
   "name": "python3"
  },
  "language_info": {
   "codemirror_mode": {
    "name": "ipython",
    "version": 3
   },
   "file_extension": ".py",
   "mimetype": "text/x-python",
   "name": "python",
   "nbconvert_exporter": "python",
   "pygments_lexer": "ipython3",
   "version": "3.7.6"
  }
 },
 "nbformat": 4,
 "nbformat_minor": 4
}
